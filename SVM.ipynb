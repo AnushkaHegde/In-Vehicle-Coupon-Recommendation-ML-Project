{
 "cells": [
  {
   "cell_type": "code",
   "execution_count": 1,
   "metadata": {},
   "outputs": [],
   "source": [
    "import numpy as np\n",
    "import pandas as pd\n",
    "import matplotlib.pyplot as plt\n",
    "from sklearn import datasets\n",
    "from sklearn.metrics import accuracy_score\n",
    "from sklearn.model_selection import train_test_split\n",
    "import random\n",
    "#from memory_profiler import profile"
   ]
  },
  {
   "cell_type": "code",
   "execution_count": 3,
   "metadata": {},
   "outputs": [],
   "source": [
    "'''Data Cleaning'''\n",
    "df = pd.read_csv(\"/Users/anushkahegde/Desktop/NEU/IE_7374_Machine_Learning/ml_project/Data_Set/Vehicle_Coupon.csv\")\n",
    "df.drop(['car', 'direction_same', 'toCoupon_GEQ5min'], axis=1, inplace=True)\n",
    "df['temperature'] = df['temperature'].astype(str)\n",
    "df = df.apply(lambda x: x.fillna(x.value_counts().index[0]))"
   ]
  },
  {
   "cell_type": "code",
   "execution_count": 4,
   "metadata": {},
   "outputs": [],
   "source": [
    "'''Create dummies and split data'''\n",
    "df_ohe = pd.get_dummies(df)\n",
    "X, y = df_ohe.drop(['Y'], axis=1), df_ohe['Y']\n",
    "y = np.where(y==0, -1, 1)"
   ]
  },
  {
   "cell_type": "code",
   "execution_count": 5,
   "metadata": {},
   "outputs": [],
   "source": [
    "X_train, X_test, y_train, y_test = train_test_split(X, y, \n",
    "                                                                        test_size=0.3,                                                                          \n",
    "                                                                        random_state = 1)\n",
    "X_train, X_valid, y_train, y_valid = train_test_split(X_train, y_train, \n",
    "                                                                        test_size=0.3,                                                                          \n",
    "                                                                        random_state = 1)\n",
    "\n",
    "X_train, X_valid, X_test = np.asarray(X_train), np.asarray(X_valid), np.asarray(X_test)\n",
    "y_train, y_valid, y_test = np.asarray(y_train), np.asarray(y_valid), np.asarray(y_test)"
   ]
  },
  {
   "cell_type": "code",
   "execution_count": 6,
   "metadata": {},
   "outputs": [],
   "source": [
    "class SMO():\n",
    "    def __init__(self, max_iter=100, kernel_type='linear', C=1.0, epsilon=1e-4):\n",
    "        self.kernels = {\n",
    "            'linear' : self.kernel_linear,\n",
    "            'poly' : self.kernel_poly,\n",
    "            'rbf' : self.kernel_rbf\n",
    "        }\n",
    "        self.max_iter = max_iter\n",
    "        self.kernel_type = kernel_type\n",
    "        self.C = C\n",
    "        self.epsilon = epsilon\n",
    "\n",
    "    def fit(self, X, y):\n",
    "        n, d = X.shape[0], X.shape[1]\n",
    "        alpha = np.zeros((n))\n",
    "        kernel = self.kernels[self.kernel_type]\n",
    "        count = 0\n",
    "        while True:\n",
    "            count += 1\n",
    "            alpha_prev = np.copy(alpha)\n",
    "            for j in range(0, n):\n",
    "                i = self.get_rnd_int(0, n-1, j) # Get random int i~=j\n",
    "                x_i, x_j, y_i, y_j = X[i,:], X[j,:], y[i], y[j]\n",
    "                k_ij = kernel(x_i, x_i) + kernel(x_j, x_j) - 2 * kernel(x_i, x_j)\n",
    "                if k_ij == 0:\n",
    "                    continue\n",
    "                alpha_prime_j, alpha_prime_i = alpha[j], alpha[i]\n",
    "                (L, H) = self.compute_L_H(self.C, alpha_prime_j, alpha_prime_i, y_j, y_i)\n",
    "\n",
    "                # Compute model parameters\n",
    "                self.w = self.calc_w(alpha, y, X)\n",
    "                self.b = self.calc_b(X, y, self.w)\n",
    "\n",
    "                # Compute E_i, E_j\n",
    "                E_i = self.E(x_i, y_i, self.w, self.b)\n",
    "                E_j = self.E(x_j, y_j, self.w, self.b)\n",
    "\n",
    "                # Set new alpha values\n",
    "                alpha[j] = alpha_prime_j + float(y_j * (E_i - E_j))/k_ij\n",
    "                alpha[j] = max(alpha[j], L)\n",
    "                alpha[j] = min(alpha[j], H)\n",
    "\n",
    "                alpha[i] = alpha_prime_i + y_i*y_j * (alpha_prime_j - alpha[j])\n",
    "\n",
    "            # Check convergence\n",
    "            diff = np.linalg.norm(alpha - alpha_prev)\n",
    "            if diff < self.epsilon:\n",
    "                break\n",
    "            #print(count)\n",
    "            if count >= self.max_iter:\n",
    "                print(\"Iteration number exceeded the max of %d iterations\" % (self.max_iter))\n",
    "                return\n",
    "        self.b = self.calc_b(X, y, self.w)\n",
    "        if self.kernel_type == 'linear':\n",
    "            self.w = self.calc_w(alpha, y, X)\n",
    "        # Get support vectors\n",
    "        alpha_idx = np.where(alpha > 0)[0]\n",
    "        support_vectors = X[alpha_idx, :]\n",
    "\n",
    "        return support_vectors, count\n",
    "\n",
    "    def predict(self, X):\n",
    "        return self.h(X, self.w, self.b)\n",
    "\n",
    "    def calc_b(self, X, y, w):\n",
    "        b_tmp = y - np.dot(w.T, X.T)\n",
    "        return np.mean(b_tmp)\n",
    "\n",
    "    def calc_w(self, alpha, y, X):\n",
    "        return np.dot(X.T, np.multiply(alpha,y))\n",
    "\n",
    "    def h(self, X, w, b):\n",
    "        return np.sign(np.dot(w.T, X.T) + b).astype(int)\n",
    "\n",
    "    def E(self, x_k, y_k, w, b):\n",
    "        return self.h(x_k, w, b) - y_k\n",
    "\n",
    "    def compute_L_H(self, C, alpha_prime_j, alpha_prime_i, y_j, y_i):\n",
    "        if(y_i != y_j):\n",
    "            return (max(0, alpha_prime_j - alpha_prime_i), min(C, C - alpha_prime_i + alpha_prime_j))\n",
    "        else:\n",
    "            return (max(0, alpha_prime_i + alpha_prime_j - C), min(C, alpha_prime_i + alpha_prime_j))\n",
    "\n",
    "    def get_rnd_int(self, a,b,z):\n",
    "        i = z\n",
    "        cnt=0\n",
    "        while i == z and cnt<1000:\n",
    "            i = random.randint(a,b)\n",
    "            cnt=cnt+1\n",
    "        return i\n",
    "\n",
    "    def kernel_linear(self, x, z):\n",
    "        return np.dot(x, z.T)\n",
    "\n",
    "    def kernel_poly(self, x, z):\n",
    "        return (np.dot(x, z.T) ** 2)\n",
    "\n",
    "    def kernel_rbf(self, x, z, sigma=1):\n",
    "        return np.exp(- (np.linalg.norm(x - z, 2)) ** 2 / (2 * sigma ** 2))\n",
    "\n",
    "    def predict_proba(self, X):\n",
    "        return np.dot(self.w.T, X.T) + self.b\n"
   ]
  },
  {
   "cell_type": "code",
   "execution_count": 7,
   "metadata": {},
   "outputs": [
    {
     "name": "stdout",
     "output_type": "stream",
     "text": [
      "Iteration number exceeded the max of 100 iterations\n"
     ]
    },
    {
     "data": {
      "text/plain": [
       "[[100, 'linear', 5, 0.6655],\n",
       " [300, 'linear', 5, 0.6693],\n",
       " [500, 'linear', 5, 0.6685]]"
      ]
     },
     "execution_count": 7,
     "metadata": {},
     "output_type": "execute_result"
    }
   ],
   "source": [
    "'''Epochs'''\n",
    "\n",
    "epochs = [100, 300, 500]\n",
    "epoch_list = []\n",
    "for iter in epochs: \n",
    "  svm = SMO(max_iter = iter, kernel_type='linear', C=5)\n",
    "  svm.fit(X_train, y_train)\n",
    "  y_hat_valid = round(accuracy_score(y_valid, svm.predict(X_valid)), 4)\n",
    "  pdata = [iter, 'linear', 5, y_hat_valid]\n",
    "  epoch_list.append(pdata)\n",
    "\n",
    "epoch_list"
   ]
  },
  {
   "cell_type": "code",
   "execution_count": 9,
   "metadata": {},
   "outputs": [],
   "source": [
    "smo_epoch_tuning = pd.DataFrame(epoch_list, columns = ['Learning rate','Kernel type','No. of Iterations','Validation Accuracy'])"
   ]
  },
  {
   "cell_type": "code",
   "execution_count": 10,
   "metadata": {},
   "outputs": [],
   "source": [
    "smo_epoch_tuning.to_csv(\"SMO_epoch_tuning\", encoding='utf-8', index=False)"
   ]
  },
  {
   "cell_type": "code",
   "execution_count": 11,
   "metadata": {},
   "outputs": [],
   "source": [
    "'''C'''\n",
    "\n",
    "C = [1, 5, 10]\n",
    "C_list = []\n",
    "for c in C: \n",
    "  svm = SMO(max_iter = 100, kernel_type='linear', C=c)\n",
    "  svm.fit(X_train, y_train)\n",
    "  y_hat_valid = round(accuracy_score(y_valid, svm.predict(X_valid)), 4)\n",
    "  pdata = [100, 'linear', c, y_hat_valid]\n",
    "  C_list.append(pdata)\n",
    "\n",
    "C_list"
   ]
  }
 ],
 "metadata": {
  "interpreter": {
   "hash": "1143f320a06349356e2325743eda34a6c9064036a78c665fba996f767620c39f"
  },
  "kernelspec": {
   "display_name": "Python 3.8.13 ('projectVenv')",
   "language": "python",
   "name": "python3"
  },
  "language_info": {
   "codemirror_mode": {
    "name": "ipython",
    "version": 3
   },
   "file_extension": ".py",
   "mimetype": "text/x-python",
   "name": "python",
   "nbconvert_exporter": "python",
   "pygments_lexer": "ipython3",
   "version": "3.8.13"
  },
  "orig_nbformat": 4
 },
 "nbformat": 4,
 "nbformat_minor": 2
}
