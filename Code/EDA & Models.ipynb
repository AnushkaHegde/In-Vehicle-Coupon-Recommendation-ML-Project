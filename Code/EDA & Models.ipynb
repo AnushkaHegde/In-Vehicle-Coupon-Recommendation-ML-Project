{
  "cells": [
    {
      "cell_type": "markdown",
      "metadata": {
        "id": "dyzHef-Oe91f"
      },
      "source": [
        "# In vehicle coupon recommendation \n",
        "The purpose of this project is to predict 1) if a customer will accept the coupon or not under machine learning algorithms with best tuned parameters, and 2) mining the circumstances under which people are more likely to accept the coupons throung explornatory data analysis. "
      ]
    },
    {
      "cell_type": "markdown",
      "metadata": {
        "id": "SYLmD96ge91l"
      },
      "source": [
        "## Table of contents\n",
        "- [0 - Packages](#0) \n",
        "- [1 - Data Processing](#1)\n",
        "  - [1.1 - Know your data](#1-1)\n",
        "    - [1.1.1 - Show the first 5 records](#1-1-1)\n",
        "    - [1.1.2 - Dimension](#1-1-2)\n",
        "    - [1.1.3 - Fetures explanations](#1-1-3)\n",
        "    - [1.1.4 - Feature statistics](#1-1-4)\n",
        "    - [1.1.5 - Null or not](#1-1-5)\n",
        "  - [1.2 - Data cleaning and transformation](#1-2)\n",
        "    - [1.2.1 - Set data type to category](#1-2-1)\n",
        "    - [1.2.2 - Drop car columns](#1-2-2)\n",
        "    - [1.2.3 - Impute lack data](#1-2-3)\n",
        "  - [1.3 - Summary](1-3)\n",
        "- [2 - Exploratory Data Analysis](#2) \n",
        "  - [2.1 - Comparsion between coupon acception and rejection](#2.1)\n",
        "  - [2.2 - Which features are indepedent with the target?](#2.2)\n",
        "  - [2.3 - How do the rest of features influence the target?](#2.3)\n",
        "  - [2.4 - Summary](2-4)\n",
        "- [3 - Feature Enigineering](#3)\n",
        "  - [3.1 - Feature selection](#3-1)\n",
        "  - [3.2 - Feature encoding](#3-2)\n",
        "    - [3.2.1 - Ordinal encoding](#3-2-1)\n",
        "    - [3.2.2 - One hot encoding](#3-2-2)\n",
        "    - [3.2.3 - Target encoding](#3-2-3)\n",
        "    - [3.2.4 - Embedded encoding](#3-2-4)\n",
        "    - [3.2.5 - Our encoding choice](#3-2-5)\n",
        "  - [3.3 - Summary](#3-3)\n",
        "- [4 - Classification Models](#4)\n",
        "  - [4.1 - Logistic regression](#4-1)\n",
        "  - [4.2 - Neural Network](#4.2)\n",
        "    - [4.2.1 - Just one layer, baseline](#4-2-1)\n",
        "    - [4.2.2 - Add hidden layers](#4-2-2)\n",
        "    - [4.2.3 - Dropout](#4-2-3)\n",
        "    - [4.2.4 - Optimizers](#4-2-4)\n",
        "    - [4.2.5 - Number of epoches](#4-2-5)\n",
        "    - [4.2.6 - Number of batch size](#4-2-6)\n",
        "    - [4.2.7 - Learning rate](#4-2-7)\n",
        "    - [4.2.8 - Number of Hidden neurons](#4-2-8)\n",
        "    - [4.2.9 - Regularization](#4-2-9) \n",
        "  - [4.3 - Support Vector Machine(SVM)](#4.3)\n",
        "    - [4.3.1 - Hard-Margin SVM](#4-3-1)\n",
        "    - [4.3.2 - Soft-Margin SVM](#4-3-2)\n",
        "  - [4.4 - Summary](#4-4)\n",
        "- [5 - Clustering](#5)"
      ]
    },
    {
      "cell_type": "markdown",
      "metadata": {
        "id": "Vqa3BRySe91m"
      },
      "source": [
        "<a name='0'></a>\n",
        "## 0 - Load Package\n",
        "Here are all packages that will be used in this notebook. We are telling the story on the shoulder of gaints, resp. "
      ]
    },
    {
      "cell_type": "code",
      "execution_count": 115,
      "metadata": {
        "colab": {
          "base_uri": "https://localhost:8080/"
        },
        "id": "4XDasiZBe91n",
        "outputId": "b4e095f0-fe65-4abb-ac08-b76eb5f818b4"
      },
      "outputs": [],
      "source": [
        "!pip install category_encoders\n",
        "!pip install dmba\n",
        "\n",
        "# Utils \n",
        "import warnings\n",
        "warnings.filterwarnings('ignore')\n",
        "import os \n",
        "# from google.colab import files\n",
        "from pandas import read_csv\n",
        "\n",
        "# \n",
        "import pandas as pd\n",
        "import numpy as np\n",
        "import matplotlib.pyplot as plt\n",
        "import seaborn as sns\n",
        "\n",
        "# EDA & Data processing\n",
        "from sklearn.feature_selection import chi2\n",
        "from sklearn.model_selection import train_test_split\n",
        "import category_encoders as ce \n",
        "from sklearn.preprocessing import OneHotEncoder\n",
        "from scipy import stats\n",
        "\n",
        "\n",
        "# Neuron Network\n",
        "import tensorflow as tf\n",
        "from tensorflow import keras\n",
        "\n",
        "# Measure metric\n",
        "from sklearn.linear_model import LogisticRegression\n",
        "from dmba import classificationSummary, gainsChart, liftChart\n",
        "from sklearn.metrics import accuracy_score\n",
        "\n",
        "\n",
        "\n"
      ]
    },
    {
      "cell_type": "markdown",
      "metadata": {
        "id": "jTMUZPdAe91o"
      },
      "source": [
        "<a name='1'></a>\n",
        "## 1 - Data Preprocessing\n",
        "This chapter preprocesses the [in-vehicle coupon recommendation Data Set](https://archive.ics.uci.edu/ml/datasets/in-vehicle+coupon+recommendation) from UCI Machine Learnign Repository. When it comes to a new data, knowing your data can help you with better decisions on how to clean or transform data, which makes the potential insights clear. What do we need to know? Here is the receipt, data dimension, exact meaning for columns, any null value inside, are there some outliers or inconsitent values. How can solve the problem? Would be some difference for numerical variables and categorical variables? "
      ]
    },
    {
      "cell_type": "markdown",
      "metadata": {
        "id": "TRduVJ_Pe91p"
      },
      "source": [
        "<a name='1-1'></a>\n",
        "### 1.1 - Know your data"
      ]
    },
    {
      "cell_type": "markdown",
      "metadata": {
        "id": "BVoK7Mkze91q"
      },
      "source": [
        "<a name=\"1-1-1\"></a>\n",
        "#### 1.1.1 - Show the first 5 records\n",
        "Just have a glimpse of your data to form the basic understanding."
      ]
    },
    {
      "cell_type": "markdown",
      "metadata": {},
      "source": [
        "- Access the data when using Google colab"
      ]
    },
    {
      "cell_type": "code",
      "execution_count": 41,
      "metadata": {
        "colab": {
          "base_uri": "https://localhost:8080/",
          "height": 443,
          "resources": {
            "http://localhost:8080/nbextensions/google.colab/files.js": {
              "data": "Ly8gQ29weXJpZ2h0IDIwMTcgR29vZ2xlIExMQwovLwovLyBMaWNlbnNlZCB1bmRlciB0aGUgQXBhY2hlIExpY2Vuc2UsIFZlcnNpb24gMi4wICh0aGUgIkxpY2Vuc2UiKTsKLy8geW91IG1heSBub3QgdXNlIHRoaXMgZmlsZSBleGNlcHQgaW4gY29tcGxpYW5jZSB3aXRoIHRoZSBMaWNlbnNlLgovLyBZb3UgbWF5IG9idGFpbiBhIGNvcHkgb2YgdGhlIExpY2Vuc2UgYXQKLy8KLy8gICAgICBodHRwOi8vd3d3LmFwYWNoZS5vcmcvbGljZW5zZXMvTElDRU5TRS0yLjAKLy8KLy8gVW5sZXNzIHJlcXVpcmVkIGJ5IGFwcGxpY2FibGUgbGF3IG9yIGFncmVlZCB0byBpbiB3cml0aW5nLCBzb2Z0d2FyZQovLyBkaXN0cmlidXRlZCB1bmRlciB0aGUgTGljZW5zZSBpcyBkaXN0cmlidXRlZCBvbiBhbiAiQVMgSVMiIEJBU0lTLAovLyBXSVRIT1VUIFdBUlJBTlRJRVMgT1IgQ09ORElUSU9OUyBPRiBBTlkgS0lORCwgZWl0aGVyIGV4cHJlc3Mgb3IgaW1wbGllZC4KLy8gU2VlIHRoZSBMaWNlbnNlIGZvciB0aGUgc3BlY2lmaWMgbGFuZ3VhZ2UgZ292ZXJuaW5nIHBlcm1pc3Npb25zIGFuZAovLyBsaW1pdGF0aW9ucyB1bmRlciB0aGUgTGljZW5zZS4KCi8qKgogKiBAZmlsZW92ZXJ2aWV3IEhlbHBlcnMgZm9yIGdvb2dsZS5jb2xhYiBQeXRob24gbW9kdWxlLgogKi8KKGZ1bmN0aW9uKHNjb3BlKSB7CmZ1bmN0aW9uIHNwYW4odGV4dCwgc3R5bGVBdHRyaWJ1dGVzID0ge30pIHsKICBjb25zdCBlbGVtZW50ID0gZG9jdW1lbnQuY3JlYXRlRWxlbWVudCgnc3BhbicpOwogIGVsZW1lbnQudGV4dENvbnRlbnQgPSB0ZXh0OwogIGZvciAoY29uc3Qga2V5IG9mIE9iamVjdC5rZXlzKHN0eWxlQXR0cmlidXRlcykpIHsKICAgIGVsZW1lbnQuc3R5bGVba2V5XSA9IHN0eWxlQXR0cmlidXRlc1trZXldOwogIH0KICByZXR1cm4gZWxlbWVudDsKfQoKLy8gTWF4IG51bWJlciBvZiBieXRlcyB3aGljaCB3aWxsIGJlIHVwbG9hZGVkIGF0IGEgdGltZS4KY29uc3QgTUFYX1BBWUxPQURfU0laRSA9IDEwMCAqIDEwMjQ7CgpmdW5jdGlvbiBfdXBsb2FkRmlsZXMoaW5wdXRJZCwgb3V0cHV0SWQpIHsKICBjb25zdCBzdGVwcyA9IHVwbG9hZEZpbGVzU3RlcChpbnB1dElkLCBvdXRwdXRJZCk7CiAgY29uc3Qgb3V0cHV0RWxlbWVudCA9IGRvY3VtZW50LmdldEVsZW1lbnRCeUlkKG91dHB1dElkKTsKICAvLyBDYWNoZSBzdGVwcyBvbiB0aGUgb3V0cHV0RWxlbWVudCB0byBtYWtlIGl0IGF2YWlsYWJsZSBmb3IgdGhlIG5leHQgY2FsbAogIC8vIHRvIHVwbG9hZEZpbGVzQ29udGludWUgZnJvbSBQeXRob24uCiAgb3V0cHV0RWxlbWVudC5zdGVwcyA9IHN0ZXBzOwoKICByZXR1cm4gX3VwbG9hZEZpbGVzQ29udGludWUob3V0cHV0SWQpOwp9CgovLyBUaGlzIGlzIHJvdWdobHkgYW4gYXN5bmMgZ2VuZXJhdG9yIChub3Qgc3VwcG9ydGVkIGluIHRoZSBicm93c2VyIHlldCksCi8vIHdoZXJlIHRoZXJlIGFyZSBtdWx0aXBsZSBhc3luY2hyb25vdXMgc3RlcHMgYW5kIHRoZSBQeXRob24gc2lkZSBpcyBnb2luZwovLyB0byBwb2xsIGZvciBjb21wbGV0aW9uIG9mIGVhY2ggc3RlcC4KLy8gVGhpcyB1c2VzIGEgUHJvbWlzZSB0byBibG9jayB0aGUgcHl0aG9uIHNpZGUgb24gY29tcGxldGlvbiBvZiBlYWNoIHN0ZXAsCi8vIHRoZW4gcGFzc2VzIHRoZSByZXN1bHQgb2YgdGhlIHByZXZpb3VzIHN0ZXAgYXMgdGhlIGlucHV0IHRvIHRoZSBuZXh0IHN0ZXAuCmZ1bmN0aW9uIF91cGxvYWRGaWxlc0NvbnRpbnVlKG91dHB1dElkKSB7CiAgY29uc3Qgb3V0cHV0RWxlbWVudCA9IGRvY3VtZW50LmdldEVsZW1lbnRCeUlkKG91dHB1dElkKTsKICBjb25zdCBzdGVwcyA9IG91dHB1dEVsZW1lbnQuc3RlcHM7CgogIGNvbnN0IG5leHQgPSBzdGVwcy5uZXh0KG91dHB1dEVsZW1lbnQubGFzdFByb21pc2VWYWx1ZSk7CiAgcmV0dXJuIFByb21pc2UucmVzb2x2ZShuZXh0LnZhbHVlLnByb21pc2UpLnRoZW4oKHZhbHVlKSA9PiB7CiAgICAvLyBDYWNoZSB0aGUgbGFzdCBwcm9taXNlIHZhbHVlIHRvIG1ha2UgaXQgYXZhaWxhYmxlIHRvIHRoZSBuZXh0CiAgICAvLyBzdGVwIG9mIHRoZSBnZW5lcmF0b3IuCiAgICBvdXRwdXRFbGVtZW50Lmxhc3RQcm9taXNlVmFsdWUgPSB2YWx1ZTsKICAgIHJldHVybiBuZXh0LnZhbHVlLnJlc3BvbnNlOwogIH0pOwp9CgovKioKICogR2VuZXJhdG9yIGZ1bmN0aW9uIHdoaWNoIGlzIGNhbGxlZCBiZXR3ZWVuIGVhY2ggYXN5bmMgc3RlcCBvZiB0aGUgdXBsb2FkCiAqIHByb2Nlc3MuCiAqIEBwYXJhbSB7c3RyaW5nfSBpbnB1dElkIEVsZW1lbnQgSUQgb2YgdGhlIGlucHV0IGZpbGUgcGlja2VyIGVsZW1lbnQuCiAqIEBwYXJhbSB7c3RyaW5nfSBvdXRwdXRJZCBFbGVtZW50IElEIG9mIHRoZSBvdXRwdXQgZGlzcGxheS4KICogQHJldHVybiB7IUl0ZXJhYmxlPCFPYmplY3Q+fSBJdGVyYWJsZSBvZiBuZXh0IHN0ZXBzLgogKi8KZnVuY3Rpb24qIHVwbG9hZEZpbGVzU3RlcChpbnB1dElkLCBvdXRwdXRJZCkgewogIGNvbnN0IGlucHV0RWxlbWVudCA9IGRvY3VtZW50LmdldEVsZW1lbnRCeUlkKGlucHV0SWQpOwogIGlucHV0RWxlbWVudC5kaXNhYmxlZCA9IGZhbHNlOwoKICBjb25zdCBvdXRwdXRFbGVtZW50ID0gZG9jdW1lbnQuZ2V0RWxlbWVudEJ5SWQob3V0cHV0SWQpOwogIG91dHB1dEVsZW1lbnQuaW5uZXJIVE1MID0gJyc7CgogIGNvbnN0IHBpY2tlZFByb21pc2UgPSBuZXcgUHJvbWlzZSgocmVzb2x2ZSkgPT4gewogICAgaW5wdXRFbGVtZW50LmFkZEV2ZW50TGlzdGVuZXIoJ2NoYW5nZScsIChlKSA9PiB7CiAgICAgIHJlc29sdmUoZS50YXJnZXQuZmlsZXMpOwogICAgfSk7CiAgfSk7CgogIGNvbnN0IGNhbmNlbCA9IGRvY3VtZW50LmNyZWF0ZUVsZW1lbnQoJ2J1dHRvbicpOwogIGlucHV0RWxlbWVudC5wYXJlbnRFbGVtZW50LmFwcGVuZENoaWxkKGNhbmNlbCk7CiAgY2FuY2VsLnRleHRDb250ZW50ID0gJ0NhbmNlbCB1cGxvYWQnOwogIGNvbnN0IGNhbmNlbFByb21pc2UgPSBuZXcgUHJvbWlzZSgocmVzb2x2ZSkgPT4gewogICAgY2FuY2VsLm9uY2xpY2sgPSAoKSA9PiB7CiAgICAgIHJlc29sdmUobnVsbCk7CiAgICB9OwogIH0pOwoKICAvLyBXYWl0IGZvciB0aGUgdXNlciB0byBwaWNrIHRoZSBmaWxlcy4KICBjb25zdCBmaWxlcyA9IHlpZWxkIHsKICAgIHByb21pc2U6IFByb21pc2UucmFjZShbcGlja2VkUHJvbWlzZSwgY2FuY2VsUHJvbWlzZV0pLAogICAgcmVzcG9uc2U6IHsKICAgICAgYWN0aW9uOiAnc3RhcnRpbmcnLAogICAgfQogIH07CgogIGNhbmNlbC5yZW1vdmUoKTsKCiAgLy8gRGlzYWJsZSB0aGUgaW5wdXQgZWxlbWVudCBzaW5jZSBmdXJ0aGVyIHBpY2tzIGFyZSBub3QgYWxsb3dlZC4KICBpbnB1dEVsZW1lbnQuZGlzYWJsZWQgPSB0cnVlOwoKICBpZiAoIWZpbGVzKSB7CiAgICByZXR1cm4gewogICAgICByZXNwb25zZTogewogICAgICAgIGFjdGlvbjogJ2NvbXBsZXRlJywKICAgICAgfQogICAgfTsKICB9CgogIGZvciAoY29uc3QgZmlsZSBvZiBmaWxlcykgewogICAgY29uc3QgbGkgPSBkb2N1bWVudC5jcmVhdGVFbGVtZW50KCdsaScpOwogICAgbGkuYXBwZW5kKHNwYW4oZmlsZS5uYW1lLCB7Zm9udFdlaWdodDogJ2JvbGQnfSkpOwogICAgbGkuYXBwZW5kKHNwYW4oCiAgICAgICAgYCgke2ZpbGUudHlwZSB8fCAnbi9hJ30pIC0gJHtmaWxlLnNpemV9IGJ5dGVzLCBgICsKICAgICAgICBgbGFzdCBtb2RpZmllZDogJHsKICAgICAgICAgICAgZmlsZS5sYXN0TW9kaWZpZWREYXRlID8gZmlsZS5sYXN0TW9kaWZpZWREYXRlLnRvTG9jYWxlRGF0ZVN0cmluZygpIDoKICAgICAgICAgICAgICAgICAgICAgICAgICAgICAgICAgICAgJ24vYSd9IC0gYCkpOwogICAgY29uc3QgcGVyY2VudCA9IHNwYW4oJzAlIGRvbmUnKTsKICAgIGxpLmFwcGVuZENoaWxkKHBlcmNlbnQpOwoKICAgIG91dHB1dEVsZW1lbnQuYXBwZW5kQ2hpbGQobGkpOwoKICAgIGNvbnN0IGZpbGVEYXRhUHJvbWlzZSA9IG5ldyBQcm9taXNlKChyZXNvbHZlKSA9PiB7CiAgICAgIGNvbnN0IHJlYWRlciA9IG5ldyBGaWxlUmVhZGVyKCk7CiAgICAgIHJlYWRlci5vbmxvYWQgPSAoZSkgPT4gewogICAgICAgIHJlc29sdmUoZS50YXJnZXQucmVzdWx0KTsKICAgICAgfTsKICAgICAgcmVhZGVyLnJlYWRBc0FycmF5QnVmZmVyKGZpbGUpOwogICAgfSk7CiAgICAvLyBXYWl0IGZvciB0aGUgZGF0YSB0byBiZSByZWFkeS4KICAgIGxldCBmaWxlRGF0YSA9IHlpZWxkIHsKICAgICAgcHJvbWlzZTogZmlsZURhdGFQcm9taXNlLAogICAgICByZXNwb25zZTogewogICAgICAgIGFjdGlvbjogJ2NvbnRpbnVlJywKICAgICAgfQogICAgfTsKCiAgICAvLyBVc2UgYSBjaHVua2VkIHNlbmRpbmcgdG8gYXZvaWQgbWVzc2FnZSBzaXplIGxpbWl0cy4gU2VlIGIvNjIxMTU2NjAuCiAgICBsZXQgcG9zaXRpb24gPSAwOwogICAgZG8gewogICAgICBjb25zdCBsZW5ndGggPSBNYXRoLm1pbihmaWxlRGF0YS5ieXRlTGVuZ3RoIC0gcG9zaXRpb24sIE1BWF9QQVlMT0FEX1NJWkUpOwogICAgICBjb25zdCBjaHVuayA9IG5ldyBVaW50OEFycmF5KGZpbGVEYXRhLCBwb3NpdGlvbiwgbGVuZ3RoKTsKICAgICAgcG9zaXRpb24gKz0gbGVuZ3RoOwoKICAgICAgY29uc3QgYmFzZTY0ID0gYnRvYShTdHJpbmcuZnJvbUNoYXJDb2RlLmFwcGx5KG51bGwsIGNodW5rKSk7CiAgICAgIHlpZWxkIHsKICAgICAgICByZXNwb25zZTogewogICAgICAgICAgYWN0aW9uOiAnYXBwZW5kJywKICAgICAgICAgIGZpbGU6IGZpbGUubmFtZSwKICAgICAgICAgIGRhdGE6IGJhc2U2NCwKICAgICAgICB9LAogICAgICB9OwoKICAgICAgbGV0IHBlcmNlbnREb25lID0gZmlsZURhdGEuYnl0ZUxlbmd0aCA9PT0gMCA/CiAgICAgICAgICAxMDAgOgogICAgICAgICAgTWF0aC5yb3VuZCgocG9zaXRpb24gLyBmaWxlRGF0YS5ieXRlTGVuZ3RoKSAqIDEwMCk7CiAgICAgIHBlcmNlbnQudGV4dENvbnRlbnQgPSBgJHtwZXJjZW50RG9uZX0lIGRvbmVgOwoKICAgIH0gd2hpbGUgKHBvc2l0aW9uIDwgZmlsZURhdGEuYnl0ZUxlbmd0aCk7CiAgfQoKICAvLyBBbGwgZG9uZS4KICB5aWVsZCB7CiAgICByZXNwb25zZTogewogICAgICBhY3Rpb246ICdjb21wbGV0ZScsCiAgICB9CiAgfTsKfQoKc2NvcGUuZ29vZ2xlID0gc2NvcGUuZ29vZ2xlIHx8IHt9OwpzY29wZS5nb29nbGUuY29sYWIgPSBzY29wZS5nb29nbGUuY29sYWIgfHwge307CnNjb3BlLmdvb2dsZS5jb2xhYi5fZmlsZXMgPSB7CiAgX3VwbG9hZEZpbGVzLAogIF91cGxvYWRGaWxlc0NvbnRpbnVlLAp9Owp9KShzZWxmKTsK",
              "headers": [
                [
                  "content-type",
                  "application/javascript"
                ]
              ],
              "ok": true,
              "status": 200,
              "status_text": ""
            }
          }
        },
        "id": "29CenDYzgONR",
        "outputId": "7d44cfc9-caab-42d9-e82d-b7b4f3250d35"
      },
      "outputs": [
        {
          "data": {
            "text/html": [
              "\n",
              "     <input type=\"file\" id=\"files-ca061d79-d7f4-4646-8eef-0788d399bc7f\" name=\"files[]\" multiple disabled\n",
              "        style=\"border:none\" />\n",
              "     <output id=\"result-ca061d79-d7f4-4646-8eef-0788d399bc7f\">\n",
              "      Upload widget is only available when the cell has been executed in the\n",
              "      current browser session. Please rerun this cell to enable.\n",
              "      </output>\n",
              "      <script src=\"/nbextensions/google.colab/files.js\"></script> "
            ],
            "text/plain": [
              "<IPython.core.display.HTML object>"
            ]
          },
          "metadata": {},
          "output_type": "display_data"
        },
        {
          "name": "stdout",
          "output_type": "stream",
          "text": [
            "Saving Vehicle_Coupon.csv to Vehicle_Coupon (8).csv\n"
          ]
        },
        {
          "data": {
            "text/html": [
              "\n",
              "  <div id=\"df-f0c5bfd9-7791-42b2-826b-db9f1e171ebd\">\n",
              "    <div class=\"colab-df-container\">\n",
              "      <div>\n",
              "<style scoped>\n",
              "    .dataframe tbody tr th:only-of-type {\n",
              "        vertical-align: middle;\n",
              "    }\n",
              "\n",
              "    .dataframe tbody tr th {\n",
              "        vertical-align: top;\n",
              "    }\n",
              "\n",
              "    .dataframe thead th {\n",
              "        text-align: right;\n",
              "    }\n",
              "</style>\n",
              "<table border=\"1\" class=\"dataframe\">\n",
              "  <thead>\n",
              "    <tr style=\"text-align: right;\">\n",
              "      <th></th>\n",
              "      <th>destination</th>\n",
              "      <th>passanger</th>\n",
              "      <th>weather</th>\n",
              "      <th>temperature</th>\n",
              "      <th>time</th>\n",
              "      <th>coupon</th>\n",
              "      <th>expiration</th>\n",
              "      <th>gender</th>\n",
              "      <th>age</th>\n",
              "      <th>maritalStatus</th>\n",
              "      <th>...</th>\n",
              "      <th>CoffeeHouse</th>\n",
              "      <th>CarryAway</th>\n",
              "      <th>RestaurantLessThan20</th>\n",
              "      <th>Restaurant20To50</th>\n",
              "      <th>toCoupon_GEQ5min</th>\n",
              "      <th>toCoupon_GEQ15min</th>\n",
              "      <th>toCoupon_GEQ25min</th>\n",
              "      <th>direction_same</th>\n",
              "      <th>direction_opp</th>\n",
              "      <th>Y</th>\n",
              "    </tr>\n",
              "  </thead>\n",
              "  <tbody>\n",
              "    <tr>\n",
              "      <th>0</th>\n",
              "      <td>No Urgent Place</td>\n",
              "      <td>Alone</td>\n",
              "      <td>Sunny</td>\n",
              "      <td>55</td>\n",
              "      <td>2PM</td>\n",
              "      <td>Restaurant(&lt;20)</td>\n",
              "      <td>1d</td>\n",
              "      <td>Female</td>\n",
              "      <td>21</td>\n",
              "      <td>Unmarried partner</td>\n",
              "      <td>...</td>\n",
              "      <td>never</td>\n",
              "      <td>NaN</td>\n",
              "      <td>4~8</td>\n",
              "      <td>1~3</td>\n",
              "      <td>1</td>\n",
              "      <td>0</td>\n",
              "      <td>0</td>\n",
              "      <td>0</td>\n",
              "      <td>1</td>\n",
              "      <td>1</td>\n",
              "    </tr>\n",
              "    <tr>\n",
              "      <th>1</th>\n",
              "      <td>No Urgent Place</td>\n",
              "      <td>Friend(s)</td>\n",
              "      <td>Sunny</td>\n",
              "      <td>80</td>\n",
              "      <td>10AM</td>\n",
              "      <td>Coffee House</td>\n",
              "      <td>2h</td>\n",
              "      <td>Female</td>\n",
              "      <td>21</td>\n",
              "      <td>Unmarried partner</td>\n",
              "      <td>...</td>\n",
              "      <td>never</td>\n",
              "      <td>NaN</td>\n",
              "      <td>4~8</td>\n",
              "      <td>1~3</td>\n",
              "      <td>1</td>\n",
              "      <td>0</td>\n",
              "      <td>0</td>\n",
              "      <td>0</td>\n",
              "      <td>1</td>\n",
              "      <td>0</td>\n",
              "    </tr>\n",
              "    <tr>\n",
              "      <th>2</th>\n",
              "      <td>No Urgent Place</td>\n",
              "      <td>Friend(s)</td>\n",
              "      <td>Sunny</td>\n",
              "      <td>80</td>\n",
              "      <td>10AM</td>\n",
              "      <td>Carry out &amp; Take away</td>\n",
              "      <td>2h</td>\n",
              "      <td>Female</td>\n",
              "      <td>21</td>\n",
              "      <td>Unmarried partner</td>\n",
              "      <td>...</td>\n",
              "      <td>never</td>\n",
              "      <td>NaN</td>\n",
              "      <td>4~8</td>\n",
              "      <td>1~3</td>\n",
              "      <td>1</td>\n",
              "      <td>1</td>\n",
              "      <td>0</td>\n",
              "      <td>0</td>\n",
              "      <td>1</td>\n",
              "      <td>1</td>\n",
              "    </tr>\n",
              "    <tr>\n",
              "      <th>3</th>\n",
              "      <td>No Urgent Place</td>\n",
              "      <td>Friend(s)</td>\n",
              "      <td>Sunny</td>\n",
              "      <td>80</td>\n",
              "      <td>2PM</td>\n",
              "      <td>Coffee House</td>\n",
              "      <td>2h</td>\n",
              "      <td>Female</td>\n",
              "      <td>21</td>\n",
              "      <td>Unmarried partner</td>\n",
              "      <td>...</td>\n",
              "      <td>never</td>\n",
              "      <td>NaN</td>\n",
              "      <td>4~8</td>\n",
              "      <td>1~3</td>\n",
              "      <td>1</td>\n",
              "      <td>1</td>\n",
              "      <td>0</td>\n",
              "      <td>0</td>\n",
              "      <td>1</td>\n",
              "      <td>0</td>\n",
              "    </tr>\n",
              "    <tr>\n",
              "      <th>4</th>\n",
              "      <td>No Urgent Place</td>\n",
              "      <td>Friend(s)</td>\n",
              "      <td>Sunny</td>\n",
              "      <td>80</td>\n",
              "      <td>2PM</td>\n",
              "      <td>Coffee House</td>\n",
              "      <td>1d</td>\n",
              "      <td>Female</td>\n",
              "      <td>21</td>\n",
              "      <td>Unmarried partner</td>\n",
              "      <td>...</td>\n",
              "      <td>never</td>\n",
              "      <td>NaN</td>\n",
              "      <td>4~8</td>\n",
              "      <td>1~3</td>\n",
              "      <td>1</td>\n",
              "      <td>1</td>\n",
              "      <td>0</td>\n",
              "      <td>0</td>\n",
              "      <td>1</td>\n",
              "      <td>0</td>\n",
              "    </tr>\n",
              "  </tbody>\n",
              "</table>\n",
              "<p>5 rows × 26 columns</p>\n",
              "</div>\n",
              "      <button class=\"colab-df-convert\" onclick=\"convertToInteractive('df-f0c5bfd9-7791-42b2-826b-db9f1e171ebd')\"\n",
              "              title=\"Convert this dataframe to an interactive table.\"\n",
              "              style=\"display:none;\">\n",
              "        \n",
              "  <svg xmlns=\"http://www.w3.org/2000/svg\" height=\"24px\"viewBox=\"0 0 24 24\"\n",
              "       width=\"24px\">\n",
              "    <path d=\"M0 0h24v24H0V0z\" fill=\"none\"/>\n",
              "    <path d=\"M18.56 5.44l.94 2.06.94-2.06 2.06-.94-2.06-.94-.94-2.06-.94 2.06-2.06.94zm-11 1L8.5 8.5l.94-2.06 2.06-.94-2.06-.94L8.5 2.5l-.94 2.06-2.06.94zm10 10l.94 2.06.94-2.06 2.06-.94-2.06-.94-.94-2.06-.94 2.06-2.06.94z\"/><path d=\"M17.41 7.96l-1.37-1.37c-.4-.4-.92-.59-1.43-.59-.52 0-1.04.2-1.43.59L10.3 9.45l-7.72 7.72c-.78.78-.78 2.05 0 2.83L4 21.41c.39.39.9.59 1.41.59.51 0 1.02-.2 1.41-.59l7.78-7.78 2.81-2.81c.8-.78.8-2.07 0-2.86zM5.41 20L4 18.59l7.72-7.72 1.47 1.35L5.41 20z\"/>\n",
              "  </svg>\n",
              "      </button>\n",
              "      \n",
              "  <style>\n",
              "    .colab-df-container {\n",
              "      display:flex;\n",
              "      flex-wrap:wrap;\n",
              "      gap: 12px;\n",
              "    }\n",
              "\n",
              "    .colab-df-convert {\n",
              "      background-color: #E8F0FE;\n",
              "      border: none;\n",
              "      border-radius: 50%;\n",
              "      cursor: pointer;\n",
              "      display: none;\n",
              "      fill: #1967D2;\n",
              "      height: 32px;\n",
              "      padding: 0 0 0 0;\n",
              "      width: 32px;\n",
              "    }\n",
              "\n",
              "    .colab-df-convert:hover {\n",
              "      background-color: #E2EBFA;\n",
              "      box-shadow: 0px 1px 2px rgba(60, 64, 67, 0.3), 0px 1px 3px 1px rgba(60, 64, 67, 0.15);\n",
              "      fill: #174EA6;\n",
              "    }\n",
              "\n",
              "    [theme=dark] .colab-df-convert {\n",
              "      background-color: #3B4455;\n",
              "      fill: #D2E3FC;\n",
              "    }\n",
              "\n",
              "    [theme=dark] .colab-df-convert:hover {\n",
              "      background-color: #434B5C;\n",
              "      box-shadow: 0px 1px 3px 1px rgba(0, 0, 0, 0.15);\n",
              "      filter: drop-shadow(0px 1px 2px rgba(0, 0, 0, 0.3));\n",
              "      fill: #FFFFFF;\n",
              "    }\n",
              "  </style>\n",
              "\n",
              "      <script>\n",
              "        const buttonEl =\n",
              "          document.querySelector('#df-f0c5bfd9-7791-42b2-826b-db9f1e171ebd button.colab-df-convert');\n",
              "        buttonEl.style.display =\n",
              "          google.colab.kernel.accessAllowed ? 'block' : 'none';\n",
              "\n",
              "        async function convertToInteractive(key) {\n",
              "          const element = document.querySelector('#df-f0c5bfd9-7791-42b2-826b-db9f1e171ebd');\n",
              "          const dataTable =\n",
              "            await google.colab.kernel.invokeFunction('convertToInteractive',\n",
              "                                                     [key], {});\n",
              "          if (!dataTable) return;\n",
              "\n",
              "          const docLinkHtml = 'Like what you see? Visit the ' +\n",
              "            '<a target=\"_blank\" href=https://colab.research.google.com/notebooks/data_table.ipynb>data table notebook</a>'\n",
              "            + ' to learn more about interactive tables.';\n",
              "          element.innerHTML = '';\n",
              "          dataTable['output_type'] = 'display_data';\n",
              "          await google.colab.output.renderOutput(dataTable, element);\n",
              "          const docLink = document.createElement('div');\n",
              "          docLink.innerHTML = docLinkHtml;\n",
              "          element.appendChild(docLink);\n",
              "        }\n",
              "      </script>\n",
              "    </div>\n",
              "  </div>\n",
              "  "
            ],
            "text/plain": [
              "       destination  passanger weather  temperature  time  \\\n",
              "0  No Urgent Place      Alone   Sunny           55   2PM   \n",
              "1  No Urgent Place  Friend(s)   Sunny           80  10AM   \n",
              "2  No Urgent Place  Friend(s)   Sunny           80  10AM   \n",
              "3  No Urgent Place  Friend(s)   Sunny           80   2PM   \n",
              "4  No Urgent Place  Friend(s)   Sunny           80   2PM   \n",
              "\n",
              "                  coupon expiration  gender age      maritalStatus  ...  \\\n",
              "0        Restaurant(<20)         1d  Female  21  Unmarried partner  ...   \n",
              "1           Coffee House         2h  Female  21  Unmarried partner  ...   \n",
              "2  Carry out & Take away         2h  Female  21  Unmarried partner  ...   \n",
              "3           Coffee House         2h  Female  21  Unmarried partner  ...   \n",
              "4           Coffee House         1d  Female  21  Unmarried partner  ...   \n",
              "\n",
              "   CoffeeHouse CarryAway RestaurantLessThan20 Restaurant20To50  \\\n",
              "0        never       NaN                  4~8              1~3   \n",
              "1        never       NaN                  4~8              1~3   \n",
              "2        never       NaN                  4~8              1~3   \n",
              "3        never       NaN                  4~8              1~3   \n",
              "4        never       NaN                  4~8              1~3   \n",
              "\n",
              "  toCoupon_GEQ5min toCoupon_GEQ15min toCoupon_GEQ25min direction_same  \\\n",
              "0                1                 0                 0              0   \n",
              "1                1                 0                 0              0   \n",
              "2                1                 1                 0              0   \n",
              "3                1                 1                 0              0   \n",
              "4                1                 1                 0              0   \n",
              "\n",
              "  direction_opp  Y  \n",
              "0             1  1  \n",
              "1             1  0  \n",
              "2             1  1  \n",
              "3             1  0  \n",
              "4             1  0  \n",
              "\n",
              "[5 rows x 26 columns]"
            ]
          },
          "execution_count": 41,
          "metadata": {},
          "output_type": "execute_result"
        }
      ],
      "source": [
        "# file = files.upload()\n",
        "# df = pd.read_csv('Vehicle_Coupon.csv')  # The data file can be accessed in Dat_Set folder\n",
        "# df.head()"
      ]
    },
    {
      "cell_type": "markdown",
      "metadata": {},
      "source": [
        "- Access the data when using the local data file "
      ]
    },
    {
      "cell_type": "code",
      "execution_count": 6,
      "metadata": {},
      "outputs": [
        {
          "data": {
            "text/html": [
              "<div>\n",
              "<style scoped>\n",
              "    .dataframe tbody tr th:only-of-type {\n",
              "        vertical-align: middle;\n",
              "    }\n",
              "\n",
              "    .dataframe tbody tr th {\n",
              "        vertical-align: top;\n",
              "    }\n",
              "\n",
              "    .dataframe thead th {\n",
              "        text-align: right;\n",
              "    }\n",
              "</style>\n",
              "<table border=\"1\" class=\"dataframe\">\n",
              "  <thead>\n",
              "    <tr style=\"text-align: right;\">\n",
              "      <th></th>\n",
              "      <th>destination</th>\n",
              "      <th>passanger</th>\n",
              "      <th>weather</th>\n",
              "      <th>temperature</th>\n",
              "      <th>time</th>\n",
              "      <th>coupon</th>\n",
              "      <th>expiration</th>\n",
              "      <th>gender</th>\n",
              "      <th>age</th>\n",
              "      <th>maritalStatus</th>\n",
              "      <th>...</th>\n",
              "      <th>CoffeeHouse</th>\n",
              "      <th>CarryAway</th>\n",
              "      <th>RestaurantLessThan20</th>\n",
              "      <th>Restaurant20To50</th>\n",
              "      <th>toCoupon_GEQ5min</th>\n",
              "      <th>toCoupon_GEQ15min</th>\n",
              "      <th>toCoupon_GEQ25min</th>\n",
              "      <th>direction_same</th>\n",
              "      <th>direction_opp</th>\n",
              "      <th>Y</th>\n",
              "    </tr>\n",
              "  </thead>\n",
              "  <tbody>\n",
              "    <tr>\n",
              "      <th>0</th>\n",
              "      <td>No Urgent Place</td>\n",
              "      <td>Alone</td>\n",
              "      <td>Sunny</td>\n",
              "      <td>55</td>\n",
              "      <td>2PM</td>\n",
              "      <td>Restaurant(&lt;20)</td>\n",
              "      <td>1d</td>\n",
              "      <td>Female</td>\n",
              "      <td>21</td>\n",
              "      <td>Unmarried partner</td>\n",
              "      <td>...</td>\n",
              "      <td>never</td>\n",
              "      <td>NaN</td>\n",
              "      <td>4~8</td>\n",
              "      <td>1~3</td>\n",
              "      <td>1</td>\n",
              "      <td>0</td>\n",
              "      <td>0</td>\n",
              "      <td>0</td>\n",
              "      <td>1</td>\n",
              "      <td>1</td>\n",
              "    </tr>\n",
              "    <tr>\n",
              "      <th>1</th>\n",
              "      <td>No Urgent Place</td>\n",
              "      <td>Friend(s)</td>\n",
              "      <td>Sunny</td>\n",
              "      <td>80</td>\n",
              "      <td>10AM</td>\n",
              "      <td>Coffee House</td>\n",
              "      <td>2h</td>\n",
              "      <td>Female</td>\n",
              "      <td>21</td>\n",
              "      <td>Unmarried partner</td>\n",
              "      <td>...</td>\n",
              "      <td>never</td>\n",
              "      <td>NaN</td>\n",
              "      <td>4~8</td>\n",
              "      <td>1~3</td>\n",
              "      <td>1</td>\n",
              "      <td>0</td>\n",
              "      <td>0</td>\n",
              "      <td>0</td>\n",
              "      <td>1</td>\n",
              "      <td>0</td>\n",
              "    </tr>\n",
              "    <tr>\n",
              "      <th>2</th>\n",
              "      <td>No Urgent Place</td>\n",
              "      <td>Friend(s)</td>\n",
              "      <td>Sunny</td>\n",
              "      <td>80</td>\n",
              "      <td>10AM</td>\n",
              "      <td>Carry out &amp; Take away</td>\n",
              "      <td>2h</td>\n",
              "      <td>Female</td>\n",
              "      <td>21</td>\n",
              "      <td>Unmarried partner</td>\n",
              "      <td>...</td>\n",
              "      <td>never</td>\n",
              "      <td>NaN</td>\n",
              "      <td>4~8</td>\n",
              "      <td>1~3</td>\n",
              "      <td>1</td>\n",
              "      <td>1</td>\n",
              "      <td>0</td>\n",
              "      <td>0</td>\n",
              "      <td>1</td>\n",
              "      <td>1</td>\n",
              "    </tr>\n",
              "    <tr>\n",
              "      <th>3</th>\n",
              "      <td>No Urgent Place</td>\n",
              "      <td>Friend(s)</td>\n",
              "      <td>Sunny</td>\n",
              "      <td>80</td>\n",
              "      <td>2PM</td>\n",
              "      <td>Coffee House</td>\n",
              "      <td>2h</td>\n",
              "      <td>Female</td>\n",
              "      <td>21</td>\n",
              "      <td>Unmarried partner</td>\n",
              "      <td>...</td>\n",
              "      <td>never</td>\n",
              "      <td>NaN</td>\n",
              "      <td>4~8</td>\n",
              "      <td>1~3</td>\n",
              "      <td>1</td>\n",
              "      <td>1</td>\n",
              "      <td>0</td>\n",
              "      <td>0</td>\n",
              "      <td>1</td>\n",
              "      <td>0</td>\n",
              "    </tr>\n",
              "    <tr>\n",
              "      <th>4</th>\n",
              "      <td>No Urgent Place</td>\n",
              "      <td>Friend(s)</td>\n",
              "      <td>Sunny</td>\n",
              "      <td>80</td>\n",
              "      <td>2PM</td>\n",
              "      <td>Coffee House</td>\n",
              "      <td>1d</td>\n",
              "      <td>Female</td>\n",
              "      <td>21</td>\n",
              "      <td>Unmarried partner</td>\n",
              "      <td>...</td>\n",
              "      <td>never</td>\n",
              "      <td>NaN</td>\n",
              "      <td>4~8</td>\n",
              "      <td>1~3</td>\n",
              "      <td>1</td>\n",
              "      <td>1</td>\n",
              "      <td>0</td>\n",
              "      <td>0</td>\n",
              "      <td>1</td>\n",
              "      <td>0</td>\n",
              "    </tr>\n",
              "  </tbody>\n",
              "</table>\n",
              "<p>5 rows × 26 columns</p>\n",
              "</div>"
            ],
            "text/plain": [
              "       destination  passanger weather  temperature  time  \\\n",
              "0  No Urgent Place      Alone   Sunny           55   2PM   \n",
              "1  No Urgent Place  Friend(s)   Sunny           80  10AM   \n",
              "2  No Urgent Place  Friend(s)   Sunny           80  10AM   \n",
              "3  No Urgent Place  Friend(s)   Sunny           80   2PM   \n",
              "4  No Urgent Place  Friend(s)   Sunny           80   2PM   \n",
              "\n",
              "                  coupon expiration  gender age      maritalStatus  ...  \\\n",
              "0        Restaurant(<20)         1d  Female  21  Unmarried partner  ...   \n",
              "1           Coffee House         2h  Female  21  Unmarried partner  ...   \n",
              "2  Carry out & Take away         2h  Female  21  Unmarried partner  ...   \n",
              "3           Coffee House         2h  Female  21  Unmarried partner  ...   \n",
              "4           Coffee House         1d  Female  21  Unmarried partner  ...   \n",
              "\n",
              "   CoffeeHouse CarryAway RestaurantLessThan20 Restaurant20To50  \\\n",
              "0        never       NaN                  4~8              1~3   \n",
              "1        never       NaN                  4~8              1~3   \n",
              "2        never       NaN                  4~8              1~3   \n",
              "3        never       NaN                  4~8              1~3   \n",
              "4        never       NaN                  4~8              1~3   \n",
              "\n",
              "  toCoupon_GEQ5min toCoupon_GEQ15min toCoupon_GEQ25min direction_same  \\\n",
              "0                1                 0                 0              0   \n",
              "1                1                 0                 0              0   \n",
              "2                1                 1                 0              0   \n",
              "3                1                 1                 0              0   \n",
              "4                1                 1                 0              0   \n",
              "\n",
              "  direction_opp  Y  \n",
              "0             1  1  \n",
              "1             1  0  \n",
              "2             1  1  \n",
              "3             1  0  \n",
              "4             1  0  \n",
              "\n",
              "[5 rows x 26 columns]"
            ]
          },
          "execution_count": 6,
          "metadata": {},
          "output_type": "execute_result"
        }
      ],
      "source": [
        "df = pd.read_csv('D:\\Data-Science\\Course\\IE7374\\Projects\\ml_project\\Data_Set\\Vehicle_Coupon.csv') \n",
        "df.head()"
      ]
    },
    {
      "cell_type": "markdown",
      "metadata": {
        "id": "poE8nraqe91s"
      },
      "source": [
        "<a name='1-1-2'></a>\n",
        "#### 1.1.2 -  Dimension\n",
        "The original coupon recommendation dataset is composed with 12684 records and 26 columns."
      ]
    },
    {
      "cell_type": "code",
      "execution_count": 7,
      "metadata": {
        "colab": {
          "base_uri": "https://localhost:8080/"
        },
        "id": "o0v9RJyMe91t",
        "outputId": "db7da490-d6f2-4ba7-d1cf-4b6af5d283d8"
      },
      "outputs": [
        {
          "data": {
            "text/plain": [
              "(12684, 26)"
            ]
          },
          "execution_count": 7,
          "metadata": {},
          "output_type": "execute_result"
        }
      ],
      "source": [
        "df.shape"
      ]
    },
    {
      "cell_type": "markdown",
      "metadata": {
        "id": "GUY_tn72e91u"
      },
      "source": [
        "<a name='1-1-3'></a>\n",
        "#### 1.1.3 - Features Explanations\n",
        "Among 26 columns, 25 of them are features which may affect the acception/rejection of the coupun that are represented as 1/0 in target column. All should be categorical variables as the physical meaning. The features can be roughly categorized into 3 parts, passenger info, coupon info, and driving info. For passenge info, it can be gender, age, maritalStatus, has_child, education, occupation, income (7). For coupon info, they are coupon, expiration, Bar, CoffeHouse, CarryAway, RestaurantLessThan20, Restaurant20To50 (7). For driving info, destination, passanger, weather, time, car, toCoupon_GEQ5min, toCoupon_GEQ15min, toCoupon_GEQ25min, direction_same, direction_opp (10)."
      ]
    },
    {
      "cell_type": "code",
      "execution_count": 8,
      "metadata": {
        "colab": {
          "base_uri": "https://localhost:8080/"
        },
        "id": "dEY0r6yd_26T",
        "outputId": "d00449db-d2aa-4573-b263-666e9a77d83a"
      },
      "outputs": [
        {
          "name": "stdout",
          "output_type": "stream",
          "text": [
            "destination ['No Urgent Place' 'Home' 'Work'] \n",
            "\n",
            "passanger ['Alone' 'Friend(s)' 'Kid(s)' 'Partner'] \n",
            "\n",
            "weather ['Sunny' 'Rainy' 'Snowy'] \n",
            "\n",
            "temperature [55 80 30] \n",
            "\n",
            "time ['2PM' '10AM' '6PM' '7AM' '10PM'] \n",
            "\n",
            "coupon ['Restaurant(<20)' 'Coffee House' 'Carry out & Take away' 'Bar'\n",
            " 'Restaurant(20-50)'] \n",
            "\n",
            "expiration ['1d' '2h'] \n",
            "\n",
            "gender ['Female' 'Male'] \n",
            "\n",
            "age ['21' '46' '26' '31' '41' '50plus' '36' 'below21'] \n",
            "\n",
            "maritalStatus ['Unmarried partner' 'Single' 'Married partner' 'Divorced' 'Widowed'] \n",
            "\n",
            "has_children [1 0] \n",
            "\n",
            "education ['Some college - no degree' 'Bachelors degree' 'Associates degree'\n",
            " 'High School Graduate' 'Graduate degree (Masters or Doctorate)'\n",
            " 'Some High School'] \n",
            "\n",
            "occupation ['Unemployed' 'Architecture & Engineering' 'Student'\n",
            " 'Education&Training&Library' 'Healthcare Support'\n",
            " 'Healthcare Practitioners & Technical' 'Sales & Related' 'Management'\n",
            " 'Arts Design Entertainment Sports & Media' 'Computer & Mathematical'\n",
            " 'Life Physical Social Science' 'Personal Care & Service'\n",
            " 'Community & Social Services' 'Office & Administrative Support'\n",
            " 'Construction & Extraction' 'Legal' 'Retired'\n",
            " 'Installation Maintenance & Repair' 'Transportation & Material Moving'\n",
            " 'Business & Financial' 'Protective Service'\n",
            " 'Food Preparation & Serving Related' 'Production Occupations'\n",
            " 'Building & Grounds Cleaning & Maintenance' 'Farming Fishing & Forestry'] \n",
            "\n",
            "income ['$37500 - $49999' '$62500 - $74999' '$12500 - $24999' '$75000 - $87499'\n",
            " '$50000 - $62499' '$25000 - $37499' '$100000 or More' '$87500 - $99999'\n",
            " 'Less than $12500'] \n",
            "\n",
            "car [nan 'Scooter and motorcycle' 'crossover' 'Mazda5' 'do not drive'\n",
            " 'Car that is too old to install Onstar :D'] \n",
            "\n",
            "Bar ['never' 'less1' '1~3' 'gt8' nan '4~8'] \n",
            "\n",
            "CoffeeHouse ['never' 'less1' '4~8' '1~3' 'gt8' nan] \n",
            "\n",
            "CarryAway [nan '4~8' '1~3' 'gt8' 'less1' 'never'] \n",
            "\n",
            "RestaurantLessThan20 ['4~8' '1~3' 'less1' 'gt8' nan 'never'] \n",
            "\n",
            "Restaurant20To50 ['1~3' 'less1' 'never' 'gt8' '4~8' nan] \n",
            "\n",
            "toCoupon_GEQ5min [1] \n",
            "\n",
            "toCoupon_GEQ15min [0 1] \n",
            "\n",
            "toCoupon_GEQ25min [0 1] \n",
            "\n",
            "direction_same [0 1] \n",
            "\n",
            "direction_opp [1 0] \n",
            "\n",
            "Y [1 0] \n",
            "\n"
          ]
        }
      ],
      "source": [
        "for f in df.columns:\n",
        "  print(f, df[f].unique(), '\\n')"
      ]
    },
    {
      "cell_type": "markdown",
      "metadata": {
        "id": "n5RFgd_Me91v"
      },
      "source": [
        "<a name=\"1-1-4\"></a>\n",
        "#### 1.1.4 -  Features Statistics\n",
        "From above, we understand that the meaning for all columns. In this part, we explore the their data type and quantity to see if whether it meet our expectation for all categorical variables or dectect the outliners. The insights are 1) some of them are int type, so we may need to tranform the data type to category type that can be seen in section 1.2.1. 2) no outliners are detected in the group statistics, thus ensuring the consientency of the data for further analysis."
      ]
    },
    {
      "cell_type": "code",
      "execution_count": 9,
      "metadata": {
        "colab": {
          "base_uri": "https://localhost:8080/"
        },
        "id": "ifL6hlM7e91w",
        "outputId": "3a11c2b5-53e5-4cb8-e22e-92a9b692ce85"
      },
      "outputs": [
        {
          "name": "stdout",
          "output_type": "stream",
          "text": [
            "<class 'pandas.core.frame.DataFrame'>\n",
            "RangeIndex: 12684 entries, 0 to 12683\n",
            "Data columns (total 26 columns):\n",
            " #   Column                Non-Null Count  Dtype \n",
            "---  ------                --------------  ----- \n",
            " 0   destination           12684 non-null  object\n",
            " 1   passanger             12684 non-null  object\n",
            " 2   weather               12684 non-null  object\n",
            " 3   temperature           12684 non-null  int64 \n",
            " 4   time                  12684 non-null  object\n",
            " 5   coupon                12684 non-null  object\n",
            " 6   expiration            12684 non-null  object\n",
            " 7   gender                12684 non-null  object\n",
            " 8   age                   12684 non-null  object\n",
            " 9   maritalStatus         12684 non-null  object\n",
            " 10  has_children          12684 non-null  int64 \n",
            " 11  education             12684 non-null  object\n",
            " 12  occupation            12684 non-null  object\n",
            " 13  income                12684 non-null  object\n",
            " 14  car                   108 non-null    object\n",
            " 15  Bar                   12577 non-null  object\n",
            " 16  CoffeeHouse           12467 non-null  object\n",
            " 17  CarryAway             12533 non-null  object\n",
            " 18  RestaurantLessThan20  12554 non-null  object\n",
            " 19  Restaurant20To50      12495 non-null  object\n",
            " 20  toCoupon_GEQ5min      12684 non-null  int64 \n",
            " 21  toCoupon_GEQ15min     12684 non-null  int64 \n",
            " 22  toCoupon_GEQ25min     12684 non-null  int64 \n",
            " 23  direction_same        12684 non-null  int64 \n",
            " 24  direction_opp         12684 non-null  int64 \n",
            " 25  Y                     12684 non-null  int64 \n",
            "dtypes: int64(8), object(18)\n",
            "memory usage: 2.5+ MB\n"
          ]
        }
      ],
      "source": [
        "df.info()"
      ]
    },
    {
      "cell_type": "code",
      "execution_count": 11,
      "metadata": {
        "colab": {
          "base_uri": "https://localhost:8080/",
          "height": 364
        },
        "id": "J3bCYjZqe91w",
        "outputId": "748defa6-478d-4a44-ab87-ffca5f652bc8"
      },
      "outputs": [
        {
          "data": {
            "text/html": [
              "<div>\n",
              "<style scoped>\n",
              "    .dataframe tbody tr th:only-of-type {\n",
              "        vertical-align: middle;\n",
              "    }\n",
              "\n",
              "    .dataframe tbody tr th {\n",
              "        vertical-align: top;\n",
              "    }\n",
              "\n",
              "    .dataframe thead th {\n",
              "        text-align: right;\n",
              "    }\n",
              "</style>\n",
              "<table border=\"1\" class=\"dataframe\">\n",
              "  <thead>\n",
              "    <tr style=\"text-align: right;\">\n",
              "      <th></th>\n",
              "      <th>temperature</th>\n",
              "      <th>has_children</th>\n",
              "      <th>toCoupon_GEQ5min</th>\n",
              "      <th>toCoupon_GEQ15min</th>\n",
              "      <th>toCoupon_GEQ25min</th>\n",
              "      <th>direction_same</th>\n",
              "      <th>direction_opp</th>\n",
              "      <th>Y</th>\n",
              "    </tr>\n",
              "  </thead>\n",
              "  <tbody>\n",
              "    <tr>\n",
              "      <th>count</th>\n",
              "      <td>12684.000000</td>\n",
              "      <td>12684.000000</td>\n",
              "      <td>12684.0</td>\n",
              "      <td>12684.000000</td>\n",
              "      <td>12684.000000</td>\n",
              "      <td>12684.000000</td>\n",
              "      <td>12684.000000</td>\n",
              "      <td>12684.000000</td>\n",
              "    </tr>\n",
              "    <tr>\n",
              "      <th>mean</th>\n",
              "      <td>63.301798</td>\n",
              "      <td>0.414144</td>\n",
              "      <td>1.0</td>\n",
              "      <td>0.561495</td>\n",
              "      <td>0.119126</td>\n",
              "      <td>0.214759</td>\n",
              "      <td>0.785241</td>\n",
              "      <td>0.568433</td>\n",
              "    </tr>\n",
              "    <tr>\n",
              "      <th>std</th>\n",
              "      <td>19.154486</td>\n",
              "      <td>0.492593</td>\n",
              "      <td>0.0</td>\n",
              "      <td>0.496224</td>\n",
              "      <td>0.323950</td>\n",
              "      <td>0.410671</td>\n",
              "      <td>0.410671</td>\n",
              "      <td>0.495314</td>\n",
              "    </tr>\n",
              "    <tr>\n",
              "      <th>min</th>\n",
              "      <td>30.000000</td>\n",
              "      <td>0.000000</td>\n",
              "      <td>1.0</td>\n",
              "      <td>0.000000</td>\n",
              "      <td>0.000000</td>\n",
              "      <td>0.000000</td>\n",
              "      <td>0.000000</td>\n",
              "      <td>0.000000</td>\n",
              "    </tr>\n",
              "    <tr>\n",
              "      <th>25%</th>\n",
              "      <td>55.000000</td>\n",
              "      <td>0.000000</td>\n",
              "      <td>1.0</td>\n",
              "      <td>0.000000</td>\n",
              "      <td>0.000000</td>\n",
              "      <td>0.000000</td>\n",
              "      <td>1.000000</td>\n",
              "      <td>0.000000</td>\n",
              "    </tr>\n",
              "    <tr>\n",
              "      <th>50%</th>\n",
              "      <td>80.000000</td>\n",
              "      <td>0.000000</td>\n",
              "      <td>1.0</td>\n",
              "      <td>1.000000</td>\n",
              "      <td>0.000000</td>\n",
              "      <td>0.000000</td>\n",
              "      <td>1.000000</td>\n",
              "      <td>1.000000</td>\n",
              "    </tr>\n",
              "    <tr>\n",
              "      <th>75%</th>\n",
              "      <td>80.000000</td>\n",
              "      <td>1.000000</td>\n",
              "      <td>1.0</td>\n",
              "      <td>1.000000</td>\n",
              "      <td>0.000000</td>\n",
              "      <td>0.000000</td>\n",
              "      <td>1.000000</td>\n",
              "      <td>1.000000</td>\n",
              "    </tr>\n",
              "    <tr>\n",
              "      <th>max</th>\n",
              "      <td>80.000000</td>\n",
              "      <td>1.000000</td>\n",
              "      <td>1.0</td>\n",
              "      <td>1.000000</td>\n",
              "      <td>1.000000</td>\n",
              "      <td>1.000000</td>\n",
              "      <td>1.000000</td>\n",
              "      <td>1.000000</td>\n",
              "    </tr>\n",
              "  </tbody>\n",
              "</table>\n",
              "</div>"
            ],
            "text/plain": [
              "        temperature  has_children  toCoupon_GEQ5min  toCoupon_GEQ15min  \\\n",
              "count  12684.000000  12684.000000           12684.0       12684.000000   \n",
              "mean      63.301798      0.414144               1.0           0.561495   \n",
              "std       19.154486      0.492593               0.0           0.496224   \n",
              "min       30.000000      0.000000               1.0           0.000000   \n",
              "25%       55.000000      0.000000               1.0           0.000000   \n",
              "50%       80.000000      0.000000               1.0           1.000000   \n",
              "75%       80.000000      1.000000               1.0           1.000000   \n",
              "max       80.000000      1.000000               1.0           1.000000   \n",
              "\n",
              "       toCoupon_GEQ25min  direction_same  direction_opp             Y  \n",
              "count       12684.000000    12684.000000   12684.000000  12684.000000  \n",
              "mean            0.119126        0.214759       0.785241      0.568433  \n",
              "std             0.323950        0.410671       0.410671      0.495314  \n",
              "min             0.000000        0.000000       0.000000      0.000000  \n",
              "25%             0.000000        0.000000       1.000000      0.000000  \n",
              "50%             0.000000        0.000000       1.000000      1.000000  \n",
              "75%             0.000000        0.000000       1.000000      1.000000  \n",
              "max             1.000000        1.000000       1.000000      1.000000  "
            ]
          },
          "execution_count": 11,
          "metadata": {},
          "output_type": "execute_result"
        }
      ],
      "source": [
        "df.describe()"
      ]
    },
    {
      "cell_type": "markdown",
      "metadata": {
        "id": "fOELjWoDe91x"
      },
      "source": [
        "<a name='1-1-5'></a>\n",
        "#### 1.1.5 - Null or not\n",
        "99.15 percent of values in car column is null, and ~1 percent of values in Bar, CoffeHouse, CarryAway, RestaurantLessThan20, Restaurant20To50 are missing. As a measure, we plans to drop the car column (section 1.2.2) and impute other nan value in the abovementioned columns, as is implementated in section 1.2.3. "
      ]
    },
    {
      "cell_type": "code",
      "execution_count": 10,
      "metadata": {
        "colab": {
          "base_uri": "https://localhost:8080/"
        },
        "id": "S1_nOkt_e91x",
        "outputId": "c05438cf-0f25-447a-d74c-066c3744fe83"
      },
      "outputs": [
        {
          "data": {
            "text/plain": [
              "destination              0.000000\n",
              "passanger                0.000000\n",
              "weather                  0.000000\n",
              "temperature              0.000000\n",
              "time                     0.000000\n",
              "coupon                   0.000000\n",
              "expiration               0.000000\n",
              "gender                   0.000000\n",
              "age                      0.000000\n",
              "maritalStatus            0.000000\n",
              "has_children             0.000000\n",
              "education                0.000000\n",
              "occupation               0.000000\n",
              "income                   0.000000\n",
              "car                     99.148534\n",
              "Bar                      0.843582\n",
              "CoffeeHouse              1.710817\n",
              "CarryAway                1.190476\n",
              "RestaurantLessThan20     1.024913\n",
              "Restaurant20To50         1.490066\n",
              "toCoupon_GEQ5min         0.000000\n",
              "toCoupon_GEQ15min        0.000000\n",
              "toCoupon_GEQ25min        0.000000\n",
              "direction_same           0.000000\n",
              "direction_opp            0.000000\n",
              "Y                        0.000000\n",
              "dtype: float64"
            ]
          },
          "execution_count": 10,
          "metadata": {},
          "output_type": "execute_result"
        }
      ],
      "source": [
        "df.isnull().sum() / df.shape[0] * 100"
      ]
    },
    {
      "cell_type": "markdown",
      "metadata": {
        "id": "QOT6365Ve91y"
      },
      "source": [
        "<a name='1-2'></a>\n",
        "### 1.2 - Data cleaning and transformation\n",
        "From the observations from section 1.1 know your data, we set data type to catergory to avoid some unexpected int encoding, drop the car column for its nearly 90% null value and impute the rest lack data using the most frequent category that happens in that feature. What I want to note is that this part can prepare for exploratory data analysis but not for the models. For latter purpose, we have a separate chapter, 3. Feature Engineering, to acheive."
      ]
    },
    {
      "cell_type": "markdown",
      "metadata": {
        "id": "0ipWj4ore91z"
      },
      "source": [
        "<a name='1-2-1'></a>\n",
        "#### 1.2.1 -  Set data type as category"
      ]
    },
    {
      "cell_type": "code",
      "execution_count": 12,
      "metadata": {
        "colab": {
          "base_uri": "https://localhost:8080/"
        },
        "id": "26py3PYJe91z",
        "outputId": "ab656b46-c12a-4620-df14-a0e90dc13a41"
      },
      "outputs": [
        {
          "data": {
            "text/plain": [
              "destination             category\n",
              "passanger               category\n",
              "weather                 category\n",
              "temperature             category\n",
              "time                    category\n",
              "coupon                  category\n",
              "expiration              category\n",
              "gender                  category\n",
              "age                     category\n",
              "maritalStatus           category\n",
              "has_children            category\n",
              "education               category\n",
              "occupation              category\n",
              "income                  category\n",
              "car                     category\n",
              "Bar                     category\n",
              "CoffeeHouse             category\n",
              "CarryAway               category\n",
              "RestaurantLessThan20    category\n",
              "Restaurant20To50        category\n",
              "toCoupon_GEQ5min        category\n",
              "toCoupon_GEQ15min       category\n",
              "toCoupon_GEQ25min       category\n",
              "direction_same          category\n",
              "direction_opp           category\n",
              "Y                       category\n",
              "dtype: object"
            ]
          },
          "execution_count": 12,
          "metadata": {},
          "output_type": "execute_result"
        }
      ],
      "source": [
        "df = df.astype('category')\n",
        "df.dtypes"
      ]
    },
    {
      "cell_type": "markdown",
      "metadata": {
        "id": "8yzvTmI7e91y"
      },
      "source": [
        "<a name='1-2-2'></a>\n",
        "#### 1.2.2 - Drop car column"
      ]
    },
    {
      "cell_type": "code",
      "execution_count": 13,
      "metadata": {
        "colab": {
          "base_uri": "https://localhost:8080/"
        },
        "id": "5yAc4_0Xe91y",
        "outputId": "30454728-6b79-4d80-e714-2d5a70775a8e"
      },
      "outputs": [
        {
          "data": {
            "text/plain": [
              "Index(['destination', 'passanger', 'weather', 'temperature', 'time', 'coupon',\n",
              "       'expiration', 'gender', 'age', 'maritalStatus', 'has_children',\n",
              "       'education', 'occupation', 'income', 'Bar', 'CoffeeHouse', 'CarryAway',\n",
              "       'RestaurantLessThan20', 'Restaurant20To50', 'toCoupon_GEQ5min',\n",
              "       'toCoupon_GEQ15min', 'toCoupon_GEQ25min', 'direction_same',\n",
              "       'direction_opp', 'Y'],\n",
              "      dtype='object')"
            ]
          },
          "execution_count": 13,
          "metadata": {},
          "output_type": "execute_result"
        }
      ],
      "source": [
        "df.drop(columns='car', inplace=True)\n",
        "df.columns"
      ]
    },
    {
      "cell_type": "markdown",
      "metadata": {
        "id": "3uD1s5y2e910"
      },
      "source": [
        "<a name='1-2-3'></a>\n",
        "#### 1.2.3 - Impute lack data"
      ]
    },
    {
      "cell_type": "markdown",
      "metadata": {
        "id": "hhEiD5fBe910"
      },
      "source": [
        "[Ref](https://jamesrledoux.com/code/imputation#:~:text=One%20approach%20to%20imputing%20categorical,given%20in%20Pandas'%20value_counts%20function.)"
      ]
    },
    {
      "cell_type": "code",
      "execution_count": 14,
      "metadata": {
        "colab": {
          "base_uri": "https://localhost:8080/"
        },
        "id": "3WwLcg24e911",
        "outputId": "12078362-f11a-456a-9f5d-60cbc440d866"
      },
      "outputs": [
        {
          "data": {
            "text/plain": [
              "0"
            ]
          },
          "execution_count": 14,
          "metadata": {},
          "output_type": "execute_result"
        }
      ],
      "source": [
        "df = df.apply(lambda x: x.fillna(x.value_counts().index[0]))\n",
        "df.isnull().sum().sum()"
      ]
    },
    {
      "cell_type": "markdown",
      "metadata": {
        "id": "unGjgh34iPnx"
      },
      "source": [
        "### 1.3 - Summary\n",
        "We start with how the data looks like, its dimension, features meaning, features statistics to see if there are abnormal values based on domain knowldege, and check null values for potential drop or imputation. Then, we switch to data cleaning and transformation with respect to the insights from last step. Because, our data are catergorical, so we check the its consistency by looking unique values for all features in feature statistics. If there is numerical data, scatter plot for all features and target would be a wise option to detect the outliners."
      ]
    },
    {
      "cell_type": "markdown",
      "metadata": {
        "id": "nQeo_AFJe911"
      },
      "source": [
        "<a name='2'></a>\n",
        "## 2 - Exploratory Data Analysis\n",
        "This chapter mine the relationship between influential factors on coupons acception. At first, we compare the coupon acception and rejection rate for \n",
        "the acquaintance of current advertising situation and the significance of a recommendation system with a high accuracy. Then, we ask which features may influene the coupons acception? And how do they impact? After all explaration, we will know the answer of those questions."
      ]
    },
    {
      "cell_type": "markdown",
      "metadata": {
        "id": "zYZUL6CJe911"
      },
      "source": [
        "<a name='2-1'></a>\n",
        "### 2.1 - Comparison between coupon acception and rejection\n",
        "\n",
        "The accept number is 7210 and reject one is 5474. It can be roughly regarded as balance data set. Then we draw a bar chart and pie to represent the number and ratio. \n",
        "\n",
        "- Create a combination graph with left bar chart to show the number, and right pie chart to show the ratio."
      ]
    },
    {
      "cell_type": "code",
      "execution_count": 15,
      "metadata": {
        "colab": {
          "base_uri": "https://localhost:8080/"
        },
        "id": "QTdccBxHuoq_",
        "outputId": "a055528e-9068-4a3a-8585-af1a9e8f1618"
      },
      "outputs": [
        {
          "name": "stdout",
          "output_type": "stream",
          "text": [
            "The accept number is 7210, and the reject number is 5474, with rates 0.57, 0.43 respectively \n"
          ]
        }
      ],
      "source": [
        "accept_num = (df.Y == 1).sum() \n",
        "reject_num = (df.Y == 0).sum() \n",
        "accept_rate = (df.Y == 1).sum() / df.shape[0]\n",
        "reject_rate = 1 - accept_rate\n",
        "print(\"The accept number is %i, and the reject number is %i, with rates %.2f, %.2f \\\n",
        "respectively \" %(accept_num, reject_num, accept_rate, reject_rate))"
      ]
    },
    {
      "cell_type": "code",
      "execution_count": 51,
      "metadata": {
        "colab": {
          "base_uri": "https://localhost:8080/",
          "height": 321
        },
        "id": "Y3Y0xwO6e911",
        "outputId": "7bd9a4cb-cf72-46c3-c5b4-2fb8f32f9b38"
      },
      "outputs": [
        {
          "data": {
            "image/png": "[encoded data removed]",
            "text/plain": [
              "<Figure size 432x288 with 1 Axes>"
            ]
          },
          "metadata": {},
          "output_type": "display_data"
        }
      ],
      "source": [
        "def make_pie(sizes, text,colors,labels):\n",
        "    import matplotlib.pyplot as plt\n",
        "    import numpy as np\n",
        "\n",
        "    col = [[i/255. for i in c] for c in colors]\n",
        "\n",
        "    fig, ax = plt.subplots()\n",
        "    ax.axis('equal')\n",
        "    width = 0.35\n",
        "    kwargs = dict(colors=col, startangle=180, autopct='%1.1f%%')\n",
        "    outside, _, _ = ax.pie(sizes, radius=1.5, pctdistance=1-width/2,\n",
        "                       labels=labels,**kwargs)\n",
        "    plt.setp( outside, width=width, edgecolor='white')\n",
        "\n",
        "    kwargs = dict(size=20, fontweight='bold', va='center')\n",
        "    ax.text(0, 0, text, ha='center', **kwargs)\n",
        "    plt.show()\n",
        "\n",
        "c1 = (226,33,7)\n",
        "c2 = (60,121,189)\n",
        "\n",
        "make_pie([7210,5474], \"Acception\",[c1,c2],['Y','N'])\n",
        "\n"
      ]
    },
    {
      "cell_type": "markdown",
      "metadata": {
        "id": "X43ayVBce912"
      },
      "source": [
        "<a name='2-2'></a>\n",
        "### 2.2 -  Which features will be indepedent of target?\n",
        "We conduct Chi-square test and plot p values using heatmap to verify the independence between features and target. From the bottom line of the heatmap, we can tell the p values between toCoupon_GET5min, destination_same, destination_opp and Y target are 1, 0.1, 0.1. If our alpha limit set as 0.05, that means if the p-value is below 0.05, we will regard the dependency relationship between features and target and indepedent one for those two variables if their p-value is above 0.05. This provide the reference for feature selection.\n",
        "[Ref](https://medium.com/analytics-vidhya/constructing-heat-map-for-chi-square-test-of-independence-6d78aa2b140f#id_token=eyJhbGciOiJSUzI1NiIsImtpZCI6IjFiZDY4NWY1ZThmYzYyZDc1ODcwNWMxZWIwZThhNzUyNGM0NzU5NzUiLCJ0eXAiOiJKV1QifQ.eyJpc3MiOiJodHRwczovL2FjY291bnRzLmdvb2dsZS5jb20iLCJuYmYiOjE2NTc1NzcwNTcsImF1ZCI6IjIxNjI5NjAzNTgzNC1rMWs2cWUwNjBzMnRwMmEyamFtNGxqZGNtczAwc3R0Zy5hcHBzLmdvb2dsZXVzZXJjb250ZW50LmNvbSIsInN1YiI6IjExNjk2NjQyODk4MDIxNTU1MjE0OSIsImVtYWlsIjoieWFubWluZ2xpdTIxQGdtYWlsLmNvbSIsImVtYWlsX3ZlcmlmaWVkIjp0cnVlLCJhenAiOiIyMTYyOTYwMzU4MzQtazFrNnFlMDYwczJ0cDJhMmphbTRsamRjbXMwMHN0dGcuYXBwcy5nb29nbGV1c2VyY29udGVudC5jb20iLCJuYW1lIjoiWWFubWluZyBMaXUiLCJwaWN0dXJlIjoiaHR0cHM6Ly9saDMuZ29vZ2xldXNlcmNvbnRlbnQuY29tL2EvQUl0YnZtbW1DdnlEVzktaWF0dXQzYXhlQWFlZGpIWV9TY2laNWI4M3dfLTY9czk2LWMiLCJnaXZlbl9uYW1lIjoiWWFubWluZyIsImZhbWlseV9uYW1lIjoiTGl1IiwiaWF0IjoxNjU3NTc3MzU3LCJleHAiOjE2NTc1ODA5NTcsImp0aSI6IjhmMmJjM2MwOTk2NDZmMDdiODBhYTZmNWE5OGY5ZGU0YTk3YzAxMTQifQ.Tvz3S-XbT029APxcmsPETDBUj8S1ir0iYejfv9QbpWLtuCDYwxxbDuQv1FCL9Wz_D8hmxPutvuOgrF-dFT5oMYTq6rn0hV8Z0UNNn8rBR_KofiuSx10ChpZgJfmMAtqccsfW20Yk__v_xvZPNOLnjiHdXZAtoQiWUNo9VFAZ58NM98KjLfkkJ0r715iuIQrnyzWnUnabgwO96GT1OTaLynipdg6ugvClNENa3WZIncBtdqlP4jeTE7QOEPnTMRUntHGCTj5VRsnJRYt3OYpE6BqQgANptFUygI-K47IM5WSAicSFzmxyp9CgJxQ3U4d4S3LPKqiBy63v7gkxkLJPhQ)"
      ]
    },
    {
      "cell_type": "code",
      "execution_count": 16,
      "metadata": {
        "colab": {
          "base_uri": "https://localhost:8080/",
          "height": 826
        },
        "id": "tJu2-EOEe914",
        "outputId": "73aab5fc-3a00-48d1-c7ee-87e96fab2246"
      },
      "outputs": [
        {
          "data": {
            "text/plain": [
              "<AxesSubplot:>"
            ]
          },
          "execution_count": 16,
          "metadata": {},
          "output_type": "execute_result"
        },
        {
          "data": {
            "image/png": "[encoded data removed]",
            "text/plain": [
              "<Figure size 1152x864 with 2 Axes>"
            ]
          },
          "metadata": {
            "needs_background": "light"
          },
          "output_type": "display_data"
        }
      ],
      "source": [
        "df = df.astype('object')\n",
        "column_names=df.columns\n",
        "\n",
        "chisqmatrix=pd.DataFrame(df,columns=column_names,index=column_names)\n",
        "\n",
        "\n",
        "outercnt=0\n",
        "innercnt=0\n",
        "for icol in column_names:\n",
        "    for jcol in column_names:\n",
        "       mycrosstab=pd.crosstab(df[icol],df[jcol])\n",
        "       stat,p,dof,expected=stats.chi2_contingency(mycrosstab)\n",
        "       chisqmatrix.iloc[outercnt,innercnt]=round(p,3)\n",
        "       cntexpected=expected[expected<5].size\n",
        "       perexpected=((expected.size-cntexpected)/expected.size)*100\n",
        "       if perexpected<20:\n",
        "            chisqmatrix.iloc[outercnt,innercnt]=2\n",
        "       if icol==jcol:\n",
        "           chisqmatrix.iloc[outercnt,innercnt]=0.00\n",
        "       innercnt=innercnt+1\n",
        "    outercnt=outercnt+1\n",
        "    innercnt=0\n",
        "    \n",
        "\n",
        "plt.figure(figsize = (16,12))\n",
        "sns.heatmap(chisqmatrix.astype(np.float64), annot=True,linewidths=0.1, \n",
        "            cmap='coolwarm')\n",
        "\n",
        "# Question: 2 perspectives here. If we see the bottom row of this heatmap, \n",
        "# we can easily remove those with bigger p values with alpha = .05 for they \n",
        "# are indepdent. How do we deal those variables among features for a relatie\n",
        "# small value?"
      ]
    },
    {
      "cell_type": "markdown",
      "metadata": {
        "id": "Td2uLBJIe915"
      },
      "source": [
        "<a name='2-3'></a>\n",
        "### 2.3 - How do the rest of features will influence the target ?\n"
      ]
    },
    {
      "cell_type": "markdown",
      "metadata": {
        "id": "ikDlJhiFe915"
      },
      "source": [
        "[Ref](https://stackoverflow.com/questions/63687789/how-do-i-create-a-pie-chart-using-categorical-data-in-matplotlib)"
      ]
    },
    {
      "cell_type": "code",
      "execution_count": 17,
      "metadata": {
        "colab": {
          "base_uri": "https://localhost:8080/",
          "height": 1000
        },
        "id": "Mz1mACCje915",
        "outputId": "98aed15a-79af-4369-d321-7371a1c58132"
      },
      "outputs": [
        {
          "data": {
            "image/png": "[encoded data removed]",
            "text/plain": [
              "<Figure size 432x288 with 1 Axes>"
            ]
          },
          "metadata": {
            "needs_background": "light"
          },
          "output_type": "display_data"
        },
        {
          "data": {
            "image/png": "[encoded data removed]",
            "text/plain": [
              "<Figure size 432x288 with 1 Axes>"
            ]
          },
          "metadata": {
            "needs_background": "light"
          },
          "output_type": "display_data"
        },
        {
          "data": {
            "image/png": "[encoded data removed]",
            "text/plain": [
              "<Figure size 432x288 with 1 Axes>"
            ]
          },
          "metadata": {
            "needs_background": "light"
          },
          "output_type": "display_data"
        },
        {
          "data": {
            "image/png": "[encoded data removed]",
            "text/plain": [
              "<Figure size 432x288 with 1 Axes>"
            ]
          },
          "metadata": {
            "needs_background": "light"
          },
          "output_type": "display_data"
        },
        {
          "data": {
            "image/png": "[encoded data removed]",
            "text/plain": [
              "<Figure size 432x288 with 1 Axes>"
            ]
          },
          "metadata": {
            "needs_background": "light"
          },
          "output_type": "display_data"
        },
        {
          "data": {
            "image/png": "[encoded data removed]",
            "text/plain": [
              "<Figure size 432x288 with 1 Axes>"
            ]
          },
          "metadata": {
            "needs_background": "light"
          },
          "output_type": "display_data"
        },
        {
          "data": {
            "image/png": "[encoded data removed]",
            "text/plain": [
              "<Figure size 432x288 with 1 Axes>"
            ]
          },
          "metadata": {
            "needs_background": "light"
          },
          "output_type": "display_data"
        },
        {
          "data": {
            "image/png": "[encoded data removed]",
            "text/plain": [
              "<Figure size 432x288 with 1 Axes>"
            ]
          },
          "metadata": {
            "needs_background": "light"
          },
          "output_type": "display_data"
        },
        {
          "data": {
            "image/png": "[encoded data removed]",
            "text/plain": [
              "<Figure size 432x288 with 1 Axes>"
            ]
          },
          "metadata": {
            "needs_background": "light"
          },
          "output_type": "display_data"
        },
        {
          "data": {
            "image/png": "[encoded data removed]",
            "text/plain": [
              "<Figure size 432x288 with 1 Axes>"
            ]
          },
          "metadata": {
            "needs_background": "light"
          },
          "output_type": "display_data"
        },
        {
          "data": {
            "image/png": "[encoded data removed]",
            "text/plain": [
              "<Figure size 432x288 with 1 Axes>"
            ]
          },
          "metadata": {
            "needs_background": "light"
          },
          "output_type": "display_data"
        },
        {
          "data": {
            "image/png": "[encoded data removed]",
            "text/plain": [
              "<Figure size 432x288 with 1 Axes>"
            ]
          },
          "metadata": {
            "needs_background": "light"
          },
          "output_type": "display_data"
        },
        {
          "data": {
            "image/png": "[encoded data removed]",
            "text/plain": [
              "<Figure size 432x288 with 1 Axes>"
            ]
          },
          "metadata": {
            "needs_background": "light"
          },
          "output_type": "display_data"
        },
        {
          "data": {
            "image/png": "[encoded data removed]",
            "text/plain": [
              "<Figure size 432x288 with 1 Axes>"
            ]
          },
          "metadata": {
            "needs_background": "light"
          },
          "output_type": "display_data"
        },
        {
          "data": {
            "image/png": "[encoded data removed]",
            "text/plain": [
              "<Figure size 432x288 with 1 Axes>"
            ]
          },
          "metadata": {
            "needs_background": "light"
          },
          "output_type": "display_data"
        },
        {
          "data": {
            "image/png": "[encoded data removed]",
            "text/plain": [
              "<Figure size 432x288 with 1 Axes>"
            ]
          },
          "metadata": {
            "needs_background": "light"
          },
          "output_type": "display_data"
        },
        {
          "data": {
            "image/png": "[encoded data removed]",
            "text/plain": [
              "<Figure size 432x288 with 1 Axes>"
            ]
          },
          "metadata": {
            "needs_background": "light"
          },
          "output_type": "display_data"
        },
        {
          "data": {
            "image/png": "[encoded data removed]",
            "text/plain": [
              "<Figure size 432x288 with 1 Axes>"
            ]
          },
          "metadata": {
            "needs_background": "light"
          },
          "output_type": "display_data"
        },
        {
          "data": {
            "image/png": "[encoded data removed]",
            "text/plain": [
              "<Figure size 432x288 with 1 Axes>"
            ]
          },
          "metadata": {
            "needs_background": "light"
          },
          "output_type": "display_data"
        },
        {
          "data": {
            "image/png": "[encoded data removed]",
            "text/plain": [
              "<Figure size 432x288 with 1 Axes>"
            ]
          },
          "metadata": {
            "needs_background": "light"
          },
          "output_type": "display_data"
        },
        {
          "data": {
            "image/png": "[encoded data removed]",
            "text/plain": [
              "<Figure size 432x288 with 1 Axes>"
            ]
          },
          "metadata": {
            "needs_background": "light"
          },
          "output_type": "display_data"
        },
        {
          "data": {
            "image/png": "[encoded data removed]",
            "text/plain": [
              "<Figure size 432x288 with 1 Axes>"
            ]
          },
          "metadata": {
            "needs_background": "light"
          },
          "output_type": "display_data"
        },
        {
          "data": {
            "image/png": "[encoded data removed]",
            "text/plain": [
              "<Figure size 432x288 with 1 Axes>"
            ]
          },
          "metadata": {
            "needs_background": "light"
          },
          "output_type": "display_data"
        },
        {
          "data": {
            "image/png": "[encoded data removed]",
            "text/plain": [
              "<Figure size 432x288 with 1 Axes>"
            ]
          },
          "metadata": {
            "needs_background": "light"
          },
          "output_type": "display_data"
        }
      ],
      "source": [
        "count = 0\n",
        "target = df.columns[-1]\n",
        "for cat_val in df.columns:\n",
        "  if cat_val == target: \n",
        "    continue\n",
        "  temp_df = df.loc[:, [cat_val, target]]  \n",
        "  temp_df = temp_df.groupby([cat_val, target]).size().reset_index(name='count')\n",
        "  pivot_df = pd.pivot_table(temp_df, values='count', index=cat_val, columns=target)\n",
        "  pivot_df.plot(kind='bar')\n",
        "  count += 1"
      ]
    },
    {
      "cell_type": "markdown",
      "metadata": {
        "id": "gyv8dW6Ue916"
      },
      "source": [
        "<a name='3'></a>\n",
        "## 3 - Feature Engineering\n",
        "This chapter consists of feature selection and encoding for application to the models. It should answer the following quesitons, 1) what is the standard for feature selection? 2) which encoding style is the best for our coupon data?"
      ]
    },
    {
      "cell_type": "markdown",
      "metadata": {
        "id": "BqyhqX45e916"
      },
      "source": [
        "<a name='3-1'></a>\n",
        "### 3.1 -  Feature selection\n",
        "We assume that the target and features are related only the confidence is above 95 percent. By observing the bottom row in the heatmap in section 2.2, those 3 columns, **toCoupon_GEQ5min, direction_same, direction_opp**, are removed as not meeting the confidence conditions."
      ]
    },
    {
      "cell_type": "code",
      "execution_count": 18,
      "metadata": {
        "colab": {
          "base_uri": "https://localhost:8080/"
        },
        "id": "PG9AqLbqe916",
        "outputId": "e53a54f7-dd6e-4ec4-9d7d-c14b33c7fc3e"
      },
      "outputs": [
        {
          "name": "stdout",
          "output_type": "stream",
          "text": [
            "25\n",
            "22\n"
          ]
        }
      ],
      "source": [
        "df_droped = df.drop(columns = ['toCoupon_GEQ5min', 'direction_same', 'direction_opp'])\n",
        "print(len(df.columns))\n",
        "print(len(df_droped.columns))\n",
        "# df_droped.to_csv('Data_Dropped.csv')"
      ]
    },
    {
      "cell_type": "markdown",
      "metadata": {
        "id": "9ses2qWye917"
      },
      "source": [
        "<a name=3-2></a>\n",
        "### 3.2 - Feature encoding\n",
        "For our catergorical variables, we tries the one hot encoding, oridinal encoding without any orders, ordinal encoding with orders, target encoding with orders, catboost, and autoencoder. Before we start, we just try to get the dataframe version of the cleaned data, and then split them into train data, validation data, and test data with a ratio 6/2/2 as Andrew Ng’s online machine learning course recommends so.\n",
        "\n",
        "[Encoding categorical variables](https://kiwidamien.github.io/encoding-categorical-variables.html)"
      ]
    },
    {
      "cell_type": "code",
      "execution_count": 19,
      "metadata": {
        "colab": {
          "base_uri": "https://localhost:8080/"
        },
        "id": "TouvrAoLe919",
        "outputId": "4669869c-2665-4293-d616-2a095340b0be"
      },
      "outputs": [
        {
          "name": "stdout",
          "output_type": "stream",
          "text": [
            "(7610, 21) (2537, 21) (2537, 21) (7610, 1) (2537, 1) (2537, 1)\n"
          ]
        }
      ],
      "source": [
        "target = ['Y']\n",
        "XP = df_droped.drop(columns = target)\n",
        "yP = df_droped[target]\n",
        "XTrain, XTest, yTrain, yTest = train_test_split(XP, yP, test_size=0.2, random_state=0)\n",
        "XTrain, XValid, yTrain, yValid = train_test_split(XTrain, yTrain, test_size=0.25, random_state=0)\n",
        "print(XTrain.shape, XValid.shape, XTest.shape, yTrain.shape, yValid.shape, yTest.shape)"
      ]
    },
    {
      "cell_type": "markdown",
      "metadata": {
        "id": "jh2CfpNVe919"
      },
      "source": [
        "<a name='3-2-1'></a>\n",
        "#### 3.2.1 - Ordinal encoding\n",
        "Ordinal encoding converts each label into integer values and the encoded data represents the sequence of labels. Here, we tried two ways, package and manual implementation. The package is category_encoder to assign values for categories in features randomly, manual implementation maps the relationships between categories and integer values with prior knowledge. Furthermore, we can oridinal encode to all features or some features, like age, education, incoimme, Bar, CoffeHouse, CarryAway, RestaurantLessThan20, Restaurant20To50. "
      ]
    },
    {
      "cell_type": "code",
      "execution_count": 20,
      "metadata": {
        "id": "ZdrRkCkKe91-"
      },
      "outputs": [],
      "source": [
        "# Ordinal encoding using category_encoder package with random integer asssignment\n",
        "def ordinal_encoder(train, valid, test, columns):\n",
        "    oe = ce.OrdinalEncoder(cols=columns, return_df=True)\n",
        "    train_transformed = oe.fit_transform(train)\n",
        "    valid_transformed = oe.transform(valid)\n",
        "    test_transformed = oe.transform(test)\n",
        "    return train_transformed, valid_transformed, test_transformed\n",
        "\n",
        "\n",
        "# Ordinal encoding manually with specific integer assigment for categories based\n",
        "# on domain knowledge\n",
        "def ordinal_encoding(df):\n",
        "    clean_df = df.copy()\n",
        "    frequency_map = {\n",
        "        'never': 0,\n",
        "        'less1': 1,\n",
        "        '1~3': 2,\n",
        "        '4~8': 3,\n",
        "        'gt8': 4\n",
        "    }\n",
        "    \n",
        "    age_map = {\n",
        "        'below21': 0,\n",
        "        '21': 1,\n",
        "        '26': 2,\n",
        "        '31': 3,\n",
        "        '36': 4,\n",
        "        '41': 5,\n",
        "        '46': 6,\n",
        "        '50plus': 7\n",
        "    }\n",
        "    \n",
        "    income_map = {\n",
        "        'Less than $12500': 0,\n",
        "        '$12500 - $24999': 1,\n",
        "        '$25000 - $37499': 2,\n",
        "        '$37500 - $49999': 3,\n",
        "        '$50000 - $62499': 4,\n",
        "        '$62500 - $74999': 5,\n",
        "        '$75000 - $87499': 6,\n",
        "        '$87500 - $99999': 7,\n",
        "        '$100000 or More': 8\n",
        "    }\n",
        "    \n",
        "    frequency_cols = ['Restaurant20To50', 'RestaurantLessThan20',\n",
        "                      'CarryAway', 'CoffeeHouse', 'Bar']\n",
        "\n",
        "    \n",
        "    education_map = {\n",
        "        'Some High School': 0, \n",
        "        'High School Graduate': 1,\n",
        "        'Some college - no degree': 2,\n",
        "        'Associates degree': 3,\n",
        "        'Bachelors degree': 4,\n",
        "        'Graduate degree (Masters or Doctorate)': 5\n",
        "    }\n",
        "        \n",
        "    \n",
        "    for col in frequency_cols:\n",
        "        clean_df[col] = clean_df[col].map(frequency_map)\n",
        "    clean_df.age = clean_df.age.map(age_map)\n",
        "    clean_df.income = clean_df.income.map(income_map)\n",
        "    clean_df.education = clean_df.education.map(education_map)\n",
        "\n",
        "    return clean_df"
      ]
    },
    {
      "cell_type": "code",
      "execution_count": 21,
      "metadata": {
        "colab": {
          "base_uri": "https://localhost:8080/",
          "height": 1000
        },
        "id": "DBguxqBWe91-",
        "outputId": "e29d3158-5149-4673-e641-063350d270a4"
      },
      "outputs": [
        {
          "name": "stdout",
          "output_type": "stream",
          "text": [
            "Index(['destination', 'passanger', 'weather', 'temperature', 'time', 'coupon',\n",
            "       'expiration', 'gender', 'age', 'maritalStatus', 'has_children',\n",
            "       'education', 'occupation', 'income', 'Bar', 'CoffeeHouse', 'CarryAway',\n",
            "       'RestaurantLessThan20', 'Restaurant20To50', 'toCoupon_GEQ15min',\n",
            "       'toCoupon_GEQ25min', 'Y'],\n",
            "      dtype='object')\n"
          ]
        },
        {
          "data": {
            "text/html": [
              "<div>\n",
              "<style scoped>\n",
              "    .dataframe tbody tr th:only-of-type {\n",
              "        vertical-align: middle;\n",
              "    }\n",
              "\n",
              "    .dataframe tbody tr th {\n",
              "        vertical-align: top;\n",
              "    }\n",
              "\n",
              "    .dataframe thead th {\n",
              "        text-align: right;\n",
              "    }\n",
              "</style>\n",
              "<table border=\"1\" class=\"dataframe\">\n",
              "  <thead>\n",
              "    <tr style=\"text-align: right;\">\n",
              "      <th></th>\n",
              "      <th>destination</th>\n",
              "      <th>passanger</th>\n",
              "      <th>weather</th>\n",
              "      <th>temperature</th>\n",
              "      <th>time</th>\n",
              "      <th>coupon</th>\n",
              "      <th>expiration</th>\n",
              "      <th>gender</th>\n",
              "      <th>age</th>\n",
              "      <th>maritalStatus</th>\n",
              "      <th>...</th>\n",
              "      <th>education</th>\n",
              "      <th>occupation</th>\n",
              "      <th>income</th>\n",
              "      <th>Bar</th>\n",
              "      <th>CoffeeHouse</th>\n",
              "      <th>CarryAway</th>\n",
              "      <th>RestaurantLessThan20</th>\n",
              "      <th>Restaurant20To50</th>\n",
              "      <th>toCoupon_GEQ15min</th>\n",
              "      <th>toCoupon_GEQ25min</th>\n",
              "    </tr>\n",
              "  </thead>\n",
              "  <tbody>\n",
              "    <tr>\n",
              "      <th>9863</th>\n",
              "      <td>No Urgent Place</td>\n",
              "      <td>Alone</td>\n",
              "      <td>Rainy</td>\n",
              "      <td>55</td>\n",
              "      <td>10AM</td>\n",
              "      <td>Coffee House</td>\n",
              "      <td>1d</td>\n",
              "      <td>Male</td>\n",
              "      <td>1</td>\n",
              "      <td>Single</td>\n",
              "      <td>...</td>\n",
              "      <td>1</td>\n",
              "      <td>Office &amp; Administrative Support</td>\n",
              "      <td>1</td>\n",
              "      <td>1</td>\n",
              "      <td>1</td>\n",
              "      <td>1</td>\n",
              "      <td>1</td>\n",
              "      <td>1</td>\n",
              "      <td>1</td>\n",
              "      <td>0</td>\n",
              "    </tr>\n",
              "    <tr>\n",
              "      <th>251</th>\n",
              "      <td>Home</td>\n",
              "      <td>Alone</td>\n",
              "      <td>Sunny</td>\n",
              "      <td>55</td>\n",
              "      <td>6PM</td>\n",
              "      <td>Restaurant(20-50)</td>\n",
              "      <td>1d</td>\n",
              "      <td>Female</td>\n",
              "      <td>2</td>\n",
              "      <td>Single</td>\n",
              "      <td>...</td>\n",
              "      <td>2</td>\n",
              "      <td>Unemployed</td>\n",
              "      <td>2</td>\n",
              "      <td>2</td>\n",
              "      <td>1</td>\n",
              "      <td>2</td>\n",
              "      <td>2</td>\n",
              "      <td>1</td>\n",
              "      <td>1</td>\n",
              "      <td>0</td>\n",
              "    </tr>\n",
              "    <tr>\n",
              "      <th>4949</th>\n",
              "      <td>Home</td>\n",
              "      <td>Alone</td>\n",
              "      <td>Sunny</td>\n",
              "      <td>55</td>\n",
              "      <td>10PM</td>\n",
              "      <td>Carry out &amp; Take away</td>\n",
              "      <td>1d</td>\n",
              "      <td>Male</td>\n",
              "      <td>3</td>\n",
              "      <td>Single</td>\n",
              "      <td>...</td>\n",
              "      <td>2</td>\n",
              "      <td>Production Occupations</td>\n",
              "      <td>1</td>\n",
              "      <td>2</td>\n",
              "      <td>1</td>\n",
              "      <td>2</td>\n",
              "      <td>2</td>\n",
              "      <td>1</td>\n",
              "      <td>1</td>\n",
              "      <td>1</td>\n",
              "    </tr>\n",
              "    <tr>\n",
              "      <th>9411</th>\n",
              "      <td>No Urgent Place</td>\n",
              "      <td>Alone</td>\n",
              "      <td>Sunny</td>\n",
              "      <td>80</td>\n",
              "      <td>10PM</td>\n",
              "      <td>Restaurant(&lt;20)</td>\n",
              "      <td>1d</td>\n",
              "      <td>Female</td>\n",
              "      <td>4</td>\n",
              "      <td>Divorced</td>\n",
              "      <td>...</td>\n",
              "      <td>1</td>\n",
              "      <td>Unemployed</td>\n",
              "      <td>3</td>\n",
              "      <td>3</td>\n",
              "      <td>1</td>\n",
              "      <td>2</td>\n",
              "      <td>2</td>\n",
              "      <td>1</td>\n",
              "      <td>0</td>\n",
              "      <td>0</td>\n",
              "    </tr>\n",
              "    <tr>\n",
              "      <th>6449</th>\n",
              "      <td>Work</td>\n",
              "      <td>Alone</td>\n",
              "      <td>Sunny</td>\n",
              "      <td>80</td>\n",
              "      <td>7AM</td>\n",
              "      <td>Carry out &amp; Take away</td>\n",
              "      <td>1d</td>\n",
              "      <td>Female</td>\n",
              "      <td>5</td>\n",
              "      <td>Single</td>\n",
              "      <td>...</td>\n",
              "      <td>1</td>\n",
              "      <td>Office &amp; Administrative Support</td>\n",
              "      <td>3</td>\n",
              "      <td>2</td>\n",
              "      <td>1</td>\n",
              "      <td>3</td>\n",
              "      <td>2</td>\n",
              "      <td>2</td>\n",
              "      <td>0</td>\n",
              "      <td>0</td>\n",
              "    </tr>\n",
              "  </tbody>\n",
              "</table>\n",
              "<p>5 rows × 21 columns</p>\n",
              "</div>"
            ],
            "text/plain": [
              "          destination passanger weather temperature  time  \\\n",
              "9863  No Urgent Place     Alone   Rainy          55  10AM   \n",
              "251              Home     Alone   Sunny          55   6PM   \n",
              "4949             Home     Alone   Sunny          55  10PM   \n",
              "9411  No Urgent Place     Alone   Sunny          80  10PM   \n",
              "6449             Work     Alone   Sunny          80   7AM   \n",
              "\n",
              "                     coupon expiration  gender  age maritalStatus  ...  \\\n",
              "9863           Coffee House         1d    Male    1        Single  ...   \n",
              "251       Restaurant(20-50)         1d  Female    2        Single  ...   \n",
              "4949  Carry out & Take away         1d    Male    3        Single  ...   \n",
              "9411        Restaurant(<20)         1d  Female    4      Divorced  ...   \n",
              "6449  Carry out & Take away         1d  Female    5        Single  ...   \n",
              "\n",
              "     education                       occupation income  Bar  CoffeeHouse  \\\n",
              "9863         1  Office & Administrative Support      1    1            1   \n",
              "251          2                       Unemployed      2    2            1   \n",
              "4949         2           Production Occupations      1    2            1   \n",
              "9411         1                       Unemployed      3    3            1   \n",
              "6449         1  Office & Administrative Support      3    2            1   \n",
              "\n",
              "      CarryAway  RestaurantLessThan20  Restaurant20To50  toCoupon_GEQ15min  \\\n",
              "9863          1                     1                 1                  1   \n",
              "251           2                     2                 1                  1   \n",
              "4949          2                     2                 1                  1   \n",
              "9411          2                     2                 1                  0   \n",
              "6449          3                     2                 2                  0   \n",
              "\n",
              "     toCoupon_GEQ25min  \n",
              "9863                 0  \n",
              "251                  0  \n",
              "4949                 1  \n",
              "9411                 0  \n",
              "6449                 0  \n",
              "\n",
              "[5 rows x 21 columns]"
            ]
          },
          "metadata": {},
          "output_type": "display_data"
        },
        {
          "data": {
            "text/html": [
              "<div>\n",
              "<style scoped>\n",
              "    .dataframe tbody tr th:only-of-type {\n",
              "        vertical-align: middle;\n",
              "    }\n",
              "\n",
              "    .dataframe tbody tr th {\n",
              "        vertical-align: top;\n",
              "    }\n",
              "\n",
              "    .dataframe thead th {\n",
              "        text-align: right;\n",
              "    }\n",
              "</style>\n",
              "<table border=\"1\" class=\"dataframe\">\n",
              "  <thead>\n",
              "    <tr style=\"text-align: right;\">\n",
              "      <th></th>\n",
              "      <th>destination</th>\n",
              "      <th>passanger</th>\n",
              "      <th>weather</th>\n",
              "      <th>temperature</th>\n",
              "      <th>time</th>\n",
              "      <th>coupon</th>\n",
              "      <th>expiration</th>\n",
              "      <th>gender</th>\n",
              "      <th>age</th>\n",
              "      <th>maritalStatus</th>\n",
              "      <th>...</th>\n",
              "      <th>education</th>\n",
              "      <th>occupation</th>\n",
              "      <th>income</th>\n",
              "      <th>Bar</th>\n",
              "      <th>CoffeeHouse</th>\n",
              "      <th>CarryAway</th>\n",
              "      <th>RestaurantLessThan20</th>\n",
              "      <th>Restaurant20To50</th>\n",
              "      <th>toCoupon_GEQ15min</th>\n",
              "      <th>toCoupon_GEQ25min</th>\n",
              "    </tr>\n",
              "  </thead>\n",
              "  <tbody>\n",
              "    <tr>\n",
              "      <th>6660</th>\n",
              "      <td>Home</td>\n",
              "      <td>Partner</td>\n",
              "      <td>Sunny</td>\n",
              "      <td>55</td>\n",
              "      <td>10PM</td>\n",
              "      <td>Bar</td>\n",
              "      <td>1d</td>\n",
              "      <td>Male</td>\n",
              "      <td>5</td>\n",
              "      <td>Unmarried partner</td>\n",
              "      <td>...</td>\n",
              "      <td>1</td>\n",
              "      <td>Transportation &amp; Material Moving</td>\n",
              "      <td>7</td>\n",
              "      <td>2</td>\n",
              "      <td>3</td>\n",
              "      <td>3</td>\n",
              "      <td>4</td>\n",
              "      <td>1</td>\n",
              "      <td>0</td>\n",
              "      <td>0</td>\n",
              "    </tr>\n",
              "    <tr>\n",
              "      <th>10645</th>\n",
              "      <td>No Urgent Place</td>\n",
              "      <td>Alone</td>\n",
              "      <td>Snowy</td>\n",
              "      <td>30</td>\n",
              "      <td>2PM</td>\n",
              "      <td>Bar</td>\n",
              "      <td>1d</td>\n",
              "      <td>Male</td>\n",
              "      <td>2</td>\n",
              "      <td>Unmarried partner</td>\n",
              "      <td>...</td>\n",
              "      <td>1</td>\n",
              "      <td>Student</td>\n",
              "      <td>2</td>\n",
              "      <td>1</td>\n",
              "      <td>2</td>\n",
              "      <td>2</td>\n",
              "      <td>4</td>\n",
              "      <td>2</td>\n",
              "      <td>0</td>\n",
              "      <td>0</td>\n",
              "    </tr>\n",
              "    <tr>\n",
              "      <th>2127</th>\n",
              "      <td>No Urgent Place</td>\n",
              "      <td>Friend(s)</td>\n",
              "      <td>Sunny</td>\n",
              "      <td>55</td>\n",
              "      <td>2PM</td>\n",
              "      <td>Coffee House</td>\n",
              "      <td>2h</td>\n",
              "      <td>Female</td>\n",
              "      <td>2</td>\n",
              "      <td>Single</td>\n",
              "      <td>...</td>\n",
              "      <td>1</td>\n",
              "      <td>Life Physical Social Science</td>\n",
              "      <td>2</td>\n",
              "      <td>1</td>\n",
              "      <td>2</td>\n",
              "      <td>2</td>\n",
              "      <td>5</td>\n",
              "      <td>1</td>\n",
              "      <td>0</td>\n",
              "      <td>0</td>\n",
              "    </tr>\n",
              "    <tr>\n",
              "      <th>6536</th>\n",
              "      <td>Work</td>\n",
              "      <td>Alone</td>\n",
              "      <td>Sunny</td>\n",
              "      <td>80</td>\n",
              "      <td>7AM</td>\n",
              "      <td>Carry out &amp; Take away</td>\n",
              "      <td>1d</td>\n",
              "      <td>Male</td>\n",
              "      <td>6</td>\n",
              "      <td>Single</td>\n",
              "      <td>...</td>\n",
              "      <td>1</td>\n",
              "      <td>Student</td>\n",
              "      <td>2</td>\n",
              "      <td>2</td>\n",
              "      <td>3</td>\n",
              "      <td>3</td>\n",
              "      <td>5</td>\n",
              "      <td>3</td>\n",
              "      <td>0</td>\n",
              "      <td>0</td>\n",
              "    </tr>\n",
              "    <tr>\n",
              "      <th>330</th>\n",
              "      <td>No Urgent Place</td>\n",
              "      <td>Partner</td>\n",
              "      <td>Sunny</td>\n",
              "      <td>80</td>\n",
              "      <td>10AM</td>\n",
              "      <td>Coffee House</td>\n",
              "      <td>2h</td>\n",
              "      <td>Female</td>\n",
              "      <td>2</td>\n",
              "      <td>Unmarried partner</td>\n",
              "      <td>...</td>\n",
              "      <td>5</td>\n",
              "      <td>Student</td>\n",
              "      <td>4</td>\n",
              "      <td>3</td>\n",
              "      <td>4</td>\n",
              "      <td>3</td>\n",
              "      <td>2</td>\n",
              "      <td>1</td>\n",
              "      <td>0</td>\n",
              "      <td>0</td>\n",
              "    </tr>\n",
              "  </tbody>\n",
              "</table>\n",
              "<p>5 rows × 21 columns</p>\n",
              "</div>"
            ],
            "text/plain": [
              "           destination  passanger weather temperature  time  \\\n",
              "6660              Home    Partner   Sunny          55  10PM   \n",
              "10645  No Urgent Place      Alone   Snowy          30   2PM   \n",
              "2127   No Urgent Place  Friend(s)   Sunny          55   2PM   \n",
              "6536              Work      Alone   Sunny          80   7AM   \n",
              "330    No Urgent Place    Partner   Sunny          80  10AM   \n",
              "\n",
              "                      coupon expiration  gender  age      maritalStatus  ...  \\\n",
              "6660                     Bar         1d    Male    5  Unmarried partner  ...   \n",
              "10645                    Bar         1d    Male    2  Unmarried partner  ...   \n",
              "2127            Coffee House         2h  Female    2             Single  ...   \n",
              "6536   Carry out & Take away         1d    Male    6             Single  ...   \n",
              "330             Coffee House         2h  Female    2  Unmarried partner  ...   \n",
              "\n",
              "      education                        occupation income  Bar  CoffeeHouse  \\\n",
              "6660          1  Transportation & Material Moving      7    2            3   \n",
              "10645         1                           Student      2    1            2   \n",
              "2127          1      Life Physical Social Science      2    1            2   \n",
              "6536          1                           Student      2    2            3   \n",
              "330           5                           Student      4    3            4   \n",
              "\n",
              "       CarryAway  RestaurantLessThan20  Restaurant20To50  toCoupon_GEQ15min  \\\n",
              "6660           3                     4                 1                  0   \n",
              "10645          2                     4                 2                  0   \n",
              "2127           2                     5                 1                  0   \n",
              "6536           3                     5                 3                  0   \n",
              "330            3                     2                 1                  0   \n",
              "\n",
              "      toCoupon_GEQ25min  \n",
              "6660                  0  \n",
              "10645                 0  \n",
              "2127                  0  \n",
              "6536                  0  \n",
              "330                   0  \n",
              "\n",
              "[5 rows x 21 columns]"
            ]
          },
          "metadata": {},
          "output_type": "display_data"
        },
        {
          "data": {
            "text/html": [
              "<div>\n",
              "<style scoped>\n",
              "    .dataframe tbody tr th:only-of-type {\n",
              "        vertical-align: middle;\n",
              "    }\n",
              "\n",
              "    .dataframe tbody tr th {\n",
              "        vertical-align: top;\n",
              "    }\n",
              "\n",
              "    .dataframe thead th {\n",
              "        text-align: right;\n",
              "    }\n",
              "</style>\n",
              "<table border=\"1\" class=\"dataframe\">\n",
              "  <thead>\n",
              "    <tr style=\"text-align: right;\">\n",
              "      <th></th>\n",
              "      <th>destination</th>\n",
              "      <th>passanger</th>\n",
              "      <th>weather</th>\n",
              "      <th>temperature</th>\n",
              "      <th>time</th>\n",
              "      <th>coupon</th>\n",
              "      <th>expiration</th>\n",
              "      <th>gender</th>\n",
              "      <th>age</th>\n",
              "      <th>maritalStatus</th>\n",
              "      <th>...</th>\n",
              "      <th>education</th>\n",
              "      <th>occupation</th>\n",
              "      <th>income</th>\n",
              "      <th>Bar</th>\n",
              "      <th>CoffeeHouse</th>\n",
              "      <th>CarryAway</th>\n",
              "      <th>RestaurantLessThan20</th>\n",
              "      <th>Restaurant20To50</th>\n",
              "      <th>toCoupon_GEQ15min</th>\n",
              "      <th>toCoupon_GEQ25min</th>\n",
              "    </tr>\n",
              "  </thead>\n",
              "  <tbody>\n",
              "    <tr>\n",
              "      <th>12370</th>\n",
              "      <td>No Urgent Place</td>\n",
              "      <td>Friend(s)</td>\n",
              "      <td>Sunny</td>\n",
              "      <td>80</td>\n",
              "      <td>6PM</td>\n",
              "      <td>Restaurant(&lt;20)</td>\n",
              "      <td>2h</td>\n",
              "      <td>Male</td>\n",
              "      <td>5</td>\n",
              "      <td>Single</td>\n",
              "      <td>...</td>\n",
              "      <td>3</td>\n",
              "      <td>Unemployed</td>\n",
              "      <td>7</td>\n",
              "      <td>2</td>\n",
              "      <td>4</td>\n",
              "      <td>2</td>\n",
              "      <td>2</td>\n",
              "      <td>1</td>\n",
              "      <td>0</td>\n",
              "      <td>0</td>\n",
              "    </tr>\n",
              "    <tr>\n",
              "      <th>8332</th>\n",
              "      <td>No Urgent Place</td>\n",
              "      <td>Kid(s)</td>\n",
              "      <td>Sunny</td>\n",
              "      <td>55</td>\n",
              "      <td>2PM</td>\n",
              "      <td>Coffee House</td>\n",
              "      <td>1d</td>\n",
              "      <td>Female</td>\n",
              "      <td>7</td>\n",
              "      <td>Married partner</td>\n",
              "      <td>...</td>\n",
              "      <td>4</td>\n",
              "      <td>Computer &amp; Mathematical</td>\n",
              "      <td>4</td>\n",
              "      <td>1</td>\n",
              "      <td>3</td>\n",
              "      <td>4</td>\n",
              "      <td>2</td>\n",
              "      <td>1</td>\n",
              "      <td>1</td>\n",
              "      <td>0</td>\n",
              "    </tr>\n",
              "    <tr>\n",
              "      <th>8917</th>\n",
              "      <td>No Urgent Place</td>\n",
              "      <td>Friend(s)</td>\n",
              "      <td>Rainy</td>\n",
              "      <td>55</td>\n",
              "      <td>10PM</td>\n",
              "      <td>Restaurant(20-50)</td>\n",
              "      <td>2h</td>\n",
              "      <td>Male</td>\n",
              "      <td>1</td>\n",
              "      <td>Single</td>\n",
              "      <td>...</td>\n",
              "      <td>4</td>\n",
              "      <td>Unemployed</td>\n",
              "      <td>2</td>\n",
              "      <td>3</td>\n",
              "      <td>4</td>\n",
              "      <td>1</td>\n",
              "      <td>4</td>\n",
              "      <td>1</td>\n",
              "      <td>1</td>\n",
              "      <td>0</td>\n",
              "    </tr>\n",
              "    <tr>\n",
              "      <th>6057</th>\n",
              "      <td>Home</td>\n",
              "      <td>Alone</td>\n",
              "      <td>Sunny</td>\n",
              "      <td>55</td>\n",
              "      <td>10PM</td>\n",
              "      <td>Carry out &amp; Take away</td>\n",
              "      <td>1d</td>\n",
              "      <td>Female</td>\n",
              "      <td>5</td>\n",
              "      <td>Single</td>\n",
              "      <td>...</td>\n",
              "      <td>2</td>\n",
              "      <td>Unemployed</td>\n",
              "      <td>2</td>\n",
              "      <td>1</td>\n",
              "      <td>4</td>\n",
              "      <td>2</td>\n",
              "      <td>2</td>\n",
              "      <td>4</td>\n",
              "      <td>1</td>\n",
              "      <td>1</td>\n",
              "    </tr>\n",
              "    <tr>\n",
              "      <th>10644</th>\n",
              "      <td>No Urgent Place</td>\n",
              "      <td>Alone</td>\n",
              "      <td>Rainy</td>\n",
              "      <td>55</td>\n",
              "      <td>10AM</td>\n",
              "      <td>Coffee House</td>\n",
              "      <td>1d</td>\n",
              "      <td>Male</td>\n",
              "      <td>2</td>\n",
              "      <td>Unmarried partner</td>\n",
              "      <td>...</td>\n",
              "      <td>1</td>\n",
              "      <td>Student</td>\n",
              "      <td>2</td>\n",
              "      <td>1</td>\n",
              "      <td>2</td>\n",
              "      <td>2</td>\n",
              "      <td>4</td>\n",
              "      <td>2</td>\n",
              "      <td>1</td>\n",
              "      <td>0</td>\n",
              "    </tr>\n",
              "  </tbody>\n",
              "</table>\n",
              "<p>5 rows × 21 columns</p>\n",
              "</div>"
            ],
            "text/plain": [
              "           destination  passanger weather temperature  time  \\\n",
              "12370  No Urgent Place  Friend(s)   Sunny          80   6PM   \n",
              "8332   No Urgent Place     Kid(s)   Sunny          55   2PM   \n",
              "8917   No Urgent Place  Friend(s)   Rainy          55  10PM   \n",
              "6057              Home      Alone   Sunny          55  10PM   \n",
              "10644  No Urgent Place      Alone   Rainy          55  10AM   \n",
              "\n",
              "                      coupon expiration  gender  age      maritalStatus  ...  \\\n",
              "12370        Restaurant(<20)         2h    Male    5             Single  ...   \n",
              "8332            Coffee House         1d  Female    7    Married partner  ...   \n",
              "8917       Restaurant(20-50)         2h    Male    1             Single  ...   \n",
              "6057   Carry out & Take away         1d  Female    5             Single  ...   \n",
              "10644           Coffee House         1d    Male    2  Unmarried partner  ...   \n",
              "\n",
              "      education               occupation income  Bar  CoffeeHouse  CarryAway  \\\n",
              "12370         3               Unemployed      7    2            4          2   \n",
              "8332          4  Computer & Mathematical      4    1            3          4   \n",
              "8917          4               Unemployed      2    3            4          1   \n",
              "6057          2               Unemployed      2    1            4          2   \n",
              "10644         1                  Student      2    1            2          2   \n",
              "\n",
              "       RestaurantLessThan20  Restaurant20To50  toCoupon_GEQ15min  \\\n",
              "12370                     2                 1                  0   \n",
              "8332                      2                 1                  1   \n",
              "8917                      4                 1                  1   \n",
              "6057                      2                 4                  1   \n",
              "10644                     4                 2                  1   \n",
              "\n",
              "      toCoupon_GEQ25min  \n",
              "12370                 0  \n",
              "8332                  0  \n",
              "8917                  0  \n",
              "6057                  1  \n",
              "10644                 0  \n",
              "\n",
              "[5 rows x 21 columns]"
            ]
          },
          "metadata": {},
          "output_type": "display_data"
        }
      ],
      "source": [
        "# Test purpose, you can skip this part\n",
        "print(df_droped.columns)\n",
        "ordial_columns = ['age', 'education', 'income', 'Bar', 'CoffeeHouse', 'CarryAway', 'RestaurantLessThan20', 'Restaurant20To50']\n",
        "XTrain_some_ordinal, XValid_some_ordinal, XTest_some_ordinal = ordinal_encoder(XTrain, XValid, XTest, ordial_columns)\n",
        "display(XTrain_some_ordinal.head())\n",
        "display(XValid_some_ordinal.head())\n",
        "display(XTest_some_ordinal.head())\n",
        "# Question: Are time, temprature the ordinal variables?"
      ]
    },
    {
      "cell_type": "markdown",
      "metadata": {
        "id": "Ob4MR0bje91_"
      },
      "source": [
        "<a name = '3-2-2'></a>\n",
        "#### 3.2.2 - One hot encoding\n",
        "A one-hot is a group of bits among which the legal combinations of values are only those with a single high (1) bit and all the others low (0) [Ref](https://en.wikipedia.org/wiki/One-hot). It usually used for transforming categorical variables into values, which can be suitable for machine learning models. Several ways can implement this encoding style, like get_dummies, OneHotEncoder from category_encoder and sklearn.preprocessing pacakge."
      ]
    },
    {
      "cell_type": "code",
      "execution_count": 22,
      "metadata": {
        "id": "xEeTc2PHe92A"
      },
      "outputs": [],
      "source": [
        "def one_hot_encoding(train, valid, test, columns):\n",
        "    oe = ce.OneHotEncoder(cols=columns, return_df=True)\n",
        "    train_transformed = oe.fit_transform(train)\n",
        "    valid_transfromed = oe.transform(valid)\n",
        "    test_transformed = oe.transform(test)\n",
        "    return train_transformed, valid_transfromed, test_transformed"
      ]
    },
    {
      "cell_type": "code",
      "execution_count": 23,
      "metadata": {
        "colab": {
          "base_uri": "https://localhost:8080/",
          "height": 1000
        },
        "id": "pg9fCIfJe92A",
        "outputId": "9dc87636-1898-4799-b826-f14caa9d6690"
      },
      "outputs": [
        {
          "data": {
            "text/html": [
              "<div>\n",
              "<style scoped>\n",
              "    .dataframe tbody tr th:only-of-type {\n",
              "        vertical-align: middle;\n",
              "    }\n",
              "\n",
              "    .dataframe tbody tr th {\n",
              "        vertical-align: top;\n",
              "    }\n",
              "\n",
              "    .dataframe thead th {\n",
              "        text-align: right;\n",
              "    }\n",
              "</style>\n",
              "<table border=\"1\" class=\"dataframe\">\n",
              "  <thead>\n",
              "    <tr style=\"text-align: right;\">\n",
              "      <th></th>\n",
              "      <th>destination_1</th>\n",
              "      <th>destination_2</th>\n",
              "      <th>destination_3</th>\n",
              "      <th>passanger_1</th>\n",
              "      <th>passanger_2</th>\n",
              "      <th>passanger_3</th>\n",
              "      <th>passanger_4</th>\n",
              "      <th>weather_1</th>\n",
              "      <th>weather_2</th>\n",
              "      <th>weather_3</th>\n",
              "      <th>...</th>\n",
              "      <th>income</th>\n",
              "      <th>Bar</th>\n",
              "      <th>CoffeeHouse</th>\n",
              "      <th>CarryAway</th>\n",
              "      <th>RestaurantLessThan20</th>\n",
              "      <th>Restaurant20To50</th>\n",
              "      <th>toCoupon_GEQ15min_1</th>\n",
              "      <th>toCoupon_GEQ15min_2</th>\n",
              "      <th>toCoupon_GEQ25min_1</th>\n",
              "      <th>toCoupon_GEQ25min_2</th>\n",
              "    </tr>\n",
              "  </thead>\n",
              "  <tbody>\n",
              "    <tr>\n",
              "      <th>9863</th>\n",
              "      <td>1</td>\n",
              "      <td>0</td>\n",
              "      <td>0</td>\n",
              "      <td>1</td>\n",
              "      <td>0</td>\n",
              "      <td>0</td>\n",
              "      <td>0</td>\n",
              "      <td>1</td>\n",
              "      <td>0</td>\n",
              "      <td>0</td>\n",
              "      <td>...</td>\n",
              "      <td>$25000 - $37499</td>\n",
              "      <td>less1</td>\n",
              "      <td>never</td>\n",
              "      <td>less1</td>\n",
              "      <td>less1</td>\n",
              "      <td>less1</td>\n",
              "      <td>1</td>\n",
              "      <td>0</td>\n",
              "      <td>1</td>\n",
              "      <td>0</td>\n",
              "    </tr>\n",
              "    <tr>\n",
              "      <th>251</th>\n",
              "      <td>0</td>\n",
              "      <td>1</td>\n",
              "      <td>0</td>\n",
              "      <td>1</td>\n",
              "      <td>0</td>\n",
              "      <td>0</td>\n",
              "      <td>0</td>\n",
              "      <td>0</td>\n",
              "      <td>1</td>\n",
              "      <td>0</td>\n",
              "      <td>...</td>\n",
              "      <td>Less than $12500</td>\n",
              "      <td>1~3</td>\n",
              "      <td>never</td>\n",
              "      <td>4~8</td>\n",
              "      <td>1~3</td>\n",
              "      <td>less1</td>\n",
              "      <td>1</td>\n",
              "      <td>0</td>\n",
              "      <td>1</td>\n",
              "      <td>0</td>\n",
              "    </tr>\n",
              "    <tr>\n",
              "      <th>4949</th>\n",
              "      <td>0</td>\n",
              "      <td>1</td>\n",
              "      <td>0</td>\n",
              "      <td>1</td>\n",
              "      <td>0</td>\n",
              "      <td>0</td>\n",
              "      <td>0</td>\n",
              "      <td>0</td>\n",
              "      <td>1</td>\n",
              "      <td>0</td>\n",
              "      <td>...</td>\n",
              "      <td>$25000 - $37499</td>\n",
              "      <td>1~3</td>\n",
              "      <td>never</td>\n",
              "      <td>4~8</td>\n",
              "      <td>1~3</td>\n",
              "      <td>less1</td>\n",
              "      <td>1</td>\n",
              "      <td>0</td>\n",
              "      <td>0</td>\n",
              "      <td>1</td>\n",
              "    </tr>\n",
              "    <tr>\n",
              "      <th>9411</th>\n",
              "      <td>1</td>\n",
              "      <td>0</td>\n",
              "      <td>0</td>\n",
              "      <td>1</td>\n",
              "      <td>0</td>\n",
              "      <td>0</td>\n",
              "      <td>0</td>\n",
              "      <td>0</td>\n",
              "      <td>1</td>\n",
              "      <td>0</td>\n",
              "      <td>...</td>\n",
              "      <td>$37500 - $49999</td>\n",
              "      <td>never</td>\n",
              "      <td>never</td>\n",
              "      <td>4~8</td>\n",
              "      <td>1~3</td>\n",
              "      <td>less1</td>\n",
              "      <td>0</td>\n",
              "      <td>1</td>\n",
              "      <td>1</td>\n",
              "      <td>0</td>\n",
              "    </tr>\n",
              "    <tr>\n",
              "      <th>6449</th>\n",
              "      <td>0</td>\n",
              "      <td>0</td>\n",
              "      <td>1</td>\n",
              "      <td>1</td>\n",
              "      <td>0</td>\n",
              "      <td>0</td>\n",
              "      <td>0</td>\n",
              "      <td>0</td>\n",
              "      <td>1</td>\n",
              "      <td>0</td>\n",
              "      <td>...</td>\n",
              "      <td>$37500 - $49999</td>\n",
              "      <td>1~3</td>\n",
              "      <td>never</td>\n",
              "      <td>1~3</td>\n",
              "      <td>1~3</td>\n",
              "      <td>1~3</td>\n",
              "      <td>0</td>\n",
              "      <td>1</td>\n",
              "      <td>1</td>\n",
              "      <td>0</td>\n",
              "    </tr>\n",
              "  </tbody>\n",
              "</table>\n",
              "<p>5 rows × 71 columns</p>\n",
              "</div>"
            ],
            "text/plain": [
              "      destination_1  destination_2  destination_3  passanger_1  passanger_2  \\\n",
              "9863              1              0              0            1            0   \n",
              "251               0              1              0            1            0   \n",
              "4949              0              1              0            1            0   \n",
              "9411              1              0              0            1            0   \n",
              "6449              0              0              1            1            0   \n",
              "\n",
              "      passanger_3  passanger_4  weather_1  weather_2  weather_3  ...  \\\n",
              "9863            0            0          1          0          0  ...   \n",
              "251             0            0          0          1          0  ...   \n",
              "4949            0            0          0          1          0  ...   \n",
              "9411            0            0          0          1          0  ...   \n",
              "6449            0            0          0          1          0  ...   \n",
              "\n",
              "                income    Bar  CoffeeHouse  CarryAway  RestaurantLessThan20  \\\n",
              "9863   $25000 - $37499  less1        never      less1                 less1   \n",
              "251   Less than $12500    1~3        never        4~8                   1~3   \n",
              "4949   $25000 - $37499    1~3        never        4~8                   1~3   \n",
              "9411   $37500 - $49999  never        never        4~8                   1~3   \n",
              "6449   $37500 - $49999    1~3        never        1~3                   1~3   \n",
              "\n",
              "      Restaurant20To50  toCoupon_GEQ15min_1  toCoupon_GEQ15min_2  \\\n",
              "9863             less1                    1                    0   \n",
              "251              less1                    1                    0   \n",
              "4949             less1                    1                    0   \n",
              "9411             less1                    0                    1   \n",
              "6449               1~3                    0                    1   \n",
              "\n",
              "      toCoupon_GEQ25min_1  toCoupon_GEQ25min_2  \n",
              "9863                    1                    0  \n",
              "251                     1                    0  \n",
              "4949                    0                    1  \n",
              "9411                    1                    0  \n",
              "6449                    1                    0  \n",
              "\n",
              "[5 rows x 71 columns]"
            ]
          },
          "metadata": {},
          "output_type": "display_data"
        },
        {
          "data": {
            "text/html": [
              "<div>\n",
              "<style scoped>\n",
              "    .dataframe tbody tr th:only-of-type {\n",
              "        vertical-align: middle;\n",
              "    }\n",
              "\n",
              "    .dataframe tbody tr th {\n",
              "        vertical-align: top;\n",
              "    }\n",
              "\n",
              "    .dataframe thead th {\n",
              "        text-align: right;\n",
              "    }\n",
              "</style>\n",
              "<table border=\"1\" class=\"dataframe\">\n",
              "  <thead>\n",
              "    <tr style=\"text-align: right;\">\n",
              "      <th></th>\n",
              "      <th>destination_1</th>\n",
              "      <th>destination_2</th>\n",
              "      <th>destination_3</th>\n",
              "      <th>passanger_1</th>\n",
              "      <th>passanger_2</th>\n",
              "      <th>passanger_3</th>\n",
              "      <th>passanger_4</th>\n",
              "      <th>weather_1</th>\n",
              "      <th>weather_2</th>\n",
              "      <th>weather_3</th>\n",
              "      <th>...</th>\n",
              "      <th>income</th>\n",
              "      <th>Bar</th>\n",
              "      <th>CoffeeHouse</th>\n",
              "      <th>CarryAway</th>\n",
              "      <th>RestaurantLessThan20</th>\n",
              "      <th>Restaurant20To50</th>\n",
              "      <th>toCoupon_GEQ15min_1</th>\n",
              "      <th>toCoupon_GEQ15min_2</th>\n",
              "      <th>toCoupon_GEQ25min_1</th>\n",
              "      <th>toCoupon_GEQ25min_2</th>\n",
              "    </tr>\n",
              "  </thead>\n",
              "  <tbody>\n",
              "    <tr>\n",
              "      <th>6660</th>\n",
              "      <td>0</td>\n",
              "      <td>1</td>\n",
              "      <td>0</td>\n",
              "      <td>0</td>\n",
              "      <td>0</td>\n",
              "      <td>1</td>\n",
              "      <td>0</td>\n",
              "      <td>0</td>\n",
              "      <td>1</td>\n",
              "      <td>0</td>\n",
              "      <td>...</td>\n",
              "      <td>$12500 - $24999</td>\n",
              "      <td>1~3</td>\n",
              "      <td>4~8</td>\n",
              "      <td>1~3</td>\n",
              "      <td>4~8</td>\n",
              "      <td>less1</td>\n",
              "      <td>0</td>\n",
              "      <td>1</td>\n",
              "      <td>1</td>\n",
              "      <td>0</td>\n",
              "    </tr>\n",
              "    <tr>\n",
              "      <th>10645</th>\n",
              "      <td>1</td>\n",
              "      <td>0</td>\n",
              "      <td>0</td>\n",
              "      <td>1</td>\n",
              "      <td>0</td>\n",
              "      <td>0</td>\n",
              "      <td>0</td>\n",
              "      <td>0</td>\n",
              "      <td>0</td>\n",
              "      <td>1</td>\n",
              "      <td>...</td>\n",
              "      <td>Less than $12500</td>\n",
              "      <td>less1</td>\n",
              "      <td>1~3</td>\n",
              "      <td>4~8</td>\n",
              "      <td>4~8</td>\n",
              "      <td>1~3</td>\n",
              "      <td>0</td>\n",
              "      <td>1</td>\n",
              "      <td>1</td>\n",
              "      <td>0</td>\n",
              "    </tr>\n",
              "    <tr>\n",
              "      <th>2127</th>\n",
              "      <td>1</td>\n",
              "      <td>0</td>\n",
              "      <td>0</td>\n",
              "      <td>0</td>\n",
              "      <td>1</td>\n",
              "      <td>0</td>\n",
              "      <td>0</td>\n",
              "      <td>0</td>\n",
              "      <td>1</td>\n",
              "      <td>0</td>\n",
              "      <td>...</td>\n",
              "      <td>Less than $12500</td>\n",
              "      <td>less1</td>\n",
              "      <td>1~3</td>\n",
              "      <td>4~8</td>\n",
              "      <td>gt8</td>\n",
              "      <td>less1</td>\n",
              "      <td>0</td>\n",
              "      <td>1</td>\n",
              "      <td>1</td>\n",
              "      <td>0</td>\n",
              "    </tr>\n",
              "    <tr>\n",
              "      <th>6536</th>\n",
              "      <td>0</td>\n",
              "      <td>0</td>\n",
              "      <td>1</td>\n",
              "      <td>1</td>\n",
              "      <td>0</td>\n",
              "      <td>0</td>\n",
              "      <td>0</td>\n",
              "      <td>0</td>\n",
              "      <td>1</td>\n",
              "      <td>0</td>\n",
              "      <td>...</td>\n",
              "      <td>Less than $12500</td>\n",
              "      <td>1~3</td>\n",
              "      <td>4~8</td>\n",
              "      <td>1~3</td>\n",
              "      <td>gt8</td>\n",
              "      <td>4~8</td>\n",
              "      <td>0</td>\n",
              "      <td>1</td>\n",
              "      <td>1</td>\n",
              "      <td>0</td>\n",
              "    </tr>\n",
              "    <tr>\n",
              "      <th>330</th>\n",
              "      <td>1</td>\n",
              "      <td>0</td>\n",
              "      <td>0</td>\n",
              "      <td>0</td>\n",
              "      <td>0</td>\n",
              "      <td>1</td>\n",
              "      <td>0</td>\n",
              "      <td>0</td>\n",
              "      <td>1</td>\n",
              "      <td>0</td>\n",
              "      <td>...</td>\n",
              "      <td>$75000 - $87499</td>\n",
              "      <td>never</td>\n",
              "      <td>less1</td>\n",
              "      <td>1~3</td>\n",
              "      <td>1~3</td>\n",
              "      <td>less1</td>\n",
              "      <td>0</td>\n",
              "      <td>1</td>\n",
              "      <td>1</td>\n",
              "      <td>0</td>\n",
              "    </tr>\n",
              "  </tbody>\n",
              "</table>\n",
              "<p>5 rows × 71 columns</p>\n",
              "</div>"
            ],
            "text/plain": [
              "       destination_1  destination_2  destination_3  passanger_1  passanger_2  \\\n",
              "6660               0              1              0            0            0   \n",
              "10645              1              0              0            1            0   \n",
              "2127               1              0              0            0            1   \n",
              "6536               0              0              1            1            0   \n",
              "330                1              0              0            0            0   \n",
              "\n",
              "       passanger_3  passanger_4  weather_1  weather_2  weather_3  ...  \\\n",
              "6660             1            0          0          1          0  ...   \n",
              "10645            0            0          0          0          1  ...   \n",
              "2127             0            0          0          1          0  ...   \n",
              "6536             0            0          0          1          0  ...   \n",
              "330              1            0          0          1          0  ...   \n",
              "\n",
              "                 income    Bar  CoffeeHouse  CarryAway  RestaurantLessThan20  \\\n",
              "6660    $12500 - $24999    1~3          4~8        1~3                   4~8   \n",
              "10645  Less than $12500  less1          1~3        4~8                   4~8   \n",
              "2127   Less than $12500  less1          1~3        4~8                   gt8   \n",
              "6536   Less than $12500    1~3          4~8        1~3                   gt8   \n",
              "330     $75000 - $87499  never        less1        1~3                   1~3   \n",
              "\n",
              "       Restaurant20To50  toCoupon_GEQ15min_1  toCoupon_GEQ15min_2  \\\n",
              "6660              less1                    0                    1   \n",
              "10645               1~3                    0                    1   \n",
              "2127              less1                    0                    1   \n",
              "6536                4~8                    0                    1   \n",
              "330               less1                    0                    1   \n",
              "\n",
              "       toCoupon_GEQ25min_1  toCoupon_GEQ25min_2  \n",
              "6660                     1                    0  \n",
              "10645                    1                    0  \n",
              "2127                     1                    0  \n",
              "6536                     1                    0  \n",
              "330                      1                    0  \n",
              "\n",
              "[5 rows x 71 columns]"
            ]
          },
          "metadata": {},
          "output_type": "display_data"
        },
        {
          "data": {
            "text/html": [
              "<div>\n",
              "<style scoped>\n",
              "    .dataframe tbody tr th:only-of-type {\n",
              "        vertical-align: middle;\n",
              "    }\n",
              "\n",
              "    .dataframe tbody tr th {\n",
              "        vertical-align: top;\n",
              "    }\n",
              "\n",
              "    .dataframe thead th {\n",
              "        text-align: right;\n",
              "    }\n",
              "</style>\n",
              "<table border=\"1\" class=\"dataframe\">\n",
              "  <thead>\n",
              "    <tr style=\"text-align: right;\">\n",
              "      <th></th>\n",
              "      <th>destination_1</th>\n",
              "      <th>destination_2</th>\n",
              "      <th>destination_3</th>\n",
              "      <th>passanger_1</th>\n",
              "      <th>passanger_2</th>\n",
              "      <th>passanger_3</th>\n",
              "      <th>passanger_4</th>\n",
              "      <th>weather_1</th>\n",
              "      <th>weather_2</th>\n",
              "      <th>weather_3</th>\n",
              "      <th>...</th>\n",
              "      <th>income</th>\n",
              "      <th>Bar</th>\n",
              "      <th>CoffeeHouse</th>\n",
              "      <th>CarryAway</th>\n",
              "      <th>RestaurantLessThan20</th>\n",
              "      <th>Restaurant20To50</th>\n",
              "      <th>toCoupon_GEQ15min_1</th>\n",
              "      <th>toCoupon_GEQ15min_2</th>\n",
              "      <th>toCoupon_GEQ25min_1</th>\n",
              "      <th>toCoupon_GEQ25min_2</th>\n",
              "    </tr>\n",
              "  </thead>\n",
              "  <tbody>\n",
              "    <tr>\n",
              "      <th>12370</th>\n",
              "      <td>1</td>\n",
              "      <td>0</td>\n",
              "      <td>0</td>\n",
              "      <td>0</td>\n",
              "      <td>1</td>\n",
              "      <td>0</td>\n",
              "      <td>0</td>\n",
              "      <td>0</td>\n",
              "      <td>1</td>\n",
              "      <td>0</td>\n",
              "      <td>...</td>\n",
              "      <td>$12500 - $24999</td>\n",
              "      <td>1~3</td>\n",
              "      <td>less1</td>\n",
              "      <td>4~8</td>\n",
              "      <td>1~3</td>\n",
              "      <td>less1</td>\n",
              "      <td>0</td>\n",
              "      <td>1</td>\n",
              "      <td>1</td>\n",
              "      <td>0</td>\n",
              "    </tr>\n",
              "    <tr>\n",
              "      <th>8332</th>\n",
              "      <td>1</td>\n",
              "      <td>0</td>\n",
              "      <td>0</td>\n",
              "      <td>0</td>\n",
              "      <td>0</td>\n",
              "      <td>0</td>\n",
              "      <td>1</td>\n",
              "      <td>0</td>\n",
              "      <td>1</td>\n",
              "      <td>0</td>\n",
              "      <td>...</td>\n",
              "      <td>$75000 - $87499</td>\n",
              "      <td>less1</td>\n",
              "      <td>4~8</td>\n",
              "      <td>gt8</td>\n",
              "      <td>1~3</td>\n",
              "      <td>less1</td>\n",
              "      <td>1</td>\n",
              "      <td>0</td>\n",
              "      <td>1</td>\n",
              "      <td>0</td>\n",
              "    </tr>\n",
              "    <tr>\n",
              "      <th>8917</th>\n",
              "      <td>1</td>\n",
              "      <td>0</td>\n",
              "      <td>0</td>\n",
              "      <td>0</td>\n",
              "      <td>1</td>\n",
              "      <td>0</td>\n",
              "      <td>0</td>\n",
              "      <td>1</td>\n",
              "      <td>0</td>\n",
              "      <td>0</td>\n",
              "      <td>...</td>\n",
              "      <td>Less than $12500</td>\n",
              "      <td>never</td>\n",
              "      <td>less1</td>\n",
              "      <td>less1</td>\n",
              "      <td>4~8</td>\n",
              "      <td>less1</td>\n",
              "      <td>1</td>\n",
              "      <td>0</td>\n",
              "      <td>1</td>\n",
              "      <td>0</td>\n",
              "    </tr>\n",
              "    <tr>\n",
              "      <th>6057</th>\n",
              "      <td>0</td>\n",
              "      <td>1</td>\n",
              "      <td>0</td>\n",
              "      <td>1</td>\n",
              "      <td>0</td>\n",
              "      <td>0</td>\n",
              "      <td>0</td>\n",
              "      <td>0</td>\n",
              "      <td>1</td>\n",
              "      <td>0</td>\n",
              "      <td>...</td>\n",
              "      <td>Less than $12500</td>\n",
              "      <td>less1</td>\n",
              "      <td>less1</td>\n",
              "      <td>4~8</td>\n",
              "      <td>1~3</td>\n",
              "      <td>never</td>\n",
              "      <td>1</td>\n",
              "      <td>0</td>\n",
              "      <td>0</td>\n",
              "      <td>1</td>\n",
              "    </tr>\n",
              "    <tr>\n",
              "      <th>10644</th>\n",
              "      <td>1</td>\n",
              "      <td>0</td>\n",
              "      <td>0</td>\n",
              "      <td>1</td>\n",
              "      <td>0</td>\n",
              "      <td>0</td>\n",
              "      <td>0</td>\n",
              "      <td>1</td>\n",
              "      <td>0</td>\n",
              "      <td>0</td>\n",
              "      <td>...</td>\n",
              "      <td>Less than $12500</td>\n",
              "      <td>less1</td>\n",
              "      <td>1~3</td>\n",
              "      <td>4~8</td>\n",
              "      <td>4~8</td>\n",
              "      <td>1~3</td>\n",
              "      <td>1</td>\n",
              "      <td>0</td>\n",
              "      <td>1</td>\n",
              "      <td>0</td>\n",
              "    </tr>\n",
              "  </tbody>\n",
              "</table>\n",
              "<p>5 rows × 71 columns</p>\n",
              "</div>"
            ],
            "text/plain": [
              "       destination_1  destination_2  destination_3  passanger_1  passanger_2  \\\n",
              "12370              1              0              0            0            1   \n",
              "8332               1              0              0            0            0   \n",
              "8917               1              0              0            0            1   \n",
              "6057               0              1              0            1            0   \n",
              "10644              1              0              0            1            0   \n",
              "\n",
              "       passanger_3  passanger_4  weather_1  weather_2  weather_3  ...  \\\n",
              "12370            0            0          0          1          0  ...   \n",
              "8332             0            1          0          1          0  ...   \n",
              "8917             0            0          1          0          0  ...   \n",
              "6057             0            0          0          1          0  ...   \n",
              "10644            0            0          1          0          0  ...   \n",
              "\n",
              "                 income    Bar  CoffeeHouse  CarryAway  RestaurantLessThan20  \\\n",
              "12370   $12500 - $24999    1~3        less1        4~8                   1~3   \n",
              "8332    $75000 - $87499  less1          4~8        gt8                   1~3   \n",
              "8917   Less than $12500  never        less1      less1                   4~8   \n",
              "6057   Less than $12500  less1        less1        4~8                   1~3   \n",
              "10644  Less than $12500  less1          1~3        4~8                   4~8   \n",
              "\n",
              "       Restaurant20To50  toCoupon_GEQ15min_1  toCoupon_GEQ15min_2  \\\n",
              "12370             less1                    0                    1   \n",
              "8332              less1                    1                    0   \n",
              "8917              less1                    1                    0   \n",
              "6057              never                    1                    0   \n",
              "10644               1~3                    1                    0   \n",
              "\n",
              "       toCoupon_GEQ25min_1  toCoupon_GEQ25min_2  \n",
              "12370                    1                    0  \n",
              "8332                     1                    0  \n",
              "8917                     1                    0  \n",
              "6057                     0                    1  \n",
              "10644                    1                    0  \n",
              "\n",
              "[5 rows x 71 columns]"
            ]
          },
          "metadata": {},
          "output_type": "display_data"
        }
      ],
      "source": [
        "# Test\n",
        "XTrain_some_one_hot, XValid_some_one_hot, XTest_some_one_hot = one_hot_encoding(XTrain, XValid, XTest, columns=[i for i in XTrain.columns if i not in ordial_columns])\n",
        "display(XTrain_some_one_hot.head())\n",
        "display(XValid_some_one_hot.head())\n",
        "display(XTest_some_one_hot.head())"
      ]
    },
    {
      "cell_type": "markdown",
      "metadata": {
        "id": "qSkRjjpzSWV7"
      },
      "source": [
        "<a name='3-2-3'></a>\n",
        "#### 3.2.3 - Mixture encoding \n",
        "Mixture encoding is our diy name for the combination of one hot encoding and ordinal encoding. We implement those encoding with ordinal encoding with random value assignments for categories and ordinal encoding with some order value assignment for categories. "
      ]
    },
    {
      "cell_type": "code",
      "execution_count": 24,
      "metadata": {
        "colab": {
          "base_uri": "https://localhost:8080/",
          "height": 1000
        },
        "id": "Nwch6Fc9TIIK",
        "outputId": "2b5918de-c51a-425b-8770-d54ca62465fb"
      },
      "outputs": [
        {
          "data": {
            "text/html": [
              "<div>\n",
              "<style scoped>\n",
              "    .dataframe tbody tr th:only-of-type {\n",
              "        vertical-align: middle;\n",
              "    }\n",
              "\n",
              "    .dataframe tbody tr th {\n",
              "        vertical-align: top;\n",
              "    }\n",
              "\n",
              "    .dataframe thead th {\n",
              "        text-align: right;\n",
              "    }\n",
              "</style>\n",
              "<table border=\"1\" class=\"dataframe\">\n",
              "  <thead>\n",
              "    <tr style=\"text-align: right;\">\n",
              "      <th></th>\n",
              "      <th>destination_1</th>\n",
              "      <th>destination_2</th>\n",
              "      <th>destination_3</th>\n",
              "      <th>passanger_1</th>\n",
              "      <th>passanger_2</th>\n",
              "      <th>passanger_3</th>\n",
              "      <th>passanger_4</th>\n",
              "      <th>weather_1</th>\n",
              "      <th>weather_2</th>\n",
              "      <th>weather_3</th>\n",
              "      <th>...</th>\n",
              "      <th>income</th>\n",
              "      <th>Bar</th>\n",
              "      <th>CoffeeHouse</th>\n",
              "      <th>CarryAway</th>\n",
              "      <th>RestaurantLessThan20</th>\n",
              "      <th>Restaurant20To50</th>\n",
              "      <th>toCoupon_GEQ15min_1</th>\n",
              "      <th>toCoupon_GEQ15min_2</th>\n",
              "      <th>toCoupon_GEQ25min_1</th>\n",
              "      <th>toCoupon_GEQ25min_2</th>\n",
              "    </tr>\n",
              "  </thead>\n",
              "  <tbody>\n",
              "    <tr>\n",
              "      <th>9863</th>\n",
              "      <td>1</td>\n",
              "      <td>0</td>\n",
              "      <td>0</td>\n",
              "      <td>1</td>\n",
              "      <td>0</td>\n",
              "      <td>0</td>\n",
              "      <td>0</td>\n",
              "      <td>1</td>\n",
              "      <td>0</td>\n",
              "      <td>0</td>\n",
              "      <td>...</td>\n",
              "      <td>2</td>\n",
              "      <td>1</td>\n",
              "      <td>0</td>\n",
              "      <td>1</td>\n",
              "      <td>1</td>\n",
              "      <td>1</td>\n",
              "      <td>1</td>\n",
              "      <td>0</td>\n",
              "      <td>1</td>\n",
              "      <td>0</td>\n",
              "    </tr>\n",
              "    <tr>\n",
              "      <th>251</th>\n",
              "      <td>0</td>\n",
              "      <td>1</td>\n",
              "      <td>0</td>\n",
              "      <td>1</td>\n",
              "      <td>0</td>\n",
              "      <td>0</td>\n",
              "      <td>0</td>\n",
              "      <td>0</td>\n",
              "      <td>1</td>\n",
              "      <td>0</td>\n",
              "      <td>...</td>\n",
              "      <td>0</td>\n",
              "      <td>2</td>\n",
              "      <td>0</td>\n",
              "      <td>3</td>\n",
              "      <td>2</td>\n",
              "      <td>1</td>\n",
              "      <td>1</td>\n",
              "      <td>0</td>\n",
              "      <td>1</td>\n",
              "      <td>0</td>\n",
              "    </tr>\n",
              "    <tr>\n",
              "      <th>4949</th>\n",
              "      <td>0</td>\n",
              "      <td>1</td>\n",
              "      <td>0</td>\n",
              "      <td>1</td>\n",
              "      <td>0</td>\n",
              "      <td>0</td>\n",
              "      <td>0</td>\n",
              "      <td>0</td>\n",
              "      <td>1</td>\n",
              "      <td>0</td>\n",
              "      <td>...</td>\n",
              "      <td>2</td>\n",
              "      <td>2</td>\n",
              "      <td>0</td>\n",
              "      <td>3</td>\n",
              "      <td>2</td>\n",
              "      <td>1</td>\n",
              "      <td>1</td>\n",
              "      <td>0</td>\n",
              "      <td>0</td>\n",
              "      <td>1</td>\n",
              "    </tr>\n",
              "    <tr>\n",
              "      <th>9411</th>\n",
              "      <td>1</td>\n",
              "      <td>0</td>\n",
              "      <td>0</td>\n",
              "      <td>1</td>\n",
              "      <td>0</td>\n",
              "      <td>0</td>\n",
              "      <td>0</td>\n",
              "      <td>0</td>\n",
              "      <td>1</td>\n",
              "      <td>0</td>\n",
              "      <td>...</td>\n",
              "      <td>3</td>\n",
              "      <td>0</td>\n",
              "      <td>0</td>\n",
              "      <td>3</td>\n",
              "      <td>2</td>\n",
              "      <td>1</td>\n",
              "      <td>0</td>\n",
              "      <td>1</td>\n",
              "      <td>1</td>\n",
              "      <td>0</td>\n",
              "    </tr>\n",
              "    <tr>\n",
              "      <th>6449</th>\n",
              "      <td>0</td>\n",
              "      <td>0</td>\n",
              "      <td>1</td>\n",
              "      <td>1</td>\n",
              "      <td>0</td>\n",
              "      <td>0</td>\n",
              "      <td>0</td>\n",
              "      <td>0</td>\n",
              "      <td>1</td>\n",
              "      <td>0</td>\n",
              "      <td>...</td>\n",
              "      <td>3</td>\n",
              "      <td>2</td>\n",
              "      <td>0</td>\n",
              "      <td>2</td>\n",
              "      <td>2</td>\n",
              "      <td>2</td>\n",
              "      <td>0</td>\n",
              "      <td>1</td>\n",
              "      <td>1</td>\n",
              "      <td>0</td>\n",
              "    </tr>\n",
              "  </tbody>\n",
              "</table>\n",
              "<p>5 rows × 71 columns</p>\n",
              "</div>"
            ],
            "text/plain": [
              "      destination_1  destination_2  destination_3  passanger_1  passanger_2  \\\n",
              "9863              1              0              0            1            0   \n",
              "251               0              1              0            1            0   \n",
              "4949              0              1              0            1            0   \n",
              "9411              1              0              0            1            0   \n",
              "6449              0              0              1            1            0   \n",
              "\n",
              "      passanger_3  passanger_4  weather_1  weather_2  weather_3  ...  income  \\\n",
              "9863            0            0          1          0          0  ...       2   \n",
              "251             0            0          0          1          0  ...       0   \n",
              "4949            0            0          0          1          0  ...       2   \n",
              "9411            0            0          0          1          0  ...       3   \n",
              "6449            0            0          0          1          0  ...       3   \n",
              "\n",
              "      Bar  CoffeeHouse  CarryAway  RestaurantLessThan20  Restaurant20To50  \\\n",
              "9863    1            0          1                     1                 1   \n",
              "251     2            0          3                     2                 1   \n",
              "4949    2            0          3                     2                 1   \n",
              "9411    0            0          3                     2                 1   \n",
              "6449    2            0          2                     2                 2   \n",
              "\n",
              "      toCoupon_GEQ15min_1  toCoupon_GEQ15min_2  toCoupon_GEQ25min_1  \\\n",
              "9863                    1                    0                    1   \n",
              "251                     1                    0                    1   \n",
              "4949                    1                    0                    0   \n",
              "9411                    0                    1                    1   \n",
              "6449                    0                    1                    1   \n",
              "\n",
              "      toCoupon_GEQ25min_2  \n",
              "9863                    0  \n",
              "251                     0  \n",
              "4949                    1  \n",
              "9411                    0  \n",
              "6449                    0  \n",
              "\n",
              "[5 rows x 71 columns]"
            ]
          },
          "metadata": {},
          "output_type": "display_data"
        },
        {
          "data": {
            "text/html": [
              "<div>\n",
              "<style scoped>\n",
              "    .dataframe tbody tr th:only-of-type {\n",
              "        vertical-align: middle;\n",
              "    }\n",
              "\n",
              "    .dataframe tbody tr th {\n",
              "        vertical-align: top;\n",
              "    }\n",
              "\n",
              "    .dataframe thead th {\n",
              "        text-align: right;\n",
              "    }\n",
              "</style>\n",
              "<table border=\"1\" class=\"dataframe\">\n",
              "  <thead>\n",
              "    <tr style=\"text-align: right;\">\n",
              "      <th></th>\n",
              "      <th>destination_1</th>\n",
              "      <th>destination_2</th>\n",
              "      <th>destination_3</th>\n",
              "      <th>passanger_1</th>\n",
              "      <th>passanger_2</th>\n",
              "      <th>passanger_3</th>\n",
              "      <th>passanger_4</th>\n",
              "      <th>weather_1</th>\n",
              "      <th>weather_2</th>\n",
              "      <th>weather_3</th>\n",
              "      <th>...</th>\n",
              "      <th>income</th>\n",
              "      <th>Bar</th>\n",
              "      <th>CoffeeHouse</th>\n",
              "      <th>CarryAway</th>\n",
              "      <th>RestaurantLessThan20</th>\n",
              "      <th>Restaurant20To50</th>\n",
              "      <th>toCoupon_GEQ15min_1</th>\n",
              "      <th>toCoupon_GEQ15min_2</th>\n",
              "      <th>toCoupon_GEQ25min_1</th>\n",
              "      <th>toCoupon_GEQ25min_2</th>\n",
              "    </tr>\n",
              "  </thead>\n",
              "  <tbody>\n",
              "    <tr>\n",
              "      <th>6660</th>\n",
              "      <td>0</td>\n",
              "      <td>1</td>\n",
              "      <td>0</td>\n",
              "      <td>0</td>\n",
              "      <td>0</td>\n",
              "      <td>1</td>\n",
              "      <td>0</td>\n",
              "      <td>0</td>\n",
              "      <td>1</td>\n",
              "      <td>0</td>\n",
              "      <td>...</td>\n",
              "      <td>1</td>\n",
              "      <td>2</td>\n",
              "      <td>3</td>\n",
              "      <td>2</td>\n",
              "      <td>3</td>\n",
              "      <td>1</td>\n",
              "      <td>0</td>\n",
              "      <td>1</td>\n",
              "      <td>1</td>\n",
              "      <td>0</td>\n",
              "    </tr>\n",
              "    <tr>\n",
              "      <th>10645</th>\n",
              "      <td>1</td>\n",
              "      <td>0</td>\n",
              "      <td>0</td>\n",
              "      <td>1</td>\n",
              "      <td>0</td>\n",
              "      <td>0</td>\n",
              "      <td>0</td>\n",
              "      <td>0</td>\n",
              "      <td>0</td>\n",
              "      <td>1</td>\n",
              "      <td>...</td>\n",
              "      <td>0</td>\n",
              "      <td>1</td>\n",
              "      <td>2</td>\n",
              "      <td>3</td>\n",
              "      <td>3</td>\n",
              "      <td>2</td>\n",
              "      <td>0</td>\n",
              "      <td>1</td>\n",
              "      <td>1</td>\n",
              "      <td>0</td>\n",
              "    </tr>\n",
              "    <tr>\n",
              "      <th>2127</th>\n",
              "      <td>1</td>\n",
              "      <td>0</td>\n",
              "      <td>0</td>\n",
              "      <td>0</td>\n",
              "      <td>1</td>\n",
              "      <td>0</td>\n",
              "      <td>0</td>\n",
              "      <td>0</td>\n",
              "      <td>1</td>\n",
              "      <td>0</td>\n",
              "      <td>...</td>\n",
              "      <td>0</td>\n",
              "      <td>1</td>\n",
              "      <td>2</td>\n",
              "      <td>3</td>\n",
              "      <td>4</td>\n",
              "      <td>1</td>\n",
              "      <td>0</td>\n",
              "      <td>1</td>\n",
              "      <td>1</td>\n",
              "      <td>0</td>\n",
              "    </tr>\n",
              "    <tr>\n",
              "      <th>6536</th>\n",
              "      <td>0</td>\n",
              "      <td>0</td>\n",
              "      <td>1</td>\n",
              "      <td>1</td>\n",
              "      <td>0</td>\n",
              "      <td>0</td>\n",
              "      <td>0</td>\n",
              "      <td>0</td>\n",
              "      <td>1</td>\n",
              "      <td>0</td>\n",
              "      <td>...</td>\n",
              "      <td>0</td>\n",
              "      <td>2</td>\n",
              "      <td>3</td>\n",
              "      <td>2</td>\n",
              "      <td>4</td>\n",
              "      <td>3</td>\n",
              "      <td>0</td>\n",
              "      <td>1</td>\n",
              "      <td>1</td>\n",
              "      <td>0</td>\n",
              "    </tr>\n",
              "    <tr>\n",
              "      <th>330</th>\n",
              "      <td>1</td>\n",
              "      <td>0</td>\n",
              "      <td>0</td>\n",
              "      <td>0</td>\n",
              "      <td>0</td>\n",
              "      <td>1</td>\n",
              "      <td>0</td>\n",
              "      <td>0</td>\n",
              "      <td>1</td>\n",
              "      <td>0</td>\n",
              "      <td>...</td>\n",
              "      <td>6</td>\n",
              "      <td>0</td>\n",
              "      <td>1</td>\n",
              "      <td>2</td>\n",
              "      <td>2</td>\n",
              "      <td>1</td>\n",
              "      <td>0</td>\n",
              "      <td>1</td>\n",
              "      <td>1</td>\n",
              "      <td>0</td>\n",
              "    </tr>\n",
              "  </tbody>\n",
              "</table>\n",
              "<p>5 rows × 71 columns</p>\n",
              "</div>"
            ],
            "text/plain": [
              "       destination_1  destination_2  destination_3  passanger_1  passanger_2  \\\n",
              "6660               0              1              0            0            0   \n",
              "10645              1              0              0            1            0   \n",
              "2127               1              0              0            0            1   \n",
              "6536               0              0              1            1            0   \n",
              "330                1              0              0            0            0   \n",
              "\n",
              "       passanger_3  passanger_4  weather_1  weather_2  weather_3  ...  income  \\\n",
              "6660             1            0          0          1          0  ...       1   \n",
              "10645            0            0          0          0          1  ...       0   \n",
              "2127             0            0          0          1          0  ...       0   \n",
              "6536             0            0          0          1          0  ...       0   \n",
              "330              1            0          0          1          0  ...       6   \n",
              "\n",
              "       Bar  CoffeeHouse  CarryAway  RestaurantLessThan20  Restaurant20To50  \\\n",
              "6660     2            3          2                     3                 1   \n",
              "10645    1            2          3                     3                 2   \n",
              "2127     1            2          3                     4                 1   \n",
              "6536     2            3          2                     4                 3   \n",
              "330      0            1          2                     2                 1   \n",
              "\n",
              "       toCoupon_GEQ15min_1  toCoupon_GEQ15min_2  toCoupon_GEQ25min_1  \\\n",
              "6660                     0                    1                    1   \n",
              "10645                    0                    1                    1   \n",
              "2127                     0                    1                    1   \n",
              "6536                     0                    1                    1   \n",
              "330                      0                    1                    1   \n",
              "\n",
              "       toCoupon_GEQ25min_2  \n",
              "6660                     0  \n",
              "10645                    0  \n",
              "2127                     0  \n",
              "6536                     0  \n",
              "330                      0  \n",
              "\n",
              "[5 rows x 71 columns]"
            ]
          },
          "metadata": {},
          "output_type": "display_data"
        },
        {
          "data": {
            "text/html": [
              "<div>\n",
              "<style scoped>\n",
              "    .dataframe tbody tr th:only-of-type {\n",
              "        vertical-align: middle;\n",
              "    }\n",
              "\n",
              "    .dataframe tbody tr th {\n",
              "        vertical-align: top;\n",
              "    }\n",
              "\n",
              "    .dataframe thead th {\n",
              "        text-align: right;\n",
              "    }\n",
              "</style>\n",
              "<table border=\"1\" class=\"dataframe\">\n",
              "  <thead>\n",
              "    <tr style=\"text-align: right;\">\n",
              "      <th></th>\n",
              "      <th>destination_1</th>\n",
              "      <th>destination_2</th>\n",
              "      <th>destination_3</th>\n",
              "      <th>passanger_1</th>\n",
              "      <th>passanger_2</th>\n",
              "      <th>passanger_3</th>\n",
              "      <th>passanger_4</th>\n",
              "      <th>weather_1</th>\n",
              "      <th>weather_2</th>\n",
              "      <th>weather_3</th>\n",
              "      <th>...</th>\n",
              "      <th>income</th>\n",
              "      <th>Bar</th>\n",
              "      <th>CoffeeHouse</th>\n",
              "      <th>CarryAway</th>\n",
              "      <th>RestaurantLessThan20</th>\n",
              "      <th>Restaurant20To50</th>\n",
              "      <th>toCoupon_GEQ15min_1</th>\n",
              "      <th>toCoupon_GEQ15min_2</th>\n",
              "      <th>toCoupon_GEQ25min_1</th>\n",
              "      <th>toCoupon_GEQ25min_2</th>\n",
              "    </tr>\n",
              "  </thead>\n",
              "  <tbody>\n",
              "    <tr>\n",
              "      <th>12370</th>\n",
              "      <td>1</td>\n",
              "      <td>0</td>\n",
              "      <td>0</td>\n",
              "      <td>0</td>\n",
              "      <td>1</td>\n",
              "      <td>0</td>\n",
              "      <td>0</td>\n",
              "      <td>0</td>\n",
              "      <td>1</td>\n",
              "      <td>0</td>\n",
              "      <td>...</td>\n",
              "      <td>1</td>\n",
              "      <td>2</td>\n",
              "      <td>1</td>\n",
              "      <td>3</td>\n",
              "      <td>2</td>\n",
              "      <td>1</td>\n",
              "      <td>0</td>\n",
              "      <td>1</td>\n",
              "      <td>1</td>\n",
              "      <td>0</td>\n",
              "    </tr>\n",
              "    <tr>\n",
              "      <th>8332</th>\n",
              "      <td>1</td>\n",
              "      <td>0</td>\n",
              "      <td>0</td>\n",
              "      <td>0</td>\n",
              "      <td>0</td>\n",
              "      <td>0</td>\n",
              "      <td>1</td>\n",
              "      <td>0</td>\n",
              "      <td>1</td>\n",
              "      <td>0</td>\n",
              "      <td>...</td>\n",
              "      <td>6</td>\n",
              "      <td>1</td>\n",
              "      <td>3</td>\n",
              "      <td>4</td>\n",
              "      <td>2</td>\n",
              "      <td>1</td>\n",
              "      <td>1</td>\n",
              "      <td>0</td>\n",
              "      <td>1</td>\n",
              "      <td>0</td>\n",
              "    </tr>\n",
              "    <tr>\n",
              "      <th>8917</th>\n",
              "      <td>1</td>\n",
              "      <td>0</td>\n",
              "      <td>0</td>\n",
              "      <td>0</td>\n",
              "      <td>1</td>\n",
              "      <td>0</td>\n",
              "      <td>0</td>\n",
              "      <td>1</td>\n",
              "      <td>0</td>\n",
              "      <td>0</td>\n",
              "      <td>...</td>\n",
              "      <td>0</td>\n",
              "      <td>0</td>\n",
              "      <td>1</td>\n",
              "      <td>1</td>\n",
              "      <td>3</td>\n",
              "      <td>1</td>\n",
              "      <td>1</td>\n",
              "      <td>0</td>\n",
              "      <td>1</td>\n",
              "      <td>0</td>\n",
              "    </tr>\n",
              "    <tr>\n",
              "      <th>6057</th>\n",
              "      <td>0</td>\n",
              "      <td>1</td>\n",
              "      <td>0</td>\n",
              "      <td>1</td>\n",
              "      <td>0</td>\n",
              "      <td>0</td>\n",
              "      <td>0</td>\n",
              "      <td>0</td>\n",
              "      <td>1</td>\n",
              "      <td>0</td>\n",
              "      <td>...</td>\n",
              "      <td>0</td>\n",
              "      <td>1</td>\n",
              "      <td>1</td>\n",
              "      <td>3</td>\n",
              "      <td>2</td>\n",
              "      <td>0</td>\n",
              "      <td>1</td>\n",
              "      <td>0</td>\n",
              "      <td>0</td>\n",
              "      <td>1</td>\n",
              "    </tr>\n",
              "    <tr>\n",
              "      <th>10644</th>\n",
              "      <td>1</td>\n",
              "      <td>0</td>\n",
              "      <td>0</td>\n",
              "      <td>1</td>\n",
              "      <td>0</td>\n",
              "      <td>0</td>\n",
              "      <td>0</td>\n",
              "      <td>1</td>\n",
              "      <td>0</td>\n",
              "      <td>0</td>\n",
              "      <td>...</td>\n",
              "      <td>0</td>\n",
              "      <td>1</td>\n",
              "      <td>2</td>\n",
              "      <td>3</td>\n",
              "      <td>3</td>\n",
              "      <td>2</td>\n",
              "      <td>1</td>\n",
              "      <td>0</td>\n",
              "      <td>1</td>\n",
              "      <td>0</td>\n",
              "    </tr>\n",
              "  </tbody>\n",
              "</table>\n",
              "<p>5 rows × 71 columns</p>\n",
              "</div>"
            ],
            "text/plain": [
              "       destination_1  destination_2  destination_3  passanger_1  passanger_2  \\\n",
              "12370              1              0              0            0            1   \n",
              "8332               1              0              0            0            0   \n",
              "8917               1              0              0            0            1   \n",
              "6057               0              1              0            1            0   \n",
              "10644              1              0              0            1            0   \n",
              "\n",
              "       passanger_3  passanger_4  weather_1  weather_2  weather_3  ...  income  \\\n",
              "12370            0            0          0          1          0  ...       1   \n",
              "8332             0            1          0          1          0  ...       6   \n",
              "8917             0            0          1          0          0  ...       0   \n",
              "6057             0            0          0          1          0  ...       0   \n",
              "10644            0            0          1          0          0  ...       0   \n",
              "\n",
              "       Bar  CoffeeHouse  CarryAway  RestaurantLessThan20  Restaurant20To50  \\\n",
              "12370    2            1          3                     2                 1   \n",
              "8332     1            3          4                     2                 1   \n",
              "8917     0            1          1                     3                 1   \n",
              "6057     1            1          3                     2                 0   \n",
              "10644    1            2          3                     3                 2   \n",
              "\n",
              "       toCoupon_GEQ15min_1  toCoupon_GEQ15min_2  toCoupon_GEQ25min_1  \\\n",
              "12370                    0                    1                    1   \n",
              "8332                     1                    0                    1   \n",
              "8917                     1                    0                    1   \n",
              "6057                     1                    0                    0   \n",
              "10644                    1                    0                    1   \n",
              "\n",
              "       toCoupon_GEQ25min_2  \n",
              "12370                    0  \n",
              "8332                     0  \n",
              "8917                     0  \n",
              "6057                     1  \n",
              "10644                    0  \n",
              "\n",
              "[5 rows x 71 columns]"
            ]
          },
          "metadata": {},
          "output_type": "display_data"
        },
        {
          "data": {
            "text/html": [
              "<div>\n",
              "<style scoped>\n",
              "    .dataframe tbody tr th:only-of-type {\n",
              "        vertical-align: middle;\n",
              "    }\n",
              "\n",
              "    .dataframe tbody tr th {\n",
              "        vertical-align: top;\n",
              "    }\n",
              "\n",
              "    .dataframe thead th {\n",
              "        text-align: right;\n",
              "    }\n",
              "</style>\n",
              "<table border=\"1\" class=\"dataframe\">\n",
              "  <thead>\n",
              "    <tr style=\"text-align: right;\">\n",
              "      <th></th>\n",
              "      <th>destination</th>\n",
              "      <th>passanger</th>\n",
              "      <th>weather</th>\n",
              "      <th>temperature</th>\n",
              "      <th>time</th>\n",
              "      <th>coupon</th>\n",
              "      <th>expiration</th>\n",
              "      <th>gender</th>\n",
              "      <th>age</th>\n",
              "      <th>maritalStatus</th>\n",
              "      <th>...</th>\n",
              "      <th>education</th>\n",
              "      <th>occupation</th>\n",
              "      <th>income</th>\n",
              "      <th>Bar</th>\n",
              "      <th>CoffeeHouse</th>\n",
              "      <th>CarryAway</th>\n",
              "      <th>RestaurantLessThan20</th>\n",
              "      <th>Restaurant20To50</th>\n",
              "      <th>toCoupon_GEQ15min</th>\n",
              "      <th>toCoupon_GEQ25min</th>\n",
              "    </tr>\n",
              "  </thead>\n",
              "  <tbody>\n",
              "    <tr>\n",
              "      <th>9863</th>\n",
              "      <td>No Urgent Place</td>\n",
              "      <td>Alone</td>\n",
              "      <td>Rainy</td>\n",
              "      <td>55</td>\n",
              "      <td>10AM</td>\n",
              "      <td>Coffee House</td>\n",
              "      <td>1d</td>\n",
              "      <td>Male</td>\n",
              "      <td>36</td>\n",
              "      <td>Single</td>\n",
              "      <td>...</td>\n",
              "      <td>Some college - no degree</td>\n",
              "      <td>Office &amp; Administrative Support</td>\n",
              "      <td>$25000 - $37499</td>\n",
              "      <td>less1</td>\n",
              "      <td>never</td>\n",
              "      <td>less1</td>\n",
              "      <td>less1</td>\n",
              "      <td>less1</td>\n",
              "      <td>1</td>\n",
              "      <td>0</td>\n",
              "    </tr>\n",
              "    <tr>\n",
              "      <th>251</th>\n",
              "      <td>Home</td>\n",
              "      <td>Alone</td>\n",
              "      <td>Sunny</td>\n",
              "      <td>55</td>\n",
              "      <td>6PM</td>\n",
              "      <td>Restaurant(20-50)</td>\n",
              "      <td>1d</td>\n",
              "      <td>Female</td>\n",
              "      <td>21</td>\n",
              "      <td>Single</td>\n",
              "      <td>...</td>\n",
              "      <td>High School Graduate</td>\n",
              "      <td>Unemployed</td>\n",
              "      <td>Less than $12500</td>\n",
              "      <td>1~3</td>\n",
              "      <td>never</td>\n",
              "      <td>4~8</td>\n",
              "      <td>1~3</td>\n",
              "      <td>less1</td>\n",
              "      <td>1</td>\n",
              "      <td>0</td>\n",
              "    </tr>\n",
              "    <tr>\n",
              "      <th>4949</th>\n",
              "      <td>Home</td>\n",
              "      <td>Alone</td>\n",
              "      <td>Sunny</td>\n",
              "      <td>55</td>\n",
              "      <td>10PM</td>\n",
              "      <td>Carry out &amp; Take away</td>\n",
              "      <td>1d</td>\n",
              "      <td>Male</td>\n",
              "      <td>31</td>\n",
              "      <td>Single</td>\n",
              "      <td>...</td>\n",
              "      <td>High School Graduate</td>\n",
              "      <td>Production Occupations</td>\n",
              "      <td>$25000 - $37499</td>\n",
              "      <td>1~3</td>\n",
              "      <td>never</td>\n",
              "      <td>4~8</td>\n",
              "      <td>1~3</td>\n",
              "      <td>less1</td>\n",
              "      <td>1</td>\n",
              "      <td>1</td>\n",
              "    </tr>\n",
              "    <tr>\n",
              "      <th>9411</th>\n",
              "      <td>No Urgent Place</td>\n",
              "      <td>Alone</td>\n",
              "      <td>Sunny</td>\n",
              "      <td>80</td>\n",
              "      <td>10PM</td>\n",
              "      <td>Restaurant(&lt;20)</td>\n",
              "      <td>1d</td>\n",
              "      <td>Female</td>\n",
              "      <td>50plus</td>\n",
              "      <td>Divorced</td>\n",
              "      <td>...</td>\n",
              "      <td>Some college - no degree</td>\n",
              "      <td>Unemployed</td>\n",
              "      <td>$37500 - $49999</td>\n",
              "      <td>never</td>\n",
              "      <td>never</td>\n",
              "      <td>4~8</td>\n",
              "      <td>1~3</td>\n",
              "      <td>less1</td>\n",
              "      <td>0</td>\n",
              "      <td>0</td>\n",
              "    </tr>\n",
              "    <tr>\n",
              "      <th>6449</th>\n",
              "      <td>Work</td>\n",
              "      <td>Alone</td>\n",
              "      <td>Sunny</td>\n",
              "      <td>80</td>\n",
              "      <td>7AM</td>\n",
              "      <td>Carry out &amp; Take away</td>\n",
              "      <td>1d</td>\n",
              "      <td>Female</td>\n",
              "      <td>26</td>\n",
              "      <td>Single</td>\n",
              "      <td>...</td>\n",
              "      <td>Some college - no degree</td>\n",
              "      <td>Office &amp; Administrative Support</td>\n",
              "      <td>$37500 - $49999</td>\n",
              "      <td>1~3</td>\n",
              "      <td>never</td>\n",
              "      <td>1~3</td>\n",
              "      <td>1~3</td>\n",
              "      <td>1~3</td>\n",
              "      <td>0</td>\n",
              "      <td>0</td>\n",
              "    </tr>\n",
              "  </tbody>\n",
              "</table>\n",
              "<p>5 rows × 21 columns</p>\n",
              "</div>"
            ],
            "text/plain": [
              "          destination passanger weather temperature  time  \\\n",
              "9863  No Urgent Place     Alone   Rainy          55  10AM   \n",
              "251              Home     Alone   Sunny          55   6PM   \n",
              "4949             Home     Alone   Sunny          55  10PM   \n",
              "9411  No Urgent Place     Alone   Sunny          80  10PM   \n",
              "6449             Work     Alone   Sunny          80   7AM   \n",
              "\n",
              "                     coupon expiration  gender     age maritalStatus  ...  \\\n",
              "9863           Coffee House         1d    Male      36        Single  ...   \n",
              "251       Restaurant(20-50)         1d  Female      21        Single  ...   \n",
              "4949  Carry out & Take away         1d    Male      31        Single  ...   \n",
              "9411        Restaurant(<20)         1d  Female  50plus      Divorced  ...   \n",
              "6449  Carry out & Take away         1d  Female      26        Single  ...   \n",
              "\n",
              "                     education                       occupation  \\\n",
              "9863  Some college - no degree  Office & Administrative Support   \n",
              "251       High School Graduate                       Unemployed   \n",
              "4949      High School Graduate           Production Occupations   \n",
              "9411  Some college - no degree                       Unemployed   \n",
              "6449  Some college - no degree  Office & Administrative Support   \n",
              "\n",
              "                income    Bar CoffeeHouse CarryAway RestaurantLessThan20  \\\n",
              "9863   $25000 - $37499  less1       never     less1                less1   \n",
              "251   Less than $12500    1~3       never       4~8                  1~3   \n",
              "4949   $25000 - $37499    1~3       never       4~8                  1~3   \n",
              "9411   $37500 - $49999  never       never       4~8                  1~3   \n",
              "6449   $37500 - $49999    1~3       never       1~3                  1~3   \n",
              "\n",
              "     Restaurant20To50 toCoupon_GEQ15min toCoupon_GEQ25min  \n",
              "9863            less1                 1                 0  \n",
              "251             less1                 1                 0  \n",
              "4949            less1                 1                 1  \n",
              "9411            less1                 0                 0  \n",
              "6449              1~3                 0                 0  \n",
              "\n",
              "[5 rows x 21 columns]"
            ]
          },
          "metadata": {},
          "output_type": "display_data"
        }
      ],
      "source": [
        "# One Hot Encoding + Ordianal Encoding with random value assignments for categories\n",
        "# yTrain, yTest, yValid= yTrain.astype('int'), yTest.astype('int'), yValid.asType('int')\n",
        "\n",
        "ordial_columns = ['age', 'education', 'income', 'Bar', 'CoffeeHouse', 'CarryAway', 'RestaurantLessThan20', 'Restaurant20To50']\n",
        "XTrain_some_ordinal_random, XValid_some_ordinal_random, XTest_some_ordinal_random = ordinal_encoder(XTrain, XValid, XTest, ordial_columns)\n",
        "# display(XTrain_some_ordinal_random.head())\n",
        "# display(XValid_some_ordinal_random.head())\n",
        "# display(XTest_some_ordinal_random.head())\n",
        "\n",
        "\n",
        "XTrain_mixture_random, XValid_mixture_random, XTest_mixture_random = one_hot_encoding(XTrain_some_ordinal_random, XValid_some_ordinal_random, XTest_some_ordinal_random, columns=[i for i in XTrain.columns if i not in ordial_columns])\n",
        "# display(XTrain_mixture_random.head())\n",
        "# display(XValid_mixture_random.head())\n",
        "# display(XTest_mixture_random.head())\n",
        "\n",
        "## Ordinal encoding with some order value assignment for categories \n",
        "yTrain, yValid, yTest = yTrain.astype('int'), yValid.astype('int'), yTest.astype('int')\n",
        "XTrain_some_ordinal= ordinal_encoding(XTrain)\n",
        "XValid_some_ordinal = ordinal_encoding(XValid)\n",
        "XTest_some_ordinal = ordinal_encoding(XTest)\n",
        "\n",
        "XTrain_mixture, XValid_mixture, XTest_mixture = one_hot_encoding(XTrain_some_ordinal, XValid_some_ordinal, XTest_some_ordinal, columns=[i for i in XTrain.columns if i not in ordial_columns])\n",
        "display(XTrain_mixture.head())\n",
        "display(XValid_mixture.head())\n",
        "display(XTest_mixture.head())\n",
        "\n",
        "\n",
        "display(XTrain.head())\n",
        "\n"
      ]
    },
    {
      "cell_type": "markdown",
      "metadata": {
        "id": "vwfFj75je92A"
      },
      "source": [
        "<a name = '3-2-3'></a>\n",
        "#### 3.2.3 - Target encoding\n",
        "Target encoding replace the value for certain category of features with ratio of the number of coupon acception/all numbers of record for that category. In this way, we introduce the effect of target for each category, and all values will be float in the range of [0, 1].  [Target Encoding](https://medium.com/analytics-vidhya/target-encoding-vs-one-hot-encoding-with-simple-examples-276a7e7b3e64)"
      ]
    },
    {
      "cell_type": "code",
      "execution_count": 26,
      "metadata": {
        "id": "01tt71XKe92A"
      },
      "outputs": [],
      "source": [
        "def target_encoding(train, ytrain, valid, test, columns):\n",
        "    ytrain = ytrain.astype(float)\n",
        "    oe = ce.TargetEncoder(return_df=True)\n",
        "\n",
        "    train_transformed = oe.fit_transform(train[columns], ytrain[ytrain.columns])\n",
        "    valid_transformed = oe.transform(valid)\n",
        "    test_transformed = oe.transform(test)\n",
        "    return train_transformed, valid_transformed, test_transformed"
      ]
    },
    {
      "cell_type": "code",
      "execution_count": 27,
      "metadata": {
        "colab": {
          "base_uri": "https://localhost:8080/",
          "height": 736
        },
        "id": "rC7KTfIYe92B",
        "outputId": "06ba7077-354a-4790-e2a1-2bcfa94f907a"
      },
      "outputs": [
        {
          "data": {
            "text/html": [
              "<div>\n",
              "<style scoped>\n",
              "    .dataframe tbody tr th:only-of-type {\n",
              "        vertical-align: middle;\n",
              "    }\n",
              "\n",
              "    .dataframe tbody tr th {\n",
              "        vertical-align: top;\n",
              "    }\n",
              "\n",
              "    .dataframe thead th {\n",
              "        text-align: right;\n",
              "    }\n",
              "</style>\n",
              "<table border=\"1\" class=\"dataframe\">\n",
              "  <thead>\n",
              "    <tr style=\"text-align: right;\">\n",
              "      <th></th>\n",
              "      <th>destination</th>\n",
              "      <th>passanger</th>\n",
              "      <th>weather</th>\n",
              "      <th>temperature</th>\n",
              "      <th>time</th>\n",
              "      <th>coupon</th>\n",
              "      <th>expiration</th>\n",
              "      <th>gender</th>\n",
              "      <th>age</th>\n",
              "      <th>maritalStatus</th>\n",
              "      <th>...</th>\n",
              "      <th>education</th>\n",
              "      <th>occupation</th>\n",
              "      <th>income</th>\n",
              "      <th>Bar</th>\n",
              "      <th>CoffeeHouse</th>\n",
              "      <th>CarryAway</th>\n",
              "      <th>RestaurantLessThan20</th>\n",
              "      <th>Restaurant20To50</th>\n",
              "      <th>toCoupon_GEQ15min</th>\n",
              "      <th>toCoupon_GEQ25min</th>\n",
              "    </tr>\n",
              "  </thead>\n",
              "  <tbody>\n",
              "    <tr>\n",
              "      <th>9863</th>\n",
              "      <td>0.638844</td>\n",
              "      <td>0.533318</td>\n",
              "      <td>0.476529</td>\n",
              "      <td>0.536713</td>\n",
              "      <td>0.616469</td>\n",
              "      <td>0.509167</td>\n",
              "      <td>0.637821</td>\n",
              "      <td>0.593439</td>\n",
              "      <td>0.553333</td>\n",
              "      <td>0.606734</td>\n",
              "      <td>...</td>\n",
              "      <td>0.602874</td>\n",
              "      <td>0.607235</td>\n",
              "      <td>0.602808</td>\n",
              "      <td>0.566798</td>\n",
              "      <td>0.469115</td>\n",
              "      <td>0.514905</td>\n",
              "      <td>0.535337</td>\n",
              "      <td>0.566923</td>\n",
              "      <td>0.534649</td>\n",
              "      <td>0.593975</td>\n",
              "    </tr>\n",
              "    <tr>\n",
              "      <th>251</th>\n",
              "      <td>0.514593</td>\n",
              "      <td>0.533318</td>\n",
              "      <td>0.598612</td>\n",
              "      <td>0.536713</td>\n",
              "      <td>0.593316</td>\n",
              "      <td>0.455240</td>\n",
              "      <td>0.637821</td>\n",
              "      <td>0.555384</td>\n",
              "      <td>0.599010</td>\n",
              "      <td>0.606734</td>\n",
              "      <td>...</td>\n",
              "      <td>0.581006</td>\n",
              "      <td>0.564516</td>\n",
              "      <td>0.606742</td>\n",
              "      <td>0.632667</td>\n",
              "      <td>0.469115</td>\n",
              "      <td>0.595435</td>\n",
              "      <td>0.568306</td>\n",
              "      <td>0.566923</td>\n",
              "      <td>0.534649</td>\n",
              "      <td>0.593975</td>\n",
              "    </tr>\n",
              "    <tr>\n",
              "      <th>4949</th>\n",
              "      <td>0.514593</td>\n",
              "      <td>0.533318</td>\n",
              "      <td>0.598612</td>\n",
              "      <td>0.536713</td>\n",
              "      <td>0.515860</td>\n",
              "      <td>0.740529</td>\n",
              "      <td>0.637821</td>\n",
              "      <td>0.593439</td>\n",
              "      <td>0.563180</td>\n",
              "      <td>0.606734</td>\n",
              "      <td>...</td>\n",
              "      <td>0.581006</td>\n",
              "      <td>0.563636</td>\n",
              "      <td>0.602808</td>\n",
              "      <td>0.632667</td>\n",
              "      <td>0.469115</td>\n",
              "      <td>0.595435</td>\n",
              "      <td>0.568306</td>\n",
              "      <td>0.566923</td>\n",
              "      <td>0.534649</td>\n",
              "      <td>0.431770</td>\n",
              "    </tr>\n",
              "    <tr>\n",
              "      <th>9411</th>\n",
              "      <td>0.638844</td>\n",
              "      <td>0.533318</td>\n",
              "      <td>0.598612</td>\n",
              "      <td>0.607422</td>\n",
              "      <td>0.515860</td>\n",
              "      <td>0.706515</td>\n",
              "      <td>0.637821</td>\n",
              "      <td>0.555384</td>\n",
              "      <td>0.506024</td>\n",
              "      <td>0.542373</td>\n",
              "      <td>...</td>\n",
              "      <td>0.602874</td>\n",
              "      <td>0.564516</td>\n",
              "      <td>0.582868</td>\n",
              "      <td>0.538295</td>\n",
              "      <td>0.469115</td>\n",
              "      <td>0.595435</td>\n",
              "      <td>0.568306</td>\n",
              "      <td>0.566923</td>\n",
              "      <td>0.623919</td>\n",
              "      <td>0.593975</td>\n",
              "    </tr>\n",
              "    <tr>\n",
              "      <th>6449</th>\n",
              "      <td>0.508077</td>\n",
              "      <td>0.533318</td>\n",
              "      <td>0.598612</td>\n",
              "      <td>0.607422</td>\n",
              "      <td>0.508077</td>\n",
              "      <td>0.740529</td>\n",
              "      <td>0.637821</td>\n",
              "      <td>0.555384</td>\n",
              "      <td>0.606805</td>\n",
              "      <td>0.606734</td>\n",
              "      <td>...</td>\n",
              "      <td>0.602874</td>\n",
              "      <td>0.607235</td>\n",
              "      <td>0.582868</td>\n",
              "      <td>0.632667</td>\n",
              "      <td>0.469115</td>\n",
              "      <td>0.579038</td>\n",
              "      <td>0.568306</td>\n",
              "      <td>0.604251</td>\n",
              "      <td>0.623919</td>\n",
              "      <td>0.593975</td>\n",
              "    </tr>\n",
              "  </tbody>\n",
              "</table>\n",
              "<p>5 rows × 21 columns</p>\n",
              "</div>"
            ],
            "text/plain": [
              "      destination  passanger   weather  temperature      time    coupon  \\\n",
              "9863     0.638844   0.533318  0.476529     0.536713  0.616469  0.509167   \n",
              "251      0.514593   0.533318  0.598612     0.536713  0.593316  0.455240   \n",
              "4949     0.514593   0.533318  0.598612     0.536713  0.515860  0.740529   \n",
              "9411     0.638844   0.533318  0.598612     0.607422  0.515860  0.706515   \n",
              "6449     0.508077   0.533318  0.598612     0.607422  0.508077  0.740529   \n",
              "\n",
              "      expiration    gender       age  maritalStatus  ...  education  \\\n",
              "9863    0.637821  0.593439  0.553333       0.606734  ...   0.602874   \n",
              "251     0.637821  0.555384  0.599010       0.606734  ...   0.581006   \n",
              "4949    0.637821  0.593439  0.563180       0.606734  ...   0.581006   \n",
              "9411    0.637821  0.555384  0.506024       0.542373  ...   0.602874   \n",
              "6449    0.637821  0.555384  0.606805       0.606734  ...   0.602874   \n",
              "\n",
              "      occupation    income       Bar  CoffeeHouse  CarryAway  \\\n",
              "9863    0.607235  0.602808  0.566798     0.469115   0.514905   \n",
              "251     0.564516  0.606742  0.632667     0.469115   0.595435   \n",
              "4949    0.563636  0.602808  0.632667     0.469115   0.595435   \n",
              "9411    0.564516  0.582868  0.538295     0.469115   0.595435   \n",
              "6449    0.607235  0.582868  0.632667     0.469115   0.579038   \n",
              "\n",
              "      RestaurantLessThan20  Restaurant20To50  toCoupon_GEQ15min  \\\n",
              "9863              0.535337          0.566923           0.534649   \n",
              "251               0.568306          0.566923           0.534649   \n",
              "4949              0.568306          0.566923           0.534649   \n",
              "9411              0.568306          0.566923           0.623919   \n",
              "6449              0.568306          0.604251           0.623919   \n",
              "\n",
              "      toCoupon_GEQ25min  \n",
              "9863           0.593975  \n",
              "251            0.593975  \n",
              "4949           0.431770  \n",
              "9411           0.593975  \n",
              "6449           0.593975  \n",
              "\n",
              "[5 rows x 21 columns]"
            ]
          },
          "metadata": {},
          "output_type": "display_data"
        },
        {
          "data": {
            "text/html": [
              "<div>\n",
              "<style scoped>\n",
              "    .dataframe tbody tr th:only-of-type {\n",
              "        vertical-align: middle;\n",
              "    }\n",
              "\n",
              "    .dataframe tbody tr th {\n",
              "        vertical-align: top;\n",
              "    }\n",
              "\n",
              "    .dataframe thead th {\n",
              "        text-align: right;\n",
              "    }\n",
              "</style>\n",
              "<table border=\"1\" class=\"dataframe\">\n",
              "  <thead>\n",
              "    <tr style=\"text-align: right;\">\n",
              "      <th></th>\n",
              "      <th>destination</th>\n",
              "      <th>passanger</th>\n",
              "      <th>weather</th>\n",
              "      <th>temperature</th>\n",
              "      <th>time</th>\n",
              "      <th>coupon</th>\n",
              "      <th>expiration</th>\n",
              "      <th>gender</th>\n",
              "      <th>age</th>\n",
              "      <th>maritalStatus</th>\n",
              "      <th>...</th>\n",
              "      <th>education</th>\n",
              "      <th>occupation</th>\n",
              "      <th>income</th>\n",
              "      <th>Bar</th>\n",
              "      <th>CoffeeHouse</th>\n",
              "      <th>CarryAway</th>\n",
              "      <th>RestaurantLessThan20</th>\n",
              "      <th>Restaurant20To50</th>\n",
              "      <th>toCoupon_GEQ15min</th>\n",
              "      <th>toCoupon_GEQ25min</th>\n",
              "    </tr>\n",
              "  </thead>\n",
              "  <tbody>\n",
              "    <tr>\n",
              "      <th>6660</th>\n",
              "      <td>0.514593</td>\n",
              "      <td>0.585477</td>\n",
              "      <td>0.598612</td>\n",
              "      <td>0.536713</td>\n",
              "      <td>0.515860</td>\n",
              "      <td>0.418167</td>\n",
              "      <td>0.637821</td>\n",
              "      <td>0.593439</td>\n",
              "      <td>0.606805</td>\n",
              "      <td>0.573496</td>\n",
              "      <td>...</td>\n",
              "      <td>0.602874</td>\n",
              "      <td>0.637795</td>\n",
              "      <td>0.559415</td>\n",
              "      <td>0.632667</td>\n",
              "      <td>0.629139</td>\n",
              "      <td>0.579038</td>\n",
              "      <td>0.595064</td>\n",
              "      <td>0.566923</td>\n",
              "      <td>0.623919</td>\n",
              "      <td>0.593975</td>\n",
              "    </tr>\n",
              "    <tr>\n",
              "      <th>10645</th>\n",
              "      <td>0.638844</td>\n",
              "      <td>0.533318</td>\n",
              "      <td>0.479484</td>\n",
              "      <td>0.539309</td>\n",
              "      <td>0.658333</td>\n",
              "      <td>0.418167</td>\n",
              "      <td>0.637821</td>\n",
              "      <td>0.593439</td>\n",
              "      <td>0.599010</td>\n",
              "      <td>0.573496</td>\n",
              "      <td>...</td>\n",
              "      <td>0.602874</td>\n",
              "      <td>0.615784</td>\n",
              "      <td>0.606742</td>\n",
              "      <td>0.566798</td>\n",
              "      <td>0.663758</td>\n",
              "      <td>0.595435</td>\n",
              "      <td>0.595064</td>\n",
              "      <td>0.604251</td>\n",
              "      <td>0.623919</td>\n",
              "      <td>0.593975</td>\n",
              "    </tr>\n",
              "    <tr>\n",
              "      <th>2127</th>\n",
              "      <td>0.638844</td>\n",
              "      <td>0.675403</td>\n",
              "      <td>0.598612</td>\n",
              "      <td>0.536713</td>\n",
              "      <td>0.658333</td>\n",
              "      <td>0.509167</td>\n",
              "      <td>0.493618</td>\n",
              "      <td>0.555384</td>\n",
              "      <td>0.599010</td>\n",
              "      <td>0.606734</td>\n",
              "      <td>...</td>\n",
              "      <td>0.602874</td>\n",
              "      <td>0.608247</td>\n",
              "      <td>0.606742</td>\n",
              "      <td>0.566798</td>\n",
              "      <td>0.663758</td>\n",
              "      <td>0.595435</td>\n",
              "      <td>0.605263</td>\n",
              "      <td>0.566923</td>\n",
              "      <td>0.623919</td>\n",
              "      <td>0.593975</td>\n",
              "    </tr>\n",
              "    <tr>\n",
              "      <th>6536</th>\n",
              "      <td>0.508077</td>\n",
              "      <td>0.533318</td>\n",
              "      <td>0.598612</td>\n",
              "      <td>0.607422</td>\n",
              "      <td>0.508077</td>\n",
              "      <td>0.740529</td>\n",
              "      <td>0.637821</td>\n",
              "      <td>0.593439</td>\n",
              "      <td>0.619335</td>\n",
              "      <td>0.606734</td>\n",
              "      <td>...</td>\n",
              "      <td>0.602874</td>\n",
              "      <td>0.615784</td>\n",
              "      <td>0.606742</td>\n",
              "      <td>0.632667</td>\n",
              "      <td>0.629139</td>\n",
              "      <td>0.579038</td>\n",
              "      <td>0.605263</td>\n",
              "      <td>0.642032</td>\n",
              "      <td>0.623919</td>\n",
              "      <td>0.593975</td>\n",
              "    </tr>\n",
              "    <tr>\n",
              "      <th>330</th>\n",
              "      <td>0.638844</td>\n",
              "      <td>0.585477</td>\n",
              "      <td>0.598612</td>\n",
              "      <td>0.607422</td>\n",
              "      <td>0.616469</td>\n",
              "      <td>0.509167</td>\n",
              "      <td>0.493618</td>\n",
              "      <td>0.555384</td>\n",
              "      <td>0.599010</td>\n",
              "      <td>0.573496</td>\n",
              "      <td>...</td>\n",
              "      <td>0.561960</td>\n",
              "      <td>0.615784</td>\n",
              "      <td>0.490909</td>\n",
              "      <td>0.538295</td>\n",
              "      <td>0.546009</td>\n",
              "      <td>0.579038</td>\n",
              "      <td>0.568306</td>\n",
              "      <td>0.566923</td>\n",
              "      <td>0.623919</td>\n",
              "      <td>0.593975</td>\n",
              "    </tr>\n",
              "  </tbody>\n",
              "</table>\n",
              "<p>5 rows × 21 columns</p>\n",
              "</div>"
            ],
            "text/plain": [
              "       destination  passanger   weather  temperature      time    coupon  \\\n",
              "6660      0.514593   0.585477  0.598612     0.536713  0.515860  0.418167   \n",
              "10645     0.638844   0.533318  0.479484     0.539309  0.658333  0.418167   \n",
              "2127      0.638844   0.675403  0.598612     0.536713  0.658333  0.509167   \n",
              "6536      0.508077   0.533318  0.598612     0.607422  0.508077  0.740529   \n",
              "330       0.638844   0.585477  0.598612     0.607422  0.616469  0.509167   \n",
              "\n",
              "       expiration    gender       age  maritalStatus  ...  education  \\\n",
              "6660     0.637821  0.593439  0.606805       0.573496  ...   0.602874   \n",
              "10645    0.637821  0.593439  0.599010       0.573496  ...   0.602874   \n",
              "2127     0.493618  0.555384  0.599010       0.606734  ...   0.602874   \n",
              "6536     0.637821  0.593439  0.619335       0.606734  ...   0.602874   \n",
              "330      0.493618  0.555384  0.599010       0.573496  ...   0.561960   \n",
              "\n",
              "       occupation    income       Bar  CoffeeHouse  CarryAway  \\\n",
              "6660     0.637795  0.559415  0.632667     0.629139   0.579038   \n",
              "10645    0.615784  0.606742  0.566798     0.663758   0.595435   \n",
              "2127     0.608247  0.606742  0.566798     0.663758   0.595435   \n",
              "6536     0.615784  0.606742  0.632667     0.629139   0.579038   \n",
              "330      0.615784  0.490909  0.538295     0.546009   0.579038   \n",
              "\n",
              "       RestaurantLessThan20  Restaurant20To50  toCoupon_GEQ15min  \\\n",
              "6660               0.595064          0.566923           0.623919   \n",
              "10645              0.595064          0.604251           0.623919   \n",
              "2127               0.605263          0.566923           0.623919   \n",
              "6536               0.605263          0.642032           0.623919   \n",
              "330                0.568306          0.566923           0.623919   \n",
              "\n",
              "       toCoupon_GEQ25min  \n",
              "6660            0.593975  \n",
              "10645           0.593975  \n",
              "2127            0.593975  \n",
              "6536            0.593975  \n",
              "330             0.593975  \n",
              "\n",
              "[5 rows x 21 columns]"
            ]
          },
          "metadata": {},
          "output_type": "display_data"
        },
        {
          "data": {
            "text/html": [
              "<div>\n",
              "<style scoped>\n",
              "    .dataframe tbody tr th:only-of-type {\n",
              "        vertical-align: middle;\n",
              "    }\n",
              "\n",
              "    .dataframe tbody tr th {\n",
              "        vertical-align: top;\n",
              "    }\n",
              "\n",
              "    .dataframe thead th {\n",
              "        text-align: right;\n",
              "    }\n",
              "</style>\n",
              "<table border=\"1\" class=\"dataframe\">\n",
              "  <thead>\n",
              "    <tr style=\"text-align: right;\">\n",
              "      <th></th>\n",
              "      <th>destination</th>\n",
              "      <th>passanger</th>\n",
              "      <th>weather</th>\n",
              "      <th>temperature</th>\n",
              "      <th>time</th>\n",
              "      <th>coupon</th>\n",
              "      <th>expiration</th>\n",
              "      <th>gender</th>\n",
              "      <th>age</th>\n",
              "      <th>maritalStatus</th>\n",
              "      <th>...</th>\n",
              "      <th>education</th>\n",
              "      <th>occupation</th>\n",
              "      <th>income</th>\n",
              "      <th>Bar</th>\n",
              "      <th>CoffeeHouse</th>\n",
              "      <th>CarryAway</th>\n",
              "      <th>RestaurantLessThan20</th>\n",
              "      <th>Restaurant20To50</th>\n",
              "      <th>toCoupon_GEQ15min</th>\n",
              "      <th>toCoupon_GEQ25min</th>\n",
              "    </tr>\n",
              "  </thead>\n",
              "  <tbody>\n",
              "    <tr>\n",
              "      <th>12370</th>\n",
              "      <td>0.638844</td>\n",
              "      <td>0.675403</td>\n",
              "      <td>0.598612</td>\n",
              "      <td>0.607422</td>\n",
              "      <td>0.593316</td>\n",
              "      <td>0.706515</td>\n",
              "      <td>0.493618</td>\n",
              "      <td>0.593439</td>\n",
              "      <td>0.606805</td>\n",
              "      <td>0.606734</td>\n",
              "      <td>...</td>\n",
              "      <td>0.557220</td>\n",
              "      <td>0.564516</td>\n",
              "      <td>0.559415</td>\n",
              "      <td>0.632667</td>\n",
              "      <td>0.546009</td>\n",
              "      <td>0.595435</td>\n",
              "      <td>0.568306</td>\n",
              "      <td>0.566923</td>\n",
              "      <td>0.623919</td>\n",
              "      <td>0.593975</td>\n",
              "    </tr>\n",
              "    <tr>\n",
              "      <th>8332</th>\n",
              "      <td>0.638844</td>\n",
              "      <td>0.521739</td>\n",
              "      <td>0.598612</td>\n",
              "      <td>0.536713</td>\n",
              "      <td>0.658333</td>\n",
              "      <td>0.509167</td>\n",
              "      <td>0.637821</td>\n",
              "      <td>0.555384</td>\n",
              "      <td>0.550861</td>\n",
              "      <td>0.550987</td>\n",
              "      <td>...</td>\n",
              "      <td>0.541242</td>\n",
              "      <td>0.563035</td>\n",
              "      <td>0.490909</td>\n",
              "      <td>0.566798</td>\n",
              "      <td>0.629139</td>\n",
              "      <td>0.573235</td>\n",
              "      <td>0.568306</td>\n",
              "      <td>0.566923</td>\n",
              "      <td>0.534649</td>\n",
              "      <td>0.593975</td>\n",
              "    </tr>\n",
              "    <tr>\n",
              "      <th>8917</th>\n",
              "      <td>0.638844</td>\n",
              "      <td>0.675403</td>\n",
              "      <td>0.476529</td>\n",
              "      <td>0.536713</td>\n",
              "      <td>0.515860</td>\n",
              "      <td>0.455240</td>\n",
              "      <td>0.493618</td>\n",
              "      <td>0.593439</td>\n",
              "      <td>0.553333</td>\n",
              "      <td>0.606734</td>\n",
              "      <td>...</td>\n",
              "      <td>0.541242</td>\n",
              "      <td>0.564516</td>\n",
              "      <td>0.606742</td>\n",
              "      <td>0.538295</td>\n",
              "      <td>0.546009</td>\n",
              "      <td>0.514905</td>\n",
              "      <td>0.595064</td>\n",
              "      <td>0.566923</td>\n",
              "      <td>0.534649</td>\n",
              "      <td>0.593975</td>\n",
              "    </tr>\n",
              "    <tr>\n",
              "      <th>6057</th>\n",
              "      <td>0.514593</td>\n",
              "      <td>0.533318</td>\n",
              "      <td>0.598612</td>\n",
              "      <td>0.536713</td>\n",
              "      <td>0.515860</td>\n",
              "      <td>0.740529</td>\n",
              "      <td>0.637821</td>\n",
              "      <td>0.555384</td>\n",
              "      <td>0.606805</td>\n",
              "      <td>0.606734</td>\n",
              "      <td>...</td>\n",
              "      <td>0.581006</td>\n",
              "      <td>0.564516</td>\n",
              "      <td>0.606742</td>\n",
              "      <td>0.566798</td>\n",
              "      <td>0.546009</td>\n",
              "      <td>0.595435</td>\n",
              "      <td>0.568306</td>\n",
              "      <td>0.512214</td>\n",
              "      <td>0.534649</td>\n",
              "      <td>0.431770</td>\n",
              "    </tr>\n",
              "    <tr>\n",
              "      <th>10644</th>\n",
              "      <td>0.638844</td>\n",
              "      <td>0.533318</td>\n",
              "      <td>0.476529</td>\n",
              "      <td>0.536713</td>\n",
              "      <td>0.616469</td>\n",
              "      <td>0.509167</td>\n",
              "      <td>0.637821</td>\n",
              "      <td>0.593439</td>\n",
              "      <td>0.599010</td>\n",
              "      <td>0.573496</td>\n",
              "      <td>...</td>\n",
              "      <td>0.602874</td>\n",
              "      <td>0.615784</td>\n",
              "      <td>0.606742</td>\n",
              "      <td>0.566798</td>\n",
              "      <td>0.663758</td>\n",
              "      <td>0.595435</td>\n",
              "      <td>0.595064</td>\n",
              "      <td>0.604251</td>\n",
              "      <td>0.534649</td>\n",
              "      <td>0.593975</td>\n",
              "    </tr>\n",
              "  </tbody>\n",
              "</table>\n",
              "<p>5 rows × 21 columns</p>\n",
              "</div>"
            ],
            "text/plain": [
              "       destination  passanger   weather  temperature      time    coupon  \\\n",
              "12370     0.638844   0.675403  0.598612     0.607422  0.593316  0.706515   \n",
              "8332      0.638844   0.521739  0.598612     0.536713  0.658333  0.509167   \n",
              "8917      0.638844   0.675403  0.476529     0.536713  0.515860  0.455240   \n",
              "6057      0.514593   0.533318  0.598612     0.536713  0.515860  0.740529   \n",
              "10644     0.638844   0.533318  0.476529     0.536713  0.616469  0.509167   \n",
              "\n",
              "       expiration    gender       age  maritalStatus  ...  education  \\\n",
              "12370    0.493618  0.593439  0.606805       0.606734  ...   0.557220   \n",
              "8332     0.637821  0.555384  0.550861       0.550987  ...   0.541242   \n",
              "8917     0.493618  0.593439  0.553333       0.606734  ...   0.541242   \n",
              "6057     0.637821  0.555384  0.606805       0.606734  ...   0.581006   \n",
              "10644    0.637821  0.593439  0.599010       0.573496  ...   0.602874   \n",
              "\n",
              "       occupation    income       Bar  CoffeeHouse  CarryAway  \\\n",
              "12370    0.564516  0.559415  0.632667     0.546009   0.595435   \n",
              "8332     0.563035  0.490909  0.566798     0.629139   0.573235   \n",
              "8917     0.564516  0.606742  0.538295     0.546009   0.514905   \n",
              "6057     0.564516  0.606742  0.566798     0.546009   0.595435   \n",
              "10644    0.615784  0.606742  0.566798     0.663758   0.595435   \n",
              "\n",
              "       RestaurantLessThan20  Restaurant20To50  toCoupon_GEQ15min  \\\n",
              "12370              0.568306          0.566923           0.623919   \n",
              "8332               0.568306          0.566923           0.534649   \n",
              "8917               0.595064          0.566923           0.534649   \n",
              "6057               0.568306          0.512214           0.534649   \n",
              "10644              0.595064          0.604251           0.534649   \n",
              "\n",
              "       toCoupon_GEQ25min  \n",
              "12370           0.593975  \n",
              "8332            0.593975  \n",
              "8917            0.593975  \n",
              "6057            0.431770  \n",
              "10644           0.593975  \n",
              "\n",
              "[5 rows x 21 columns]"
            ]
          },
          "metadata": {},
          "output_type": "display_data"
        }
      ],
      "source": [
        "# Test\n",
        "XTrain_target, XValid_target, XTest_target = target_encoding(XTrain, yTrain, XValid, XTest, columns=list(XTrain.columns))\n",
        "display(XTrain_target.head())\n",
        "display(XValid_target.head())\n",
        "display(XTest_target.head())"
      ]
    },
    {
      "cell_type": "markdown",
      "metadata": {
        "id": "ISTb87-re92B"
      },
      "source": [
        "<a name = '3-2-4'></a>\n",
        "#### 3.2.4 - Embedded encoding\n",
        "Embedded encoding is a distributed representation for the categorical variables. Each feature will be mapped into a vector with certain size. The size is arbitary, which you may test by yourself. Here, we just fixed it as 10 for computational convenience. You can get an intitution for output dimension in later cell. Also, the input data are assumed as oridinal encoding, here we use the combinations of for-loop and label encoding to acheive the same performance.  \n",
        "[Ref](https://machinelearningmastery.com/how-to-prepare-categorical-data-for-deep-learning-in-python/)"
      ]
    },
    {
      "cell_type": "code",
      "execution_count": 29,
      "metadata": {
        "colab": {
          "base_uri": "https://localhost:8080/",
          "height": 1000,
          "resources": {
            "http://localhost:8080/nbextensions/google.colab/files.js": {
              "data": "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",
              "headers": [
                [
                  "content-type",
                  "application/javascript"
                ]
              ],
              "ok": true,
              "status": 200,
              "status_text": ""
            }
          }
        },
        "id": "wFXQmUF-e92C",
        "outputId": "acc3a7fd-4b15-4ff5-bc23-39648545c174"
      },
      "outputs": [
        {
          "data": {
            "text/plain": [
              "array([['No Urgent Place', 'Alone', 'Sunny', ..., '1~3', '0', '0'],\n",
              "       ['No Urgent Place', 'Friend(s)', 'Sunny', ..., '1~3', '0', '0'],\n",
              "       ['No Urgent Place', 'Friend(s)', 'Sunny', ..., '1~3', '1', '0'],\n",
              "       ...,\n",
              "       ['Work', 'Alone', 'Snowy', ..., '1~3', '0', '0'],\n",
              "       ['Work', 'Alone', 'Snowy', ..., '1~3', '1', '1'],\n",
              "       ['Work', 'Alone', 'Sunny', ..., '1~3', '0', '0']], dtype='<U41')"
            ]
          },
          "metadata": {},
          "output_type": "display_data"
        },
        {
          "data": {
            "text/plain": [
              "array([[1],\n",
              "       [0],\n",
              "       [1],\n",
              "       ...,\n",
              "       [0],\n",
              "       [0],\n",
              "       [0]], dtype=object)"
            ]
          },
          "metadata": {},
          "output_type": "display_data"
        },
        {
          "name": "stdout",
          "output_type": "stream",
          "text": [
            "You must install pydot (`pip install pydot`) and install graphviz (see instructions at https://graphviz.gitlab.io/download/) for plot_model/model_to_dot to work.\n",
            "Epoch 1/20\n",
            "555/555 - 6s - loss: 0.6191 - accuracy: 0.6565 - 6s/epoch - 10ms/step\n",
            "Epoch 2/20\n",
            "555/555 - 2s - loss: 0.5869 - accuracy: 0.6917 - 2s/epoch - 3ms/step\n",
            "Epoch 3/20\n",
            "555/555 - 2s - loss: 0.5800 - accuracy: 0.6989 - 2s/epoch - 3ms/step\n",
            "Epoch 4/20\n",
            "555/555 - 2s - loss: 0.5747 - accuracy: 0.7041 - 2s/epoch - 3ms/step\n",
            "Epoch 5/20\n",
            "555/555 - 2s - loss: 0.5692 - accuracy: 0.7067 - 2s/epoch - 4ms/step\n",
            "Epoch 6/20\n",
            "555/555 - 2s - loss: 0.5628 - accuracy: 0.7120 - 2s/epoch - 3ms/step\n",
            "Epoch 7/20\n",
            "555/555 - 3s - loss: 0.5575 - accuracy: 0.7196 - 3s/epoch - 5ms/step\n",
            "Epoch 8/20\n",
            "555/555 - 2s - loss: 0.5494 - accuracy: 0.7267 - 2s/epoch - 4ms/step\n",
            "Epoch 9/20\n",
            "555/555 - 2s - loss: 0.5426 - accuracy: 0.7333 - 2s/epoch - 3ms/step\n",
            "Epoch 10/20\n",
            "555/555 - 2s - loss: 0.5355 - accuracy: 0.7382 - 2s/epoch - 3ms/step\n",
            "Epoch 11/20\n",
            "555/555 - 2s - loss: 0.5301 - accuracy: 0.7405 - 2s/epoch - 3ms/step\n",
            "Epoch 12/20\n",
            "555/555 - 2s - loss: 0.5254 - accuracy: 0.7410 - 2s/epoch - 3ms/step\n",
            "Epoch 13/20\n",
            "555/555 - 2s - loss: 0.5197 - accuracy: 0.7460 - 2s/epoch - 3ms/step\n",
            "Epoch 14/20\n",
            "555/555 - 3s - loss: 0.5170 - accuracy: 0.7503 - 3s/epoch - 5ms/step\n",
            "Epoch 15/20\n",
            "555/555 - 3s - loss: 0.5125 - accuracy: 0.7530 - 3s/epoch - 5ms/step\n",
            "Epoch 16/20\n",
            "555/555 - 2s - loss: 0.5085 - accuracy: 0.7557 - 2s/epoch - 4ms/step\n",
            "Epoch 17/20\n",
            "555/555 - 2s - loss: 0.5050 - accuracy: 0.7547 - 2s/epoch - 4ms/step\n",
            "Epoch 18/20\n",
            "555/555 - 2s - loss: 0.5018 - accuracy: 0.7606 - 2s/epoch - 3ms/step\n",
            "Epoch 19/20\n",
            "555/555 - 2s - loss: 0.4995 - accuracy: 0.7620 - 2s/epoch - 3ms/step\n",
            "Epoch 20/20\n",
            "555/555 - 2s - loss: 0.4964 - accuracy: 0.7645 - 2s/epoch - 3ms/step\n",
            "Accuracy: 70.73\n"
          ]
        }
      ],
      "source": [
        "from numpy import unique\n",
        "from pandas import read_csv\n",
        "from sklearn.model_selection import train_test_split\n",
        "from sklearn.preprocessing import LabelEncoder\n",
        "from keras.models import Model\n",
        "from keras.layers import Input\n",
        "from keras.layers import Dense\n",
        "from keras.layers import Embedding\n",
        "from keras.layers import concatenate\n",
        "from tensorflow.keras.utils import plot_model\n",
        " \n",
        "# load the dataset\n",
        "def load_dataset(filename):\n",
        "\t# load the dataset as a pandas DataFrame\n",
        "\tdata = read_csv(filename, header=0).iloc[:,1:]\n",
        "\t# retrieve numpy array\n",
        "\tdataset = data.values\n",
        "\t# split into input (X) and output (y) variables\n",
        "\tX = dataset[:, :-1]\n",
        "\ty = dataset[:,-1]\n",
        "\t# format all fields as string\n",
        "\tX = X.astype(str)\n",
        "\t# reshape target to be a 2d array\n",
        "\ty = y.reshape((len(y), 1))\n",
        "\treturn X, y\n",
        " \n",
        "# prepare input data\n",
        "def prepare_inputs(X_train, X_test):\n",
        "\tX_train_enc, X_test_enc = list(), list()\n",
        "\t# label encode each column\n",
        "\tfor i in range(X_train.shape[1]):\n",
        "\t\tle = LabelEncoder()\n",
        "\t\tle.fit(X_train[:, i])\n",
        "\t\t# encode\n",
        "\t\ttrain_enc = le.transform(X_train[:, i])\n",
        "\t\ttest_enc = le.transform(X_test[:, i])\n",
        "\t\t# store\n",
        "\t\tX_train_enc.append(train_enc)\n",
        "\t\tX_test_enc.append(test_enc)\n",
        "\treturn X_train_enc, X_test_enc\n",
        " \n",
        "# prepare target\n",
        "def prepare_targets(y_train, y_test):\n",
        "\tle = LabelEncoder()\n",
        "\tle.fit(y_train)\n",
        "\ty_train_enc = le.transform(y_train)\n",
        "\ty_test_enc = le.transform(y_test)\n",
        "\treturn y_train_enc, y_test_enc\n",
        " \n",
        "# load the dataset\n",
        "# files.upload()\n",
        "# X_e, y_e = load_dataset('Data_Dropped.csv')\n",
        "\n",
        "X_e, y_e = load_dataset('D:\\Data-Science\\Course\\IE7374\\Projects\\ml_project\\Data_Set\\Data_Dropped.csv')\n",
        "display(X_e, y_e)\n",
        "# split into train and test sets\n",
        "X_Train, X_Test, y_Train, y_Test = train_test_split(X_e, y_e, test_size=0.3, random_state=0)\n",
        "# prepare input data\n",
        "X_train_enc, X_test_enc = prepare_inputs(X_Train, X_Test)\n",
        "# prepare output data\n",
        "y_train_enc, y_test_enc = prepare_targets(y_Train, y_Test)\n",
        "# make output 3d\n",
        "y_train_enc = y_train_enc.reshape((len(y_train_enc), 1, 1))\n",
        "y_test_enc = y_test_enc.reshape((len(y_test_enc), 1, 1))\n",
        "\n",
        "# prepare each input head\n",
        "in_layers = list()\n",
        "em_layers = list()\n",
        "for i in range(len(X_train_enc)):\n",
        "\t# calculate the number of unique inputs\n",
        "\tn_labels = len(unique(X_train_enc[i]))\n",
        "\t# define input layer\n",
        "\tin_layer = Input(shape=(1,))\n",
        "\t# define embedding layer\n",
        "\tem_layer = Embedding(n_labels, 10)(in_layer)\n",
        "\t# store layers\n",
        "\tin_layers.append(in_layer)\n",
        "\tem_layers.append(em_layer)\n",
        "# concat all embeddings\n",
        "merge = concatenate(em_layers)\n",
        "dense = Dense(10, activation='relu', kernel_initializer='he_normal')(merge)\n",
        "output = Dense(1, activation='sigmoid')(dense)\n",
        "model = Model(inputs=in_layers, outputs=output)\n",
        "# compile the keras model\n",
        "model.compile(loss='binary_crossentropy', optimizer='adam', metrics=['accuracy'])\n",
        "# plot graph\n",
        "plot_model(model, show_shapes=True, to_file='embeddings.png')\n",
        "# fit the keras model on the dataset\n",
        "model.fit(X_train_enc, y_train_enc, epochs=20, batch_size=16, verbose=2)\n",
        "# evaluate the keras model\n",
        "_, accuracy = model.evaluate(X_test_enc, y_test_enc, verbose=0)\n",
        "print('Accuracy: %.2f' % (accuracy*100))"
      ]
    },
    {
      "cell_type": "code",
      "execution_count": 30,
      "metadata": {
        "colab": {
          "base_uri": "https://localhost:8080/",
          "height": 35
        },
        "id": "upFnUaMte92C",
        "outputId": "2bcb0105-5752-49f5-fa17-ce5900257f8f"
      },
      "outputs": [
        {
          "data": {
            "text/plain": [
              "<KerasTensor: shape=(None, 1, 210) dtype=float32 (created by layer 'concatenate')>"
            ]
          },
          "metadata": {},
          "output_type": "display_data"
        }
      ],
      "source": [
        "display(merge)"
      ]
    },
    {
      "cell_type": "markdown",
      "metadata": {
        "id": "AD0N-8c1AEws"
      },
      "source": [
        "Here, the problem is that the dimension of embbed data will shrink so that it can not match the length of y label. As a consequence, it is hard to apply to logistic regression from my current understanding. HOW THE NEURAL NETWROK WILL WORK HERE?"
      ]
    },
    {
      "cell_type": "markdown",
      "metadata": {
        "id": "EoFZE2TBQTuA"
      },
      "source": [
        "<a name='3-2-5'></a>\n",
        "#### 3.2.5 - Our encoding choice\n",
        "Classical logistic regression is applied on the abovemetioned encoding styles for picking the proper one considering that the accuracy and further neuron networks application. Those encoding style are one hot encoding, ordinal encoding, mixture encoding, target encoding and embedded encoding. We will chose "
      ]
    },
    {
      "cell_type": "code",
      "execution_count": 31,
      "metadata": {
        "id": "ZSos6pBI0aTn"
      },
      "outputs": [],
      "source": [
        "# Initialize a logistic regression classifier \n",
        "lr = LogisticRegression()"
      ]
    },
    {
      "cell_type": "code",
      "execution_count": 32,
      "metadata": {
        "colab": {
          "base_uri": "https://localhost:8080/",
          "height": 336
        },
        "id": "2wN3sYEodfSp",
        "outputId": "c28e9622-dbb7-48f6-85b6-b85f236d3596"
      },
      "outputs": [
        {
          "data": {
            "text/html": [
              "<div>\n",
              "<style scoped>\n",
              "    .dataframe tbody tr th:only-of-type {\n",
              "        vertical-align: middle;\n",
              "    }\n",
              "\n",
              "    .dataframe tbody tr th {\n",
              "        vertical-align: top;\n",
              "    }\n",
              "\n",
              "    .dataframe thead th {\n",
              "        text-align: right;\n",
              "    }\n",
              "</style>\n",
              "<table border=\"1\" class=\"dataframe\">\n",
              "  <thead>\n",
              "    <tr style=\"text-align: right;\">\n",
              "      <th></th>\n",
              "      <th>destination</th>\n",
              "      <th>passanger</th>\n",
              "      <th>weather</th>\n",
              "      <th>temperature</th>\n",
              "      <th>time</th>\n",
              "      <th>coupon</th>\n",
              "      <th>expiration</th>\n",
              "      <th>gender</th>\n",
              "      <th>age</th>\n",
              "      <th>maritalStatus</th>\n",
              "      <th>...</th>\n",
              "      <th>education</th>\n",
              "      <th>occupation</th>\n",
              "      <th>income</th>\n",
              "      <th>Bar</th>\n",
              "      <th>CoffeeHouse</th>\n",
              "      <th>CarryAway</th>\n",
              "      <th>RestaurantLessThan20</th>\n",
              "      <th>Restaurant20To50</th>\n",
              "      <th>toCoupon_GEQ15min</th>\n",
              "      <th>toCoupon_GEQ25min</th>\n",
              "    </tr>\n",
              "  </thead>\n",
              "  <tbody>\n",
              "    <tr>\n",
              "      <th>9863</th>\n",
              "      <td>0.638844</td>\n",
              "      <td>0.533318</td>\n",
              "      <td>0.476529</td>\n",
              "      <td>0.536713</td>\n",
              "      <td>0.616469</td>\n",
              "      <td>0.509167</td>\n",
              "      <td>0.637821</td>\n",
              "      <td>0.593439</td>\n",
              "      <td>0.553333</td>\n",
              "      <td>0.606734</td>\n",
              "      <td>...</td>\n",
              "      <td>0.602874</td>\n",
              "      <td>0.607235</td>\n",
              "      <td>0.602808</td>\n",
              "      <td>0.566798</td>\n",
              "      <td>0.469115</td>\n",
              "      <td>0.514905</td>\n",
              "      <td>0.535337</td>\n",
              "      <td>0.566923</td>\n",
              "      <td>0.534649</td>\n",
              "      <td>0.593975</td>\n",
              "    </tr>\n",
              "    <tr>\n",
              "      <th>251</th>\n",
              "      <td>0.514593</td>\n",
              "      <td>0.533318</td>\n",
              "      <td>0.598612</td>\n",
              "      <td>0.536713</td>\n",
              "      <td>0.593316</td>\n",
              "      <td>0.455240</td>\n",
              "      <td>0.637821</td>\n",
              "      <td>0.555384</td>\n",
              "      <td>0.599010</td>\n",
              "      <td>0.606734</td>\n",
              "      <td>...</td>\n",
              "      <td>0.581006</td>\n",
              "      <td>0.564516</td>\n",
              "      <td>0.606742</td>\n",
              "      <td>0.632667</td>\n",
              "      <td>0.469115</td>\n",
              "      <td>0.595435</td>\n",
              "      <td>0.568306</td>\n",
              "      <td>0.566923</td>\n",
              "      <td>0.534649</td>\n",
              "      <td>0.593975</td>\n",
              "    </tr>\n",
              "    <tr>\n",
              "      <th>4949</th>\n",
              "      <td>0.514593</td>\n",
              "      <td>0.533318</td>\n",
              "      <td>0.598612</td>\n",
              "      <td>0.536713</td>\n",
              "      <td>0.515860</td>\n",
              "      <td>0.740529</td>\n",
              "      <td>0.637821</td>\n",
              "      <td>0.593439</td>\n",
              "      <td>0.563180</td>\n",
              "      <td>0.606734</td>\n",
              "      <td>...</td>\n",
              "      <td>0.581006</td>\n",
              "      <td>0.563636</td>\n",
              "      <td>0.602808</td>\n",
              "      <td>0.632667</td>\n",
              "      <td>0.469115</td>\n",
              "      <td>0.595435</td>\n",
              "      <td>0.568306</td>\n",
              "      <td>0.566923</td>\n",
              "      <td>0.534649</td>\n",
              "      <td>0.431770</td>\n",
              "    </tr>\n",
              "    <tr>\n",
              "      <th>9411</th>\n",
              "      <td>0.638844</td>\n",
              "      <td>0.533318</td>\n",
              "      <td>0.598612</td>\n",
              "      <td>0.607422</td>\n",
              "      <td>0.515860</td>\n",
              "      <td>0.706515</td>\n",
              "      <td>0.637821</td>\n",
              "      <td>0.555384</td>\n",
              "      <td>0.506024</td>\n",
              "      <td>0.542373</td>\n",
              "      <td>...</td>\n",
              "      <td>0.602874</td>\n",
              "      <td>0.564516</td>\n",
              "      <td>0.582868</td>\n",
              "      <td>0.538295</td>\n",
              "      <td>0.469115</td>\n",
              "      <td>0.595435</td>\n",
              "      <td>0.568306</td>\n",
              "      <td>0.566923</td>\n",
              "      <td>0.623919</td>\n",
              "      <td>0.593975</td>\n",
              "    </tr>\n",
              "    <tr>\n",
              "      <th>6449</th>\n",
              "      <td>0.508077</td>\n",
              "      <td>0.533318</td>\n",
              "      <td>0.598612</td>\n",
              "      <td>0.607422</td>\n",
              "      <td>0.508077</td>\n",
              "      <td>0.740529</td>\n",
              "      <td>0.637821</td>\n",
              "      <td>0.555384</td>\n",
              "      <td>0.606805</td>\n",
              "      <td>0.606734</td>\n",
              "      <td>...</td>\n",
              "      <td>0.602874</td>\n",
              "      <td>0.607235</td>\n",
              "      <td>0.582868</td>\n",
              "      <td>0.632667</td>\n",
              "      <td>0.469115</td>\n",
              "      <td>0.579038</td>\n",
              "      <td>0.568306</td>\n",
              "      <td>0.604251</td>\n",
              "      <td>0.623919</td>\n",
              "      <td>0.593975</td>\n",
              "    </tr>\n",
              "  </tbody>\n",
              "</table>\n",
              "<p>5 rows × 21 columns</p>\n",
              "</div>"
            ],
            "text/plain": [
              "      destination  passanger   weather  temperature      time    coupon  \\\n",
              "9863     0.638844   0.533318  0.476529     0.536713  0.616469  0.509167   \n",
              "251      0.514593   0.533318  0.598612     0.536713  0.593316  0.455240   \n",
              "4949     0.514593   0.533318  0.598612     0.536713  0.515860  0.740529   \n",
              "9411     0.638844   0.533318  0.598612     0.607422  0.515860  0.706515   \n",
              "6449     0.508077   0.533318  0.598612     0.607422  0.508077  0.740529   \n",
              "\n",
              "      expiration    gender       age  maritalStatus  ...  education  \\\n",
              "9863    0.637821  0.593439  0.553333       0.606734  ...   0.602874   \n",
              "251     0.637821  0.555384  0.599010       0.606734  ...   0.581006   \n",
              "4949    0.637821  0.593439  0.563180       0.606734  ...   0.581006   \n",
              "9411    0.637821  0.555384  0.506024       0.542373  ...   0.602874   \n",
              "6449    0.637821  0.555384  0.606805       0.606734  ...   0.602874   \n",
              "\n",
              "      occupation    income       Bar  CoffeeHouse  CarryAway  \\\n",
              "9863    0.607235  0.602808  0.566798     0.469115   0.514905   \n",
              "251     0.564516  0.606742  0.632667     0.469115   0.595435   \n",
              "4949    0.563636  0.602808  0.632667     0.469115   0.595435   \n",
              "9411    0.564516  0.582868  0.538295     0.469115   0.595435   \n",
              "6449    0.607235  0.582868  0.632667     0.469115   0.579038   \n",
              "\n",
              "      RestaurantLessThan20  Restaurant20To50  toCoupon_GEQ15min  \\\n",
              "9863              0.535337          0.566923           0.534649   \n",
              "251               0.568306          0.566923           0.534649   \n",
              "4949              0.568306          0.566923           0.534649   \n",
              "9411              0.568306          0.566923           0.623919   \n",
              "6449              0.568306          0.604251           0.623919   \n",
              "\n",
              "      toCoupon_GEQ25min  \n",
              "9863           0.593975  \n",
              "251            0.593975  \n",
              "4949           0.431770  \n",
              "9411           0.593975  \n",
              "6449           0.593975  \n",
              "\n",
              "[5 rows x 21 columns]"
            ]
          },
          "metadata": {},
          "output_type": "display_data"
        },
        {
          "data": {
            "text/plain": [
              "0.6897910918407568"
            ]
          },
          "metadata": {},
          "output_type": "display_data"
        },
        {
          "data": {
            "text/plain": [
              "0.6696886085928262"
            ]
          },
          "metadata": {},
          "output_type": "display_data"
        }
      ],
      "source": [
        "# Target Encoding\n",
        "display(XTrain_target.head())\n",
        "\n",
        "lr.fit(XTrain_target, yTrain)\n",
        "target_valid_acc = accuracy_score(yValid, lr.predict(XValid_target))\n",
        "target_test_acc = accuracy_score(yTest, lr.predict(XTest_target))\n",
        "display(target_valid_acc, target_test_acc)"
      ]
    },
    {
      "cell_type": "code",
      "execution_count": 33,
      "metadata": {
        "colab": {
          "base_uri": "https://localhost:8080/",
          "height": 336
        },
        "id": "--kx39ig2rc7",
        "outputId": "0af4f7a9-81d2-422d-acbd-2c99e4712dd4"
      },
      "outputs": [
        {
          "data": {
            "text/html": [
              "<div>\n",
              "<style scoped>\n",
              "    .dataframe tbody tr th:only-of-type {\n",
              "        vertical-align: middle;\n",
              "    }\n",
              "\n",
              "    .dataframe tbody tr th {\n",
              "        vertical-align: top;\n",
              "    }\n",
              "\n",
              "    .dataframe thead th {\n",
              "        text-align: right;\n",
              "    }\n",
              "</style>\n",
              "<table border=\"1\" class=\"dataframe\">\n",
              "  <thead>\n",
              "    <tr style=\"text-align: right;\">\n",
              "      <th></th>\n",
              "      <th>destination_1</th>\n",
              "      <th>destination_2</th>\n",
              "      <th>destination_3</th>\n",
              "      <th>passanger_1</th>\n",
              "      <th>passanger_2</th>\n",
              "      <th>passanger_3</th>\n",
              "      <th>passanger_4</th>\n",
              "      <th>weather_1</th>\n",
              "      <th>weather_2</th>\n",
              "      <th>weather_3</th>\n",
              "      <th>...</th>\n",
              "      <th>RestaurantLessThan20_5</th>\n",
              "      <th>Restaurant20To50_1</th>\n",
              "      <th>Restaurant20To50_2</th>\n",
              "      <th>Restaurant20To50_3</th>\n",
              "      <th>Restaurant20To50_4</th>\n",
              "      <th>Restaurant20To50_5</th>\n",
              "      <th>toCoupon_GEQ15min_1</th>\n",
              "      <th>toCoupon_GEQ15min_2</th>\n",
              "      <th>toCoupon_GEQ25min_1</th>\n",
              "      <th>toCoupon_GEQ25min_2</th>\n",
              "    </tr>\n",
              "  </thead>\n",
              "  <tbody>\n",
              "    <tr>\n",
              "      <th>9863</th>\n",
              "      <td>1</td>\n",
              "      <td>0</td>\n",
              "      <td>0</td>\n",
              "      <td>1</td>\n",
              "      <td>0</td>\n",
              "      <td>0</td>\n",
              "      <td>0</td>\n",
              "      <td>1</td>\n",
              "      <td>0</td>\n",
              "      <td>0</td>\n",
              "      <td>...</td>\n",
              "      <td>0</td>\n",
              "      <td>1</td>\n",
              "      <td>0</td>\n",
              "      <td>0</td>\n",
              "      <td>0</td>\n",
              "      <td>0</td>\n",
              "      <td>1</td>\n",
              "      <td>0</td>\n",
              "      <td>1</td>\n",
              "      <td>0</td>\n",
              "    </tr>\n",
              "    <tr>\n",
              "      <th>251</th>\n",
              "      <td>0</td>\n",
              "      <td>1</td>\n",
              "      <td>0</td>\n",
              "      <td>1</td>\n",
              "      <td>0</td>\n",
              "      <td>0</td>\n",
              "      <td>0</td>\n",
              "      <td>0</td>\n",
              "      <td>1</td>\n",
              "      <td>0</td>\n",
              "      <td>...</td>\n",
              "      <td>0</td>\n",
              "      <td>1</td>\n",
              "      <td>0</td>\n",
              "      <td>0</td>\n",
              "      <td>0</td>\n",
              "      <td>0</td>\n",
              "      <td>1</td>\n",
              "      <td>0</td>\n",
              "      <td>1</td>\n",
              "      <td>0</td>\n",
              "    </tr>\n",
              "    <tr>\n",
              "      <th>4949</th>\n",
              "      <td>0</td>\n",
              "      <td>1</td>\n",
              "      <td>0</td>\n",
              "      <td>1</td>\n",
              "      <td>0</td>\n",
              "      <td>0</td>\n",
              "      <td>0</td>\n",
              "      <td>0</td>\n",
              "      <td>1</td>\n",
              "      <td>0</td>\n",
              "      <td>...</td>\n",
              "      <td>0</td>\n",
              "      <td>1</td>\n",
              "      <td>0</td>\n",
              "      <td>0</td>\n",
              "      <td>0</td>\n",
              "      <td>0</td>\n",
              "      <td>1</td>\n",
              "      <td>0</td>\n",
              "      <td>0</td>\n",
              "      <td>1</td>\n",
              "    </tr>\n",
              "    <tr>\n",
              "      <th>9411</th>\n",
              "      <td>1</td>\n",
              "      <td>0</td>\n",
              "      <td>0</td>\n",
              "      <td>1</td>\n",
              "      <td>0</td>\n",
              "      <td>0</td>\n",
              "      <td>0</td>\n",
              "      <td>0</td>\n",
              "      <td>1</td>\n",
              "      <td>0</td>\n",
              "      <td>...</td>\n",
              "      <td>0</td>\n",
              "      <td>1</td>\n",
              "      <td>0</td>\n",
              "      <td>0</td>\n",
              "      <td>0</td>\n",
              "      <td>0</td>\n",
              "      <td>0</td>\n",
              "      <td>1</td>\n",
              "      <td>1</td>\n",
              "      <td>0</td>\n",
              "    </tr>\n",
              "    <tr>\n",
              "      <th>6449</th>\n",
              "      <td>0</td>\n",
              "      <td>0</td>\n",
              "      <td>1</td>\n",
              "      <td>1</td>\n",
              "      <td>0</td>\n",
              "      <td>0</td>\n",
              "      <td>0</td>\n",
              "      <td>0</td>\n",
              "      <td>1</td>\n",
              "      <td>0</td>\n",
              "      <td>...</td>\n",
              "      <td>0</td>\n",
              "      <td>0</td>\n",
              "      <td>1</td>\n",
              "      <td>0</td>\n",
              "      <td>0</td>\n",
              "      <td>0</td>\n",
              "      <td>0</td>\n",
              "      <td>1</td>\n",
              "      <td>1</td>\n",
              "      <td>0</td>\n",
              "    </tr>\n",
              "  </tbody>\n",
              "</table>\n",
              "<p>5 rows × 111 columns</p>\n",
              "</div>"
            ],
            "text/plain": [
              "      destination_1  destination_2  destination_3  passanger_1  passanger_2  \\\n",
              "9863              1              0              0            1            0   \n",
              "251               0              1              0            1            0   \n",
              "4949              0              1              0            1            0   \n",
              "9411              1              0              0            1            0   \n",
              "6449              0              0              1            1            0   \n",
              "\n",
              "      passanger_3  passanger_4  weather_1  weather_2  weather_3  ...  \\\n",
              "9863            0            0          1          0          0  ...   \n",
              "251             0            0          0          1          0  ...   \n",
              "4949            0            0          0          1          0  ...   \n",
              "9411            0            0          0          1          0  ...   \n",
              "6449            0            0          0          1          0  ...   \n",
              "\n",
              "      RestaurantLessThan20_5  Restaurant20To50_1  Restaurant20To50_2  \\\n",
              "9863                       0                   1                   0   \n",
              "251                        0                   1                   0   \n",
              "4949                       0                   1                   0   \n",
              "9411                       0                   1                   0   \n",
              "6449                       0                   0                   1   \n",
              "\n",
              "      Restaurant20To50_3  Restaurant20To50_4  Restaurant20To50_5  \\\n",
              "9863                   0                   0                   0   \n",
              "251                    0                   0                   0   \n",
              "4949                   0                   0                   0   \n",
              "9411                   0                   0                   0   \n",
              "6449                   0                   0                   0   \n",
              "\n",
              "      toCoupon_GEQ15min_1  toCoupon_GEQ15min_2  toCoupon_GEQ25min_1  \\\n",
              "9863                    1                    0                    1   \n",
              "251                     1                    0                    1   \n",
              "4949                    1                    0                    0   \n",
              "9411                    0                    1                    1   \n",
              "6449                    0                    1                    1   \n",
              "\n",
              "      toCoupon_GEQ25min_2  \n",
              "9863                    0  \n",
              "251                     0  \n",
              "4949                    1  \n",
              "9411                    0  \n",
              "6449                    0  \n",
              "\n",
              "[5 rows x 111 columns]"
            ]
          },
          "metadata": {},
          "output_type": "display_data"
        },
        {
          "data": {
            "text/plain": [
              "0.681119432400473"
            ]
          },
          "metadata": {},
          "output_type": "display_data"
        },
        {
          "data": {
            "text/plain": [
              "0.6728419392983839"
            ]
          },
          "metadata": {},
          "output_type": "display_data"
        }
      ],
      "source": [
        "# One Hot Encoding \n",
        "XTrain_only_one_hot, XValid_only_one_hot, XTest_only_one_hot = one_hot_encoding(XTrain, XValid, XTest, columns=XTrain.columns)\n",
        "display(XTrain_only_one_hot.head())\n",
        "lr.fit(XTrain_only_one_hot, yTrain)\n",
        "onehot_valid_acc = accuracy_score(yValid, lr.predict(XValid_only_one_hot))\n",
        "onehot_test_acc = accuracy_score(yTest, lr.predict(XTest_only_one_hot))\n",
        "display(onehot_valid_acc, onehot_test_acc)\n"
      ]
    },
    {
      "cell_type": "code",
      "execution_count": 34,
      "metadata": {
        "colab": {
          "base_uri": "https://localhost:8080/",
          "height": 336
        },
        "id": "foKNMHlq3Hid",
        "outputId": "5fcdcf72-0e37-4276-b3b1-e3941cf9ea99"
      },
      "outputs": [
        {
          "data": {
            "text/html": [
              "<div>\n",
              "<style scoped>\n",
              "    .dataframe tbody tr th:only-of-type {\n",
              "        vertical-align: middle;\n",
              "    }\n",
              "\n",
              "    .dataframe tbody tr th {\n",
              "        vertical-align: top;\n",
              "    }\n",
              "\n",
              "    .dataframe thead th {\n",
              "        text-align: right;\n",
              "    }\n",
              "</style>\n",
              "<table border=\"1\" class=\"dataframe\">\n",
              "  <thead>\n",
              "    <tr style=\"text-align: right;\">\n",
              "      <th></th>\n",
              "      <th>destination</th>\n",
              "      <th>passanger</th>\n",
              "      <th>weather</th>\n",
              "      <th>temperature</th>\n",
              "      <th>time</th>\n",
              "      <th>coupon</th>\n",
              "      <th>expiration</th>\n",
              "      <th>gender</th>\n",
              "      <th>age</th>\n",
              "      <th>maritalStatus</th>\n",
              "      <th>...</th>\n",
              "      <th>education</th>\n",
              "      <th>occupation</th>\n",
              "      <th>income</th>\n",
              "      <th>Bar</th>\n",
              "      <th>CoffeeHouse</th>\n",
              "      <th>CarryAway</th>\n",
              "      <th>RestaurantLessThan20</th>\n",
              "      <th>Restaurant20To50</th>\n",
              "      <th>toCoupon_GEQ15min</th>\n",
              "      <th>toCoupon_GEQ25min</th>\n",
              "    </tr>\n",
              "  </thead>\n",
              "  <tbody>\n",
              "    <tr>\n",
              "      <th>9863</th>\n",
              "      <td>1</td>\n",
              "      <td>1</td>\n",
              "      <td>1</td>\n",
              "      <td>1</td>\n",
              "      <td>1</td>\n",
              "      <td>1</td>\n",
              "      <td>1</td>\n",
              "      <td>1</td>\n",
              "      <td>1</td>\n",
              "      <td>1</td>\n",
              "      <td>...</td>\n",
              "      <td>1</td>\n",
              "      <td>1</td>\n",
              "      <td>1</td>\n",
              "      <td>1</td>\n",
              "      <td>1</td>\n",
              "      <td>1</td>\n",
              "      <td>1</td>\n",
              "      <td>1</td>\n",
              "      <td>1</td>\n",
              "      <td>1</td>\n",
              "    </tr>\n",
              "    <tr>\n",
              "      <th>251</th>\n",
              "      <td>2</td>\n",
              "      <td>1</td>\n",
              "      <td>2</td>\n",
              "      <td>1</td>\n",
              "      <td>2</td>\n",
              "      <td>2</td>\n",
              "      <td>1</td>\n",
              "      <td>2</td>\n",
              "      <td>2</td>\n",
              "      <td>1</td>\n",
              "      <td>...</td>\n",
              "      <td>2</td>\n",
              "      <td>2</td>\n",
              "      <td>2</td>\n",
              "      <td>2</td>\n",
              "      <td>1</td>\n",
              "      <td>2</td>\n",
              "      <td>2</td>\n",
              "      <td>1</td>\n",
              "      <td>1</td>\n",
              "      <td>1</td>\n",
              "    </tr>\n",
              "    <tr>\n",
              "      <th>4949</th>\n",
              "      <td>2</td>\n",
              "      <td>1</td>\n",
              "      <td>2</td>\n",
              "      <td>1</td>\n",
              "      <td>3</td>\n",
              "      <td>3</td>\n",
              "      <td>1</td>\n",
              "      <td>1</td>\n",
              "      <td>3</td>\n",
              "      <td>1</td>\n",
              "      <td>...</td>\n",
              "      <td>2</td>\n",
              "      <td>3</td>\n",
              "      <td>1</td>\n",
              "      <td>2</td>\n",
              "      <td>1</td>\n",
              "      <td>2</td>\n",
              "      <td>2</td>\n",
              "      <td>1</td>\n",
              "      <td>1</td>\n",
              "      <td>2</td>\n",
              "    </tr>\n",
              "    <tr>\n",
              "      <th>9411</th>\n",
              "      <td>1</td>\n",
              "      <td>1</td>\n",
              "      <td>2</td>\n",
              "      <td>2</td>\n",
              "      <td>3</td>\n",
              "      <td>4</td>\n",
              "      <td>1</td>\n",
              "      <td>2</td>\n",
              "      <td>4</td>\n",
              "      <td>2</td>\n",
              "      <td>...</td>\n",
              "      <td>1</td>\n",
              "      <td>2</td>\n",
              "      <td>3</td>\n",
              "      <td>3</td>\n",
              "      <td>1</td>\n",
              "      <td>2</td>\n",
              "      <td>2</td>\n",
              "      <td>1</td>\n",
              "      <td>2</td>\n",
              "      <td>1</td>\n",
              "    </tr>\n",
              "    <tr>\n",
              "      <th>6449</th>\n",
              "      <td>3</td>\n",
              "      <td>1</td>\n",
              "      <td>2</td>\n",
              "      <td>2</td>\n",
              "      <td>4</td>\n",
              "      <td>3</td>\n",
              "      <td>1</td>\n",
              "      <td>2</td>\n",
              "      <td>5</td>\n",
              "      <td>1</td>\n",
              "      <td>...</td>\n",
              "      <td>1</td>\n",
              "      <td>1</td>\n",
              "      <td>3</td>\n",
              "      <td>2</td>\n",
              "      <td>1</td>\n",
              "      <td>3</td>\n",
              "      <td>2</td>\n",
              "      <td>2</td>\n",
              "      <td>2</td>\n",
              "      <td>1</td>\n",
              "    </tr>\n",
              "  </tbody>\n",
              "</table>\n",
              "<p>5 rows × 21 columns</p>\n",
              "</div>"
            ],
            "text/plain": [
              "      destination  passanger  weather  temperature  time  coupon  expiration  \\\n",
              "9863            1          1        1            1     1       1           1   \n",
              "251             2          1        2            1     2       2           1   \n",
              "4949            2          1        2            1     3       3           1   \n",
              "9411            1          1        2            2     3       4           1   \n",
              "6449            3          1        2            2     4       3           1   \n",
              "\n",
              "      gender  age  maritalStatus  ...  education  occupation  income  Bar  \\\n",
              "9863       1    1              1  ...          1           1       1    1   \n",
              "251        2    2              1  ...          2           2       2    2   \n",
              "4949       1    3              1  ...          2           3       1    2   \n",
              "9411       2    4              2  ...          1           2       3    3   \n",
              "6449       2    5              1  ...          1           1       3    2   \n",
              "\n",
              "      CoffeeHouse  CarryAway  RestaurantLessThan20  Restaurant20To50  \\\n",
              "9863            1          1                     1                 1   \n",
              "251             1          2                     2                 1   \n",
              "4949            1          2                     2                 1   \n",
              "9411            1          2                     2                 1   \n",
              "6449            1          3                     2                 2   \n",
              "\n",
              "      toCoupon_GEQ15min  toCoupon_GEQ25min  \n",
              "9863                  1                  1  \n",
              "251                   1                  1  \n",
              "4949                  1                  2  \n",
              "9411                  2                  1  \n",
              "6449                  2                  1  \n",
              "\n",
              "[5 rows x 21 columns]"
            ]
          },
          "metadata": {},
          "output_type": "display_data"
        },
        {
          "data": {
            "text/plain": [
              "0.6038628301143082"
            ]
          },
          "metadata": {},
          "output_type": "display_data"
        },
        {
          "data": {
            "text/plain": [
              "0.5959795033504138"
            ]
          },
          "metadata": {},
          "output_type": "display_data"
        }
      ],
      "source": [
        "# Ordinal Encoding\n",
        "XTrain_ordinal, XValid_ordinal, XTest_ordinal = ordinal_encoder(XTrain, XValid, XTest, columns=XTrain.columns)\n",
        "display(XTrain_ordinal.head())\n",
        "lr.fit(XTrain_ordinal, yTrain)\n",
        "ordinal_valid_acc = accuracy_score(yValid, lr.predict(XValid_ordinal))\n",
        "ordinal_test_acc = accuracy_score(yTest, lr.predict(XTest_ordinal))\n",
        "display(ordinal_valid_acc, ordinal_test_acc)"
      ]
    },
    {
      "cell_type": "code",
      "execution_count": 35,
      "metadata": {
        "colab": {
          "base_uri": "https://localhost:8080/",
          "height": 590
        },
        "id": "3I12uIwn5IxN",
        "outputId": "71c82676-c7c5-44a4-aa19-acd2b1e48135"
      },
      "outputs": [
        {
          "data": {
            "text/html": [
              "<div>\n",
              "<style scoped>\n",
              "    .dataframe tbody tr th:only-of-type {\n",
              "        vertical-align: middle;\n",
              "    }\n",
              "\n",
              "    .dataframe tbody tr th {\n",
              "        vertical-align: top;\n",
              "    }\n",
              "\n",
              "    .dataframe thead th {\n",
              "        text-align: right;\n",
              "    }\n",
              "</style>\n",
              "<table border=\"1\" class=\"dataframe\">\n",
              "  <thead>\n",
              "    <tr style=\"text-align: right;\">\n",
              "      <th></th>\n",
              "      <th>destination_1</th>\n",
              "      <th>destination_2</th>\n",
              "      <th>destination_3</th>\n",
              "      <th>passanger_1</th>\n",
              "      <th>passanger_2</th>\n",
              "      <th>passanger_3</th>\n",
              "      <th>passanger_4</th>\n",
              "      <th>weather_1</th>\n",
              "      <th>weather_2</th>\n",
              "      <th>weather_3</th>\n",
              "      <th>...</th>\n",
              "      <th>income</th>\n",
              "      <th>Bar</th>\n",
              "      <th>CoffeeHouse</th>\n",
              "      <th>CarryAway</th>\n",
              "      <th>RestaurantLessThan20</th>\n",
              "      <th>Restaurant20To50</th>\n",
              "      <th>toCoupon_GEQ15min_1</th>\n",
              "      <th>toCoupon_GEQ15min_2</th>\n",
              "      <th>toCoupon_GEQ25min_1</th>\n",
              "      <th>toCoupon_GEQ25min_2</th>\n",
              "    </tr>\n",
              "  </thead>\n",
              "  <tbody>\n",
              "    <tr>\n",
              "      <th>9863</th>\n",
              "      <td>1</td>\n",
              "      <td>0</td>\n",
              "      <td>0</td>\n",
              "      <td>1</td>\n",
              "      <td>0</td>\n",
              "      <td>0</td>\n",
              "      <td>0</td>\n",
              "      <td>1</td>\n",
              "      <td>0</td>\n",
              "      <td>0</td>\n",
              "      <td>...</td>\n",
              "      <td>1</td>\n",
              "      <td>1</td>\n",
              "      <td>1</td>\n",
              "      <td>1</td>\n",
              "      <td>1</td>\n",
              "      <td>1</td>\n",
              "      <td>1</td>\n",
              "      <td>0</td>\n",
              "      <td>1</td>\n",
              "      <td>0</td>\n",
              "    </tr>\n",
              "    <tr>\n",
              "      <th>251</th>\n",
              "      <td>0</td>\n",
              "      <td>1</td>\n",
              "      <td>0</td>\n",
              "      <td>1</td>\n",
              "      <td>0</td>\n",
              "      <td>0</td>\n",
              "      <td>0</td>\n",
              "      <td>0</td>\n",
              "      <td>1</td>\n",
              "      <td>0</td>\n",
              "      <td>...</td>\n",
              "      <td>2</td>\n",
              "      <td>2</td>\n",
              "      <td>1</td>\n",
              "      <td>2</td>\n",
              "      <td>2</td>\n",
              "      <td>1</td>\n",
              "      <td>1</td>\n",
              "      <td>0</td>\n",
              "      <td>1</td>\n",
              "      <td>0</td>\n",
              "    </tr>\n",
              "    <tr>\n",
              "      <th>4949</th>\n",
              "      <td>0</td>\n",
              "      <td>1</td>\n",
              "      <td>0</td>\n",
              "      <td>1</td>\n",
              "      <td>0</td>\n",
              "      <td>0</td>\n",
              "      <td>0</td>\n",
              "      <td>0</td>\n",
              "      <td>1</td>\n",
              "      <td>0</td>\n",
              "      <td>...</td>\n",
              "      <td>1</td>\n",
              "      <td>2</td>\n",
              "      <td>1</td>\n",
              "      <td>2</td>\n",
              "      <td>2</td>\n",
              "      <td>1</td>\n",
              "      <td>1</td>\n",
              "      <td>0</td>\n",
              "      <td>0</td>\n",
              "      <td>1</td>\n",
              "    </tr>\n",
              "    <tr>\n",
              "      <th>9411</th>\n",
              "      <td>1</td>\n",
              "      <td>0</td>\n",
              "      <td>0</td>\n",
              "      <td>1</td>\n",
              "      <td>0</td>\n",
              "      <td>0</td>\n",
              "      <td>0</td>\n",
              "      <td>0</td>\n",
              "      <td>1</td>\n",
              "      <td>0</td>\n",
              "      <td>...</td>\n",
              "      <td>3</td>\n",
              "      <td>3</td>\n",
              "      <td>1</td>\n",
              "      <td>2</td>\n",
              "      <td>2</td>\n",
              "      <td>1</td>\n",
              "      <td>0</td>\n",
              "      <td>1</td>\n",
              "      <td>1</td>\n",
              "      <td>0</td>\n",
              "    </tr>\n",
              "    <tr>\n",
              "      <th>6449</th>\n",
              "      <td>0</td>\n",
              "      <td>0</td>\n",
              "      <td>1</td>\n",
              "      <td>1</td>\n",
              "      <td>0</td>\n",
              "      <td>0</td>\n",
              "      <td>0</td>\n",
              "      <td>0</td>\n",
              "      <td>1</td>\n",
              "      <td>0</td>\n",
              "      <td>...</td>\n",
              "      <td>3</td>\n",
              "      <td>2</td>\n",
              "      <td>1</td>\n",
              "      <td>3</td>\n",
              "      <td>2</td>\n",
              "      <td>2</td>\n",
              "      <td>0</td>\n",
              "      <td>1</td>\n",
              "      <td>1</td>\n",
              "      <td>0</td>\n",
              "    </tr>\n",
              "  </tbody>\n",
              "</table>\n",
              "<p>5 rows × 71 columns</p>\n",
              "</div>"
            ],
            "text/plain": [
              "      destination_1  destination_2  destination_3  passanger_1  passanger_2  \\\n",
              "9863              1              0              0            1            0   \n",
              "251               0              1              0            1            0   \n",
              "4949              0              1              0            1            0   \n",
              "9411              1              0              0            1            0   \n",
              "6449              0              0              1            1            0   \n",
              "\n",
              "      passanger_3  passanger_4  weather_1  weather_2  weather_3  ...  income  \\\n",
              "9863            0            0          1          0          0  ...       1   \n",
              "251             0            0          0          1          0  ...       2   \n",
              "4949            0            0          0          1          0  ...       1   \n",
              "9411            0            0          0          1          0  ...       3   \n",
              "6449            0            0          0          1          0  ...       3   \n",
              "\n",
              "      Bar  CoffeeHouse  CarryAway  RestaurantLessThan20  Restaurant20To50  \\\n",
              "9863    1            1          1                     1                 1   \n",
              "251     2            1          2                     2                 1   \n",
              "4949    2            1          2                     2                 1   \n",
              "9411    3            1          2                     2                 1   \n",
              "6449    2            1          3                     2                 2   \n",
              "\n",
              "      toCoupon_GEQ15min_1  toCoupon_GEQ15min_2  toCoupon_GEQ25min_1  \\\n",
              "9863                    1                    0                    1   \n",
              "251                     1                    0                    1   \n",
              "4949                    1                    0                    0   \n",
              "9411                    0                    1                    1   \n",
              "6449                    0                    1                    1   \n",
              "\n",
              "      toCoupon_GEQ25min_2  \n",
              "9863                    0  \n",
              "251                     0  \n",
              "4949                    1  \n",
              "9411                    0  \n",
              "6449                    0  \n",
              "\n",
              "[5 rows x 71 columns]"
            ]
          },
          "metadata": {},
          "output_type": "display_data"
        },
        {
          "data": {
            "text/plain": [
              "0.6795427670476941"
            ]
          },
          "metadata": {},
          "output_type": "display_data"
        },
        {
          "data": {
            "text/plain": [
              "0.6606227828143476"
            ]
          },
          "metadata": {},
          "output_type": "display_data"
        },
        {
          "data": {
            "text/html": [
              "<div>\n",
              "<style scoped>\n",
              "    .dataframe tbody tr th:only-of-type {\n",
              "        vertical-align: middle;\n",
              "    }\n",
              "\n",
              "    .dataframe tbody tr th {\n",
              "        vertical-align: top;\n",
              "    }\n",
              "\n",
              "    .dataframe thead th {\n",
              "        text-align: right;\n",
              "    }\n",
              "</style>\n",
              "<table border=\"1\" class=\"dataframe\">\n",
              "  <thead>\n",
              "    <tr style=\"text-align: right;\">\n",
              "      <th></th>\n",
              "      <th>destination_1</th>\n",
              "      <th>destination_2</th>\n",
              "      <th>destination_3</th>\n",
              "      <th>passanger_1</th>\n",
              "      <th>passanger_2</th>\n",
              "      <th>passanger_3</th>\n",
              "      <th>passanger_4</th>\n",
              "      <th>weather_1</th>\n",
              "      <th>weather_2</th>\n",
              "      <th>weather_3</th>\n",
              "      <th>...</th>\n",
              "      <th>income</th>\n",
              "      <th>Bar</th>\n",
              "      <th>CoffeeHouse</th>\n",
              "      <th>CarryAway</th>\n",
              "      <th>RestaurantLessThan20</th>\n",
              "      <th>Restaurant20To50</th>\n",
              "      <th>toCoupon_GEQ15min_1</th>\n",
              "      <th>toCoupon_GEQ15min_2</th>\n",
              "      <th>toCoupon_GEQ25min_1</th>\n",
              "      <th>toCoupon_GEQ25min_2</th>\n",
              "    </tr>\n",
              "  </thead>\n",
              "  <tbody>\n",
              "    <tr>\n",
              "      <th>9863</th>\n",
              "      <td>1</td>\n",
              "      <td>0</td>\n",
              "      <td>0</td>\n",
              "      <td>1</td>\n",
              "      <td>0</td>\n",
              "      <td>0</td>\n",
              "      <td>0</td>\n",
              "      <td>1</td>\n",
              "      <td>0</td>\n",
              "      <td>0</td>\n",
              "      <td>...</td>\n",
              "      <td>2</td>\n",
              "      <td>1</td>\n",
              "      <td>0</td>\n",
              "      <td>1</td>\n",
              "      <td>1</td>\n",
              "      <td>1</td>\n",
              "      <td>1</td>\n",
              "      <td>0</td>\n",
              "      <td>1</td>\n",
              "      <td>0</td>\n",
              "    </tr>\n",
              "    <tr>\n",
              "      <th>251</th>\n",
              "      <td>0</td>\n",
              "      <td>1</td>\n",
              "      <td>0</td>\n",
              "      <td>1</td>\n",
              "      <td>0</td>\n",
              "      <td>0</td>\n",
              "      <td>0</td>\n",
              "      <td>0</td>\n",
              "      <td>1</td>\n",
              "      <td>0</td>\n",
              "      <td>...</td>\n",
              "      <td>0</td>\n",
              "      <td>2</td>\n",
              "      <td>0</td>\n",
              "      <td>3</td>\n",
              "      <td>2</td>\n",
              "      <td>1</td>\n",
              "      <td>1</td>\n",
              "      <td>0</td>\n",
              "      <td>1</td>\n",
              "      <td>0</td>\n",
              "    </tr>\n",
              "    <tr>\n",
              "      <th>4949</th>\n",
              "      <td>0</td>\n",
              "      <td>1</td>\n",
              "      <td>0</td>\n",
              "      <td>1</td>\n",
              "      <td>0</td>\n",
              "      <td>0</td>\n",
              "      <td>0</td>\n",
              "      <td>0</td>\n",
              "      <td>1</td>\n",
              "      <td>0</td>\n",
              "      <td>...</td>\n",
              "      <td>2</td>\n",
              "      <td>2</td>\n",
              "      <td>0</td>\n",
              "      <td>3</td>\n",
              "      <td>2</td>\n",
              "      <td>1</td>\n",
              "      <td>1</td>\n",
              "      <td>0</td>\n",
              "      <td>0</td>\n",
              "      <td>1</td>\n",
              "    </tr>\n",
              "    <tr>\n",
              "      <th>9411</th>\n",
              "      <td>1</td>\n",
              "      <td>0</td>\n",
              "      <td>0</td>\n",
              "      <td>1</td>\n",
              "      <td>0</td>\n",
              "      <td>0</td>\n",
              "      <td>0</td>\n",
              "      <td>0</td>\n",
              "      <td>1</td>\n",
              "      <td>0</td>\n",
              "      <td>...</td>\n",
              "      <td>3</td>\n",
              "      <td>0</td>\n",
              "      <td>0</td>\n",
              "      <td>3</td>\n",
              "      <td>2</td>\n",
              "      <td>1</td>\n",
              "      <td>0</td>\n",
              "      <td>1</td>\n",
              "      <td>1</td>\n",
              "      <td>0</td>\n",
              "    </tr>\n",
              "    <tr>\n",
              "      <th>6449</th>\n",
              "      <td>0</td>\n",
              "      <td>0</td>\n",
              "      <td>1</td>\n",
              "      <td>1</td>\n",
              "      <td>0</td>\n",
              "      <td>0</td>\n",
              "      <td>0</td>\n",
              "      <td>0</td>\n",
              "      <td>1</td>\n",
              "      <td>0</td>\n",
              "      <td>...</td>\n",
              "      <td>3</td>\n",
              "      <td>2</td>\n",
              "      <td>0</td>\n",
              "      <td>2</td>\n",
              "      <td>2</td>\n",
              "      <td>2</td>\n",
              "      <td>0</td>\n",
              "      <td>1</td>\n",
              "      <td>1</td>\n",
              "      <td>0</td>\n",
              "    </tr>\n",
              "  </tbody>\n",
              "</table>\n",
              "<p>5 rows × 71 columns</p>\n",
              "</div>"
            ],
            "text/plain": [
              "      destination_1  destination_2  destination_3  passanger_1  passanger_2  \\\n",
              "9863              1              0              0            1            0   \n",
              "251               0              1              0            1            0   \n",
              "4949              0              1              0            1            0   \n",
              "9411              1              0              0            1            0   \n",
              "6449              0              0              1            1            0   \n",
              "\n",
              "      passanger_3  passanger_4  weather_1  weather_2  weather_3  ...  income  \\\n",
              "9863            0            0          1          0          0  ...       2   \n",
              "251             0            0          0          1          0  ...       0   \n",
              "4949            0            0          0          1          0  ...       2   \n",
              "9411            0            0          0          1          0  ...       3   \n",
              "6449            0            0          0          1          0  ...       3   \n",
              "\n",
              "      Bar  CoffeeHouse  CarryAway  RestaurantLessThan20  Restaurant20To50  \\\n",
              "9863    1            0          1                     1                 1   \n",
              "251     2            0          3                     2                 1   \n",
              "4949    2            0          3                     2                 1   \n",
              "9411    0            0          3                     2                 1   \n",
              "6449    2            0          2                     2                 2   \n",
              "\n",
              "      toCoupon_GEQ15min_1  toCoupon_GEQ15min_2  toCoupon_GEQ25min_1  \\\n",
              "9863                    1                    0                    1   \n",
              "251                     1                    0                    1   \n",
              "4949                    1                    0                    0   \n",
              "9411                    0                    1                    1   \n",
              "6449                    0                    1                    1   \n",
              "\n",
              "      toCoupon_GEQ25min_2  \n",
              "9863                    0  \n",
              "251                     0  \n",
              "4949                    1  \n",
              "9411                    0  \n",
              "6449                    0  \n",
              "\n",
              "[5 rows x 71 columns]"
            ]
          },
          "metadata": {},
          "output_type": "display_data"
        },
        {
          "data": {
            "text/plain": [
              "0.6826960977532519"
            ]
          },
          "metadata": {},
          "output_type": "display_data"
        },
        {
          "data": {
            "text/plain": [
              "0.6767836026803311"
            ]
          },
          "metadata": {},
          "output_type": "display_data"
        }
      ],
      "source": [
        "# Mixture Encoding \n",
        "# 1) One Hot Encoding + Ordianal Encoding with random value assignments for categories\n",
        "display(XTrain_mixture_random.head())\n",
        "lr.fit(XTrain_mixture_random, yTrain)\n",
        "mixture_random_valid_acc = accuracy_score(yValid, lr.predict(XValid_mixture_random))\n",
        "mixture_random_test_acc = accuracy_score(yTest, lr.predict(XTest_mixture_random))\n",
        "display(mixture_random_valid_acc, mixture_random_test_acc)\n",
        "\n",
        "# 2) Ordinal encoding with some order value assignment for categories \n",
        "display(XTrain_mixture.head())\n",
        "lr.fit(XTrain_mixture, yTrain)\n",
        "mixture_valid_acc = accuracy_score(yValid, lr.predict(XValid_mixture))\n",
        "mixture_test_acc = accuracy_score(yTest, lr.predict(XTest_mixture))\n",
        "display(mixture_valid_acc, mixture_test_acc)"
      ]
    },
    {
      "cell_type": "markdown",
      "metadata": {
        "id": "VlOKiLmkXIHR"
      },
      "source": [
        "<a name='3-3'></a>\n",
        "### 3.3 - Summary\n",
        "In this chapter, we select the features that is related to the coupon acception based on Chi-Square test. Then, we test the classification accuracy based on logistic regression to pick the best encoding style among one-hot encoding, ordinal encoding, mixture encoding. For mixture encoding, we also test the prior knowledge effect on accuracy. That means, we can assign values for catergories specifically or randomly. Though we got the highest accuracy on target encoding, it performs bad in neural networks. Ordinal encoding has the badest performance among those encodings. As for one hot encoding and mixture encoding, they both works well. The prior knowledge on value assigment in mixture encoding works as the increase accuracy. We also explores the embedded encoding and apply it to neural network, however, we can not apply it into other classical algorithms such as the logistic regression, naive bayes or SVM as the mismatch of shrinked records and y labels. Considering roubstness, applicalibity, accuracy, we will chose the mixture encoding with assign values for categories as our general encoding style for testing the performance of another models.\n",
        "\n"
      ]
    },
    {
      "cell_type": "markdown",
      "metadata": {
        "id": "s19k1Frxe92C"
      },
      "source": [
        "<a name = '4'></a>\n",
        "# 4 - Classifiaction Models\n",
        "This chapter will answer two quesitons: 1) which model is the best for coupon accption classification? The measure performance can accuracy, space complexity and time complexity. 2) How to tune parameters for models to acheive the best accuray?"
      ]
    },
    {
      "cell_type": "markdown",
      "metadata": {
        "id": "ZMpGs6Ole92D"
      },
      "source": [
        "<a name = '4-1'></a>\n",
        "### 4.1 - Logistic regression\n",
        "We manually implement the logistic regression with gradient descent in mixture encoding, then obtain the train, validation, test accurary as a baseline using some fixed parameters that is exactly the same as the default value in sklearn.linear_model.LogisticRegression package. Then, improve them on classification accuracy with different learning rates, tolerance, and maxIteration. Next, we validate the effectiveness of our manual code with tuned parameters compared to the accuray of LogisticRegression package. "
      ]
    },
    {
      "cell_type": "markdown",
      "metadata": {},
      "source": [
        "<a name = '4-1-1'></a>\n",
        "#### 4.1.1 - Manual implementation with Gradient Descent - baseline\n",
        "with fix parameters, learningRate = 0.00001, tolerance = 0.0001, maxIteration = 100, tolerance and maxIteration are same as the default values that sklearn.linear_model.LogisticRegression package provide."
      ]
    },
    {
      "cell_type": "code",
      "execution_count": 101,
      "metadata": {
        "id": "rZJSwrX21w-y"
      },
      "outputs": [],
      "source": [
        "class LogisticRegression:\n",
        "    \n",
        "    def __init__(self,data, learningRate = 0.00001, tolerance = 0.0001, maxIteration = 100):\n",
        "        self.data = data\n",
        "        self.tolerance = tolerance\n",
        "        self.maxIteration = maxIteration\n",
        "        self.learningRate = learningRate\n",
        "    \n",
        "    def splitData(self):\n",
        "\n",
        "        [X_train, y_train, X_valid, y_valid, X_test, y_test ] = self.data\n",
        "\n",
        "        return X_train, y_train, X_valid, y_valid, X_test, y_test \n",
        "\n",
        "    def add_x0(self, X):\n",
        "        return np.column_stack([np.ones([X.shape[0], 1]), X])\n",
        "        \n",
        "    def sigmoid(self,z):\n",
        "        sig = 1/(1+np.exp(-z))\n",
        "        return sig\n",
        "    \n",
        "    def costFunction(self, X, y):\n",
        "        pred_ =np.log(np.ones(X.shape[0])+np.exp(X.dot(self.w))) - X.dot(self.w).dot(y)\n",
        "        cost = pred_.sum( )\n",
        "        return cost\n",
        "    \n",
        "    def gradient(self,X,y):\n",
        "        sigmoid = self.sigmoid(X.dot(self.w))\n",
        "        grad = (sigmoid -y ).dot(X)\n",
        "        return grad\n",
        "    \n",
        "    def gradientDescent(self, X, y):\n",
        "        errors = []\n",
        "        last = float('inf')\n",
        "        \n",
        "        for i in range(self.maxIteration):\n",
        "            self.w = self.w - self.learningRate*self.gradient(X,y)\n",
        "            curr = self.costFunction(X,y)\n",
        "            \n",
        "            diff = last - curr\n",
        "            last - curr\n",
        "            \n",
        "            errors.append(curr)\n",
        "            \n",
        "            if diff < self.tolerance:\n",
        "                print(\"The model stopped Learning\")\n",
        "                break\n",
        "        # self.plot_cost(errors)\n",
        "        \n",
        "    def predict(self,X):\n",
        "        pred = self.sigmoid(X.dot(self.w))\n",
        "        return np.around(pred)\n",
        "        \n",
        "    def evaluate(self, y, y_hat):\n",
        "        \n",
        "        y = (y == 1)\n",
        "        y_hat = (y_hat == 1)\n",
        "        \n",
        "        accuracy = (y == y_hat).sum() / y.size\n",
        "        precision = (y & y_hat).sum() / y_hat.sum()\n",
        "        recall = (y & y_hat).sum() / y.sum()\n",
        "\n",
        "        # print(\"Accuracy is\", accuracy)\n",
        "        # print('Recall is', recall)\n",
        "        # print('precision is ', precision)\n",
        "        \n",
        "        return recall, precision, accuracy\n",
        "    \n",
        "    def fit(self):\n",
        "\n",
        "        X_train, y_train, X_valid, y_valid, X_test, y_test = self.splitData()\n",
        "        self.w = np.ones(X_train.shape[1], dtype = np.float64)*0\n",
        "        self.gradientDescent(X_train, y_train)\n",
        "        \n",
        "        #print(self.w)\n",
        "        \n",
        "        y_hat_train = self.predict(X_train)\n",
        "        recall, precision, accuracy = self.evaluate(y_train,y_hat_train)\n",
        "        return accuracy\n",
        "\n",
        "    def validation(self):\n",
        "        X_train, y_train, X_valid, y_valid, X_test, y_test = self.splitData()\n",
        "        y_hat_valid = self.predict(X_valid)\n",
        "        recall, precision, accuracy  = self.evaluate(y_valid, y_hat_valid)\n",
        "        return accuracy\n",
        "\n",
        "    def test(self):\n",
        "        X_train, y_train, X_valid, y_valid, X_test, y_test = self.splitData()\n",
        "        y_hat_test = self.predict(X_test)\n",
        "        recall, precision, accuracy  = self.evaluate(y_test, y_hat_test)\n",
        "        return accuracy"
      ]
    },
    {
      "cell_type": "code",
      "execution_count": 102,
      "metadata": {
        "id": "OYKUSfhpFvE3"
      },
      "outputs": [
        {
          "data": {
            "text/plain": [
              "0.5745072273324573"
            ]
          },
          "metadata": {},
          "output_type": "display_data"
        },
        {
          "data": {
            "text/plain": [
              "0.5581395348837209"
            ]
          },
          "metadata": {},
          "output_type": "display_data"
        },
        {
          "data": {
            "text/plain": [
              "0.5628695309420575"
            ]
          },
          "metadata": {},
          "output_type": "display_data"
        }
      ],
      "source": [
        "data = [XTrain_mixture, yTrain['Y'], XValid_mixture, yValid['Y'], XTest_mixture, yTest['Y']]\n",
        "# data = [XTrain_only_one_hot, yTrain['Y'], XValid_only_one_hot, yValid['Y'], XTest_only_one_hot, yTest['Y']]\n",
        "\n",
        "lr = LogisticRegression(data, learningRate = 0.0001, tolerance = 0.0001, maxIteration = 100)\n",
        "log_base_train_acc = lr.fit()\n",
        "log_base_valid_acc = lr.validation()\n",
        "log_base_test_acc = lr.test()\n",
        "display(log_base_train_acc, log_base_valid_acc, log_base_test_acc)"
      ]
    },
    {
      "cell_type": "markdown",
      "metadata": {},
      "source": [
        "<a name='4-1-2'></name>\n",
        "#### 4.1.2 -  Learning rate\n",
        "\n",
        "For loop learning_rate = [0.001, 0.005, 0.01, 0.1, 0.5], get the best one on validation accuracy. \n",
        "That is 0.1."
      ]
    },
    {
      "cell_type": "code",
      "execution_count": 103,
      "metadata": {
        "colab": {
          "base_uri": "https://localhost:8080/",
          "height": 169
        },
        "id": "4O7K3hdYFvt6",
        "outputId": "38e6ea33-9da7-4466-e227-97a5d58692c3"
      },
      "outputs": [
        {
          "name": "stdout",
          "output_type": "stream",
          "text": [
            "Accuracy for learnig rate 0.001000\n"
          ]
        },
        {
          "data": {
            "text/plain": [
              "0.5745072273324573"
            ]
          },
          "metadata": {},
          "output_type": "display_data"
        },
        {
          "data": {
            "text/plain": [
              "0.5581395348837209"
            ]
          },
          "metadata": {},
          "output_type": "display_data"
        },
        {
          "data": {
            "text/plain": [
              "0.5628695309420575"
            ]
          },
          "metadata": {},
          "output_type": "display_data"
        },
        {
          "name": "stdout",
          "output_type": "stream",
          "text": [
            "\n",
            "\n",
            "Accuracy for learnig rate 0.005000\n"
          ]
        },
        {
          "data": {
            "text/plain": [
              "0.5420499342969777"
            ]
          },
          "metadata": {},
          "output_type": "display_data"
        },
        {
          "data": {
            "text/plain": [
              "0.5545920378399685"
            ]
          },
          "metadata": {},
          "output_type": "display_data"
        },
        {
          "data": {
            "text/plain": [
              "0.5471028774142688"
            ]
          },
          "metadata": {},
          "output_type": "display_data"
        },
        {
          "name": "stdout",
          "output_type": "stream",
          "text": [
            "\n",
            "\n",
            "Accuracy for learnig rate 0.010000\n"
          ]
        },
        {
          "data": {
            "text/plain": [
              "0.4768725361366623"
            ]
          },
          "metadata": {},
          "output_type": "display_data"
        },
        {
          "data": {
            "text/plain": [
              "0.4903429247142294"
            ]
          },
          "metadata": {},
          "output_type": "display_data"
        },
        {
          "data": {
            "text/plain": [
              "0.4844304296413086"
            ]
          },
          "metadata": {},
          "output_type": "display_data"
        },
        {
          "name": "stdout",
          "output_type": "stream",
          "text": [
            "\n",
            "\n",
            "Accuracy for learnig rate 0.100000\n"
          ]
        },
        {
          "data": {
            "text/plain": [
              "0.5859395532194481"
            ]
          },
          "metadata": {},
          "output_type": "display_data"
        },
        {
          "data": {
            "text/plain": [
              "0.570752857705952"
            ]
          },
          "metadata": {},
          "output_type": "display_data"
        },
        {
          "data": {
            "text/plain": [
              "0.5715411903823413"
            ]
          },
          "metadata": {},
          "output_type": "display_data"
        },
        {
          "name": "stdout",
          "output_type": "stream",
          "text": [
            "\n",
            "\n",
            "Accuracy for learnig rate 0.500000\n"
          ]
        },
        {
          "data": {
            "text/plain": [
              "0.5788436268068331"
            ]
          },
          "metadata": {},
          "output_type": "display_data"
        },
        {
          "data": {
            "text/plain": [
              "0.5640520299566417"
            ]
          },
          "metadata": {},
          "output_type": "display_data"
        },
        {
          "data": {
            "text/plain": [
              "0.5668111943240047"
            ]
          },
          "metadata": {},
          "output_type": "display_data"
        },
        {
          "name": "stdout",
          "output_type": "stream",
          "text": [
            "\n",
            "\n"
          ]
        }
      ],
      "source": [
        "lrate = learning_rate = [0.001, 0.005, 0.01, 0.1, 0.5]\n",
        "for lrate in learning_rate:\n",
        "    lr = LogisticRegression(data, learningRate = lrate, tolerance = 0.0001, maxIteration = 100)\n",
        "    print('Accuracy for learnig rate %f' % lrate)\n",
        "    log_base_train_acc = lr.fit()\n",
        "    log_base_valid_acc = lr.validation()\n",
        "    log_base_test_acc = lr.test()\n",
        "    display(log_base_train_acc, log_base_valid_acc, log_base_test_acc)\n",
        "    print('\\n')"
      ]
    },
    {
      "cell_type": "markdown",
      "metadata": {
        "id": "ZxHNxu69F3mk"
      },
      "source": [
        "<a name='4-1-3'></a>\n",
        "#### 4.1.3 - Tolerance\n",
        "tol_list = [0.001, 0.005, 0.01, 0.1, 0.5], we choose 0.001"
      ]
    },
    {
      "cell_type": "code",
      "execution_count": 107,
      "metadata": {},
      "outputs": [
        {
          "name": "stdout",
          "output_type": "stream",
          "text": [
            "Accuracy for tolerance 0.001000\n"
          ]
        },
        {
          "data": {
            "text/plain": [
              "0.5859395532194481"
            ]
          },
          "metadata": {},
          "output_type": "display_data"
        },
        {
          "data": {
            "text/plain": [
              "0.570752857705952"
            ]
          },
          "metadata": {},
          "output_type": "display_data"
        },
        {
          "data": {
            "text/plain": [
              "0.5715411903823413"
            ]
          },
          "metadata": {},
          "output_type": "display_data"
        },
        {
          "name": "stdout",
          "output_type": "stream",
          "text": [
            "\n",
            "\n",
            "Accuracy for tolerance 0.005000\n"
          ]
        },
        {
          "data": {
            "text/plain": [
              "0.5859395532194481"
            ]
          },
          "metadata": {},
          "output_type": "display_data"
        },
        {
          "data": {
            "text/plain": [
              "0.570752857705952"
            ]
          },
          "metadata": {},
          "output_type": "display_data"
        },
        {
          "data": {
            "text/plain": [
              "0.5715411903823413"
            ]
          },
          "metadata": {},
          "output_type": "display_data"
        },
        {
          "name": "stdout",
          "output_type": "stream",
          "text": [
            "\n",
            "\n",
            "Accuracy for tolerance 0.010000\n"
          ]
        },
        {
          "data": {
            "text/plain": [
              "0.5859395532194481"
            ]
          },
          "metadata": {},
          "output_type": "display_data"
        },
        {
          "data": {
            "text/plain": [
              "0.570752857705952"
            ]
          },
          "metadata": {},
          "output_type": "display_data"
        },
        {
          "data": {
            "text/plain": [
              "0.5715411903823413"
            ]
          },
          "metadata": {},
          "output_type": "display_data"
        },
        {
          "name": "stdout",
          "output_type": "stream",
          "text": [
            "\n",
            "\n",
            "Accuracy for tolerance 0.100000\n"
          ]
        },
        {
          "data": {
            "text/plain": [
              "0.5859395532194481"
            ]
          },
          "metadata": {},
          "output_type": "display_data"
        },
        {
          "data": {
            "text/plain": [
              "0.570752857705952"
            ]
          },
          "metadata": {},
          "output_type": "display_data"
        },
        {
          "data": {
            "text/plain": [
              "0.5715411903823413"
            ]
          },
          "metadata": {},
          "output_type": "display_data"
        },
        {
          "name": "stdout",
          "output_type": "stream",
          "text": [
            "\n",
            "\n",
            "Accuracy for tolerance 0.500000\n"
          ]
        },
        {
          "data": {
            "text/plain": [
              "0.5859395532194481"
            ]
          },
          "metadata": {},
          "output_type": "display_data"
        },
        {
          "data": {
            "text/plain": [
              "0.570752857705952"
            ]
          },
          "metadata": {},
          "output_type": "display_data"
        },
        {
          "data": {
            "text/plain": [
              "0.5715411903823413"
            ]
          },
          "metadata": {},
          "output_type": "display_data"
        },
        {
          "name": "stdout",
          "output_type": "stream",
          "text": [
            "\n",
            "\n"
          ]
        }
      ],
      "source": [
        "lrate = 0.1\n",
        "tol_list = [0.001, 0.005, 0.01, 0.1, 0.5]\n",
        "for tol in tol_list:\n",
        "    lr = LogisticRegression(data, learningRate = lrate, tolerance = tol, maxIteration = 100)\n",
        "    print('Accuracy for tolerance %f' % tol)\n",
        "    log_base_train_acc = lr.fit()\n",
        "    log_base_valid_acc = lr.validation()\n",
        "    log_base_test_acc = lr.test()\n",
        "    display(log_base_train_acc, log_base_valid_acc, log_base_test_acc)\n",
        "    print('\\n')"
      ]
    },
    {
      "cell_type": "markdown",
      "metadata": {},
      "source": [
        "<a name='4-1-4'></a>\n",
        "#### 4.1.4 - Max Iteration\n",
        "max_Iterations = [100, 200, 500, 1000, 5000], we choose 1000"
      ]
    },
    {
      "cell_type": "code",
      "execution_count": 111,
      "metadata": {},
      "outputs": [
        {
          "name": "stdout",
          "output_type": "stream",
          "text": [
            "Accuracy for iter 100\n"
          ]
        },
        {
          "data": {
            "text/plain": [
              "0.5859395532194481"
            ]
          },
          "metadata": {},
          "output_type": "display_data"
        },
        {
          "data": {
            "text/plain": [
              "0.570752857705952"
            ]
          },
          "metadata": {},
          "output_type": "display_data"
        },
        {
          "data": {
            "text/plain": [
              "0.5715411903823413"
            ]
          },
          "metadata": {},
          "output_type": "display_data"
        },
        {
          "name": "stdout",
          "output_type": "stream",
          "text": [
            "\n",
            "\n",
            "Accuracy for iter 200\n"
          ]
        },
        {
          "data": {
            "text/plain": [
              "0.593035479632063"
            ]
          },
          "metadata": {},
          "output_type": "display_data"
        },
        {
          "data": {
            "text/plain": [
              "0.5758770201024832"
            ]
          },
          "metadata": {},
          "output_type": "display_data"
        },
        {
          "data": {
            "text/plain": [
              "0.5758770201024832"
            ]
          },
          "metadata": {},
          "output_type": "display_data"
        },
        {
          "name": "stdout",
          "output_type": "stream",
          "text": [
            "\n",
            "\n",
            "Accuracy for iter 500\n"
          ]
        },
        {
          "data": {
            "text/plain": [
              "0.60473061760841"
            ]
          },
          "metadata": {},
          "output_type": "display_data"
        },
        {
          "data": {
            "text/plain": [
              "0.5849428458809618"
            ]
          },
          "metadata": {},
          "output_type": "display_data"
        },
        {
          "data": {
            "text/plain": [
              "0.5841545132045723"
            ]
          },
          "metadata": {},
          "output_type": "display_data"
        },
        {
          "name": "stdout",
          "output_type": "stream",
          "text": [
            "\n",
            "\n",
            "Accuracy for iter 1000\n"
          ]
        },
        {
          "data": {
            "text/plain": [
              "0.6073587385019711"
            ]
          },
          "metadata": {},
          "output_type": "display_data"
        },
        {
          "data": {
            "text/plain": [
              "0.5908553409538826"
            ]
          },
          "metadata": {},
          "output_type": "display_data"
        },
        {
          "data": {
            "text/plain": [
              "0.5861253448955459"
            ]
          },
          "metadata": {},
          "output_type": "display_data"
        },
        {
          "name": "stdout",
          "output_type": "stream",
          "text": [
            "\n",
            "\n",
            "Accuracy for iter 5000\n"
          ]
        },
        {
          "data": {
            "text/plain": [
              "0.6081471747700394"
            ]
          },
          "metadata": {},
          "output_type": "display_data"
        },
        {
          "data": {
            "text/plain": [
              "0.5920378399684667"
            ]
          },
          "metadata": {},
          "output_type": "display_data"
        },
        {
          "data": {
            "text/plain": [
              "0.5904611746156878"
            ]
          },
          "metadata": {},
          "output_type": "display_data"
        },
        {
          "name": "stdout",
          "output_type": "stream",
          "text": [
            "\n",
            "\n"
          ]
        }
      ],
      "source": [
        "tol = 0.001\n",
        "max_Iterations = [100, 200, 500, 1000, 5000]\n",
        "for iter in max_Iterations:\n",
        "    lr = LogisticRegression(data, learningRate = lrate, tolerance = tol, maxIteration = iter)\n",
        "    print('Accuracy for iter %i' % iter)\n",
        "    log_base_train_acc = lr.fit()\n",
        "    log_base_valid_acc = lr.validation()\n",
        "    log_base_test_acc = lr.test()\n",
        "    display(log_base_train_acc, log_base_valid_acc, log_base_test_acc)\n",
        "    print('\\n')"
      ]
    },
    {
      "cell_type": "markdown",
      "metadata": {
        "id": "uqaNxiduF70t"
      },
      "source": [
        "#### 4.1.5 - Comparison with Pakage"
      ]
    },
    {
      "cell_type": "code",
      "execution_count": 113,
      "metadata": {},
      "outputs": [
        {
          "name": "stdout",
          "output_type": "stream",
          "text": [
            "Accuracy for best parameters, learning rate 0.100000, tolerance 0.001000, max iteration 1000\n"
          ]
        },
        {
          "data": {
            "text/plain": [
              "0.6073587385019711"
            ]
          },
          "metadata": {},
          "output_type": "display_data"
        },
        {
          "data": {
            "text/plain": [
              "0.5908553409538826"
            ]
          },
          "metadata": {},
          "output_type": "display_data"
        },
        {
          "data": {
            "text/plain": [
              "0.5861253448955459"
            ]
          },
          "metadata": {},
          "output_type": "display_data"
        },
        {
          "name": "stdout",
          "output_type": "stream",
          "text": [
            "\n",
            "\n"
          ]
        }
      ],
      "source": [
        "# Train, validation, test accuracy using manual implementation with tuned parameter values\n",
        "iter = 1000\n",
        "lr = LogisticRegression(data, learningRate = lrate, tolerance = tol, maxIteration = iter)\n",
        "print('Accuracy for best parameters, learning rate %f, tolerance %f, max iteration %i' % (lrate, tol, iter))\n",
        "log_train_acc = lr.fit()\n",
        "log_valid_acc = lr.validation()\n",
        "log_test_acc = lr.test()\n",
        "display(log_train_acc, log_valid_acc, log_test_acc)\n",
        "print('\\n')"
      ]
    },
    {
      "cell_type": "code",
      "execution_count": 114,
      "metadata": {},
      "outputs": [
        {
          "data": {
            "text/plain": [
              "0.6826960977532519"
            ]
          },
          "metadata": {},
          "output_type": "display_data"
        },
        {
          "data": {
            "text/plain": [
              "0.6767836026803311"
            ]
          },
          "metadata": {},
          "output_type": "display_data"
        }
      ],
      "source": [
        "# Validation, test accurary using LogistRegression Package with defalut parameter values\n",
        "display(mixture_valid_acc, mixture_test_acc)"
      ]
    },
    {
      "cell_type": "markdown",
      "metadata": {
        "id": "Ouki7sKJe92H"
      },
      "source": [
        "### 4.2 - Deep Neural Network"
      ]
    },
    {
      "cell_type": "markdown",
      "metadata": {
        "id": "T8mmfvIze92H"
      },
      "source": [
        "#### Just one layer -  Baseline"
      ]
    },
    {
      "cell_type": "code",
      "execution_count": null,
      "metadata": {
        "id": "f6xAPomce92H"
      },
      "outputs": [],
      "source": [
        "#  parameters\n",
        "num_epochs = 200\n",
        "batch_size = 128\n",
        "verbose = 1\n",
        "n_classes = 2\n",
        "n_hiddens = 128\n",
        "validation_split = 0.2\n",
        "\n",
        "# data \n",
        "x_train_neuron = XTrain_mixture\n",
        "y_train_neuron = yTrain\n",
        "x_test_neuron = XTest_mixture\n",
        "y_test_neuron = yTest\n",
        "print(x_train_neuron.shape, y_train_neuron.shape, x_test_neuron.shape, y_test_neuron.shape)\n",
        "\n",
        "# x_train_neuron.to_csv('clean_x_train.csv')\n",
        "# y_train_neuron.to_csv('clean_y_train.csv')\n",
        "# x_test_neuron.to_csv('clean_x_test.csv')\n",
        "# y_test_neuron.to_csv('clean_y_test.csv')\n",
        "\n",
        "# No need to change the data types, or normalizations and one hot encoding \n",
        "# for the target class\n",
        "\n",
        "# model\n",
        "model = tf.keras.models.Sequential()\n",
        "model.add(keras.layers.Dense(n_classes, input_shape=(x_train_neuron.shape[1],),\n",
        "            name = 'dense_layer', activation='softmax'))\n",
        "\n",
        "# compile the model\n",
        "model.compile(optimizer='SGD', loss='sparse_categorical_crossentropy', metrics=['accuracy'])\n",
        "\n",
        "# Train the model\n",
        "model.fit(x_train_neuron, y_train_neuron, batch_size=batch_size, epochs=num_epochs,\n",
        "            verbose=verbose, validation_split=validation_split)\n",
        "\n",
        "# Evaluate the model\n",
        "test_loss, test_acc = model.evaluate(x_test_neuron, y_test_neuron)\n",
        "print('Test accuracy: ', test_acc)\n"
      ]
    },
    {
      "cell_type": "markdown",
      "metadata": {
        "id": "NPRejrrwe92I"
      },
      "source": [
        "#### Add Hidden layers"
      ]
    },
    {
      "cell_type": "code",
      "execution_count": null,
      "metadata": {
        "id": "jYXqASTYe92I"
      },
      "outputs": [],
      "source": [
        "# model\n",
        "model = tf.keras.models.Sequential()\n",
        "\n",
        "model.add(keras.layers.Dense(n_hiddens, input_shape=(x_train_neuron.shape[1],), \n",
        "            name='dense_layer1', activation='relu'))\n",
        "\n",
        "model.add(keras.layers.Dense(n_hiddens,\n",
        "name='dense_layer_2', activation='relu'))\n",
        "\n",
        "model.add(keras.layers.Dense(n_classes,\n",
        "name='dense_layer_3', activation='softmax'))\n",
        "\n",
        "# Summary of the model.\n",
        "model.summary()\n",
        "\n",
        "# Compiling the model.\n",
        "model.compile(optimizer='SGD',\n",
        "loss='sparse_categorical_crossentropy',\n",
        "metrics=['accuracy'])\n",
        "\n",
        "# Training the model.\n",
        "model.fit(x_train_neuron, y_train_neuron, batch_size=batch_size, epochs=num_epochs,\n",
        "verbose=verbose, validation_split=validation_split)\n",
        "\n",
        "# Evaluating the model.\n",
        "test_loss, test_acc = model.evaluate(x_test_neuron, y_test_neuron)\n",
        "print('Test accuracy:', test_acc)\n"
      ]
    },
    {
      "cell_type": "markdown",
      "metadata": {
        "id": "bb1MP8dfe92I"
      },
      "source": [
        "#### Dropout to avoid overfitting"
      ]
    },
    {
      "cell_type": "code",
      "execution_count": null,
      "metadata": {
        "id": "stg8Z32Be92N"
      },
      "outputs": [],
      "source": [
        "# model\n",
        "Dropout = 0.3\n",
        "model = tf.keras.models.Sequential()\n",
        "\n",
        "model.add(keras.layers.Dense(n_hiddens, input_shape=(x_train_neuron.shape[1],), \n",
        "            name='dense_layer1', activation='relu'))\n",
        "\n",
        "model.add(keras.layers.Dropout(Dropout))\n",
        "\n",
        "model.add(keras.layers.Dense(n_hiddens,\n",
        "name='dense_layer_2', activation='relu'))\n",
        "\n",
        "model.add(keras.layers.Dropout(Dropout))\n",
        "\n",
        "model.add(keras.layers.Dense(n_classes,\n",
        "name='dense_layer_3', activation='softmax'))\n",
        "\n",
        "# Summary of the model.\n",
        "model.summary()\n",
        "\n",
        "# Compiling the model.\n",
        "model.compile(optimizer='SGD',\n",
        "loss='sparse_categorical_crossentropy',\n",
        "metrics=['accuracy'])\n",
        "\n",
        "# Training the model.\n",
        "model.fit(x_train_neuron, y_train_neuron, batch_size=batch_size, epochs=num_epochs,\n",
        "verbose=verbose, validation_split=validation_split)\n",
        "\n",
        "# Evaluating the model.\n",
        "test_loss, test_acc = model.evaluate(x_test_neuron, y_test_neuron)\n",
        "print('Test accuracy:', test_acc)\n"
      ]
    },
    {
      "cell_type": "markdown",
      "metadata": {
        "id": "1EtHAP5He92O"
      },
      "source": [
        "#### Different optimizers"
      ]
    },
    {
      "cell_type": "code",
      "execution_count": null,
      "metadata": {
        "id": "Z7I-m1G9e92O"
      },
      "outputs": [],
      "source": [
        "model.compile(optimizer='RMSProp',\n",
        "loss='sparse_categorical_crossentropy', metrics=['accuracy'])\n",
        "\n",
        "# Training the model.\n",
        "model.fit(x_train_neuron, y_train_neuron, batch_size=batch_size, epochs=num_epochs,\n",
        "verbose=verbose, validation_split=validation_split)\n",
        "\n",
        "# Evaluating the model.\n",
        "test_loss, test_acc = model.evaluate(x_test_neuron, y_test_neuron)\n",
        "print('Test accuracy:', test_acc)"
      ]
    },
    {
      "cell_type": "code",
      "execution_count": null,
      "metadata": {
        "id": "w2-n0pd2e92O"
      },
      "outputs": [],
      "source": [
        "model.compile(optimizer='Adam',\n",
        "loss='sparse_categorical_crossentropy', metrics=['accuracy'])\n",
        "\n",
        "# Training the model.\n",
        "model.fit(x_train_neuron, y_train_neuron, batch_size=batch_size, epochs=num_epochs,\n",
        "verbose=verbose, validation_split=validation_split)\n",
        "\n",
        "# Evaluating the model.\n",
        "test_loss, test_acc = model.evaluate(x_test_neuron, y_test_neuron)\n",
        "print('Test accuracy:', test_acc)"
      ]
    },
    {
      "cell_type": "code",
      "execution_count": null,
      "metadata": {
        "id": "CqjhPXsZe92P"
      },
      "outputs": [],
      "source": [
        "#### Number of Dropout\n",
        "# model\n",
        "optimizer='RMSProp'\n",
        "Dropout = [0.1, 0.2, 0.3, 0.4, 0.5]\n",
        "\n",
        "\n",
        "for dp in Dropout:\n",
        "    model = tf.keras.models.Sequential()\n",
        "    model.add(keras.layers.Dense(n_hiddens, input_shape=(x_train_neuron.shape[1],), \n",
        "                name='dense_layer1', activation='relu'))\n",
        "\n",
        "    model.add(keras.layers.Dropout(dp))\n",
        "\n",
        "    model.add(keras.layers.Dense(n_hiddens,\n",
        "    name='dense_layer_2', activation='relu'))\n",
        "\n",
        "    model.add(keras.layers.Dropout(dp))\n",
        "\n",
        "    model.add(keras.layers.Dense(n_classes,\n",
        "    name='dense_layer_3', activation='softmax'))\n",
        "\n",
        "    # Summary of the model.\n",
        "    model.summary()\n",
        "\n",
        "    # Compiling the model.\n",
        "    model.compile(optimizer=optimizer,\n",
        "    loss='sparse_categorical_crossentropy',\n",
        "    metrics=['accuracy'])\n",
        "\n",
        "    # Training the model.\n",
        "    model.fit(x_train_neuron, y_train_neuron, batch_size=batch_size, epochs=num_epochs,\n",
        "    verbose=verbose, validation_split=validation_split)\n",
        "\n",
        "    # Evaluating the model.\n",
        "    test_loss, test_acc = model.evaluate(x_test_neuron, y_test_neuron)\n",
        "    print(\"This is for dropout with a value of %.2f\" % dp)\n",
        "    print('Test accuracy:', test_acc)"
      ]
    },
    {
      "cell_type": "markdown",
      "metadata": {
        "id": "NqbB-ik7e92P"
      },
      "source": [
        "#### Number of epoches"
      ]
    },
    {
      "cell_type": "code",
      "execution_count": null,
      "metadata": {
        "id": "8aVOwTlae92P"
      },
      "outputs": [],
      "source": [
        "num_epoches = [25, 50, 100, 200, 300]\n",
        "dp = 0.5\n",
        "\n",
        "for epoch in num_epoches:\n",
        "    model = tf.keras.models.Sequential()\n",
        "    model.add(keras.layers.Dense(n_hiddens, input_shape=(x_train_neuron.shape[1],), \n",
        "                name='dense_layer1', activation='relu'))\n",
        "\n",
        "    model.add(keras.layers.Dropout(dp))\n",
        "\n",
        "    model.add(keras.layers.Dense(n_hiddens,\n",
        "    name='dense_layer_2', activation='relu'))\n",
        "\n",
        "    model.add(keras.layers.Dropout(dp))\n",
        "\n",
        "    model.add(keras.layers.Dense(n_classes,\n",
        "    name='dense_layer_3', activation='softmax'))\n",
        "\n",
        "    # Summary of the model.\n",
        "    model.summary()\n",
        "\n",
        "    # Compiling the model.\n",
        "    model.compile(optimizer=optimizer,\n",
        "    loss='sparse_categorical_crossentropy',\n",
        "    metrics=['accuracy'])\n",
        "\n",
        "    # Training the model.\n",
        "    model.fit(x_train_neuron, y_train_neuron, batch_size=batch_size, epochs=epoch,\n",
        "    verbose=verbose, validation_split=validation_split)\n",
        "\n",
        "    # Evaluating the model.\n",
        "    test_loss, test_acc = model.evaluate(x_test_neuron, y_test_neuron)\n",
        "    print(\"This is for epoch with a value of %i\" % epoch)\n",
        "    print('Test accuracy:', test_acc)"
      ]
    },
    {
      "cell_type": "markdown",
      "metadata": {
        "id": "WqTJn8wie92Q"
      },
      "source": [
        "#### Number of batch size"
      ]
    },
    {
      "cell_type": "code",
      "execution_count": null,
      "metadata": {
        "id": "Psq5s1GXe92Q"
      },
      "outputs": [],
      "source": [
        "batch_size = [32, 64, 128, 256, 512]\n",
        "epoch = 200\n",
        "\n",
        "for bp in batch_size:\n",
        "    model = tf.keras.models.Sequential()\n",
        "    model.add(keras.layers.Dense(n_hiddens, input_shape=(x_train_neuron.shape[1],), \n",
        "                name='dense_layer1', activation='relu'))\n",
        "\n",
        "    model.add(keras.layers.Dropout(dp))\n",
        "\n",
        "    model.add(keras.layers.Dense(n_hiddens,\n",
        "    name='dense_layer_2', activation='relu'))\n",
        "\n",
        "    model.add(keras.layers.Dropout(dp))\n",
        "\n",
        "    model.add(keras.layers.Dense(n_classes,\n",
        "    name='dense_layer_3', activation='softmax'))\n",
        "\n",
        "    # Summary of the model.\n",
        "    model.summary()\n",
        "\n",
        "    # Compiling the model.\n",
        "    model.compile(optimizer=optimizer,\n",
        "    loss='sparse_categorical_crossentropy',\n",
        "    metrics=['accuracy'])\n",
        "\n",
        "    # Training the model.\n",
        "    model.fit(x_train_neuron, y_train_neuron, batch_size=bp, epochs=epoch,\n",
        "    verbose=verbose, validation_split=validation_split)\n",
        "\n",
        "    # Evaluating the model.\n",
        "    test_loss, test_acc = model.evaluate(x_test_neuron, y_test_neuron)\n",
        "    print(\"This is for batch size with a value of %i\" % bp)\n",
        "    print('Test accuracy:', test_acc)"
      ]
    },
    {
      "cell_type": "markdown",
      "metadata": {
        "id": "s7DlfhALe92Q"
      },
      "source": [
        "#### Learning Rate"
      ]
    },
    {
      "cell_type": "code",
      "execution_count": null,
      "metadata": {
        "id": "mOnjjjFCe92Q"
      },
      "outputs": [],
      "source": [
        "bp = 512\n",
        "learning_rate = [0.001, 0.005, 0.01, 0.1, 0.5]\n",
        "\n",
        "for lrate in learning_rate:\n",
        "    model = tf.keras.models.Sequential()\n",
        "    model.add(keras.layers.Dense(n_hiddens, input_shape=(x_train_neuron.shape[1],), \n",
        "                name='dense_layer1', activation='relu'))\n",
        "\n",
        "    model.add(keras.layers.Dropout(dp))\n",
        "\n",
        "    model.add(keras.layers.Dense(n_hiddens,\n",
        "    name='dense_layer_2', activation='relu'))\n",
        "\n",
        "    model.add(keras.layers.Dropout(dp))\n",
        "\n",
        "    model.add(keras.layers.Dense(n_classes,\n",
        "    name='dense_layer_3', activation='softmax'))\n",
        "\n",
        "    # Summary of the model.\n",
        "    model.summary()\n",
        "\n",
        "    # Compiling the model.\n",
        "    model.compile(optimizer=optimizer,\n",
        "    loss='sparse_categorical_crossentropy',\n",
        "    metrics=['accuracy'])\n",
        "\n",
        "    # Training the model.\n",
        "    model.fit(x_train_neuron, y_train_neuron, batch_size=bp, epochs=epoch,\n",
        "    verbose=verbose, validation_split=validation_split)\n",
        "\n",
        "    # Evaluating the model.\n",
        "    test_loss, test_acc = model.evaluate(x_test_neuron, y_test_neuron)\n",
        "    print(\"This is for learning rate with a value of %.2f\" % lrate)\n",
        "    print('Test accuracy:', test_acc)"
      ]
    },
    {
      "cell_type": "markdown",
      "metadata": {
        "id": "9UFJ5UHNe92R"
      },
      "source": [
        "#### Number of hidden neurons"
      ]
    },
    {
      "cell_type": "code",
      "execution_count": null,
      "metadata": {
        "id": "dqCDJuxce92R"
      },
      "outputs": [],
      "source": [
        "lrate = 0.001\n",
        "n_hiddens = [128, 256, 512, 1024, 2048]\n",
        "for n_hidden in n_hiddens:\n",
        "    model = tf.keras.models.Sequential()\n",
        "    model.add(keras.layers.Dense(n_hidden, input_shape=(x_train_neuron.shape[1],), \n",
        "                name='dense_layer1', activation='relu'))\n",
        "\n",
        "    model.add(keras.layers.Dropout(dp))\n",
        "\n",
        "    model.add(keras.layers.Dense(n_hidden,\n",
        "    name='dense_layer_2', activation='relu'))\n",
        "\n",
        "    model.add(keras.layers.Dropout(dp))\n",
        "\n",
        "    model.add(keras.layers.Dense(n_classes,\n",
        "    name='dense_layer_3', activation='softmax'))\n",
        "\n",
        "    # Summary of the model.\n",
        "    model.summary()\n",
        "\n",
        "    # Compiling the model.\n",
        "    model.compile(optimizer=optimizer,\n",
        "    loss='sparse_categorical_crossentropy',\n",
        "    metrics=['accuracy'])\n",
        "\n",
        "    # Training the model.\n",
        "    model.fit(x_train_neuron, y_train_neuron, batch_size=bp, epochs=epoch,\n",
        "    verbose=verbose, validation_split=validation_split)\n",
        "\n",
        "    # Evaluating the model.\n",
        "    test_loss, test_acc = model.evaluate(x_test_neuron, y_test_neuron)\n",
        "    print(\"This is for number of hidden layers with a value of %.2f\" % n_hidden)\n",
        "    print('Test accuracy:', test_acc)"
      ]
    },
    {
      "cell_type": "markdown",
      "metadata": {
        "id": "eRYiiDlGe92R"
      },
      "source": [
        "#### Regularization"
      ]
    },
    {
      "cell_type": "code",
      "execution_count": null,
      "metadata": {
        "id": "_xee3Tp9rL8Z"
      },
      "outputs": [],
      "source": [
        "    n_hidden = 512\n",
        "    ltype = ['l1', 'l2']\n",
        "    \n",
        "    for l in ltype:\n",
        "      model = tf.keras.models.Sequential()\n",
        "      model.add(keras.layers.Dense(n_hidden, input_shape=(x_train_neuron.shape[1],), \n",
        "                  name='dense_layer1', activation='relu', kernel_regularizer=l))\n",
        "\n",
        "      model.add(keras.layers.Dropout(dp))\n",
        "\n",
        "      model.add(keras.layers.Dense(n_hidden,\n",
        "      name='dense_layer_2', activation='relu', kernel_regularizer=l))\n",
        "  \n",
        "      model.add(keras.layers.Dropout(dp))\n",
        "\n",
        "      model.add(keras.layers.Dense(n_classes,\n",
        "      name='dense_layer_3', activation='softmax',kernel_regularizer=l))\n",
        "\n",
        "      # Summary of the model.\n",
        "      model.summary()\n",
        "\n",
        "      # Compiling the model.\n",
        "      model.compile(optimizer=optimizer,\n",
        "      loss='sparse_categorical_crossentropy',\n",
        "      metrics=['accuracy'])\n",
        "\n",
        "      # Training the model.\n",
        "      model.fit(x_train_neuron, y_train_neuron, batch_size=bp, epochs=epoch,\n",
        "      verbose=verbose, validation_split=validation_split)\n",
        "\n",
        "      # Evaluating the model.\n",
        "      test_loss, test_acc = model.evaluate(x_test_neuron, y_test_neuron)\n",
        "      print(\"This is for learning rate with a value of %i\" % lrate)\n",
        "      print('Test accuracy:', test_acc)"
      ]
    },
    {
      "cell_type": "markdown",
      "metadata": {
        "id": "MHi9h-3ZC0r-"
      },
      "source": [
        "Keras Grid Search"
      ]
    },
    {
      "cell_type": "code",
      "execution_count": null,
      "metadata": {
        "id": "xrFCppjACSyu"
      },
      "outputs": [],
      "source": [
        "from sklearn.pipeline import Pipeline\n",
        "from sklearn.model_selection import GridSearchCV\n",
        "from keras.layers import Dense, Input, Dropout\n",
        "from keras import Sequential\n",
        "from keras.wrappers.scikit_learn import KerasClassifier\n",
        "from sklearn.model_selection import StratifiedKFold\n",
        "from sklearn.preprocessing import PolynomialFeatures\n",
        "from sklearn.preprocessing import StandardScaler\n",
        "\n",
        "def create_model(optimizer='adam',\n",
        "                 dropout=0.1):\n",
        "    model = Sequential()\n",
        "    model.add(Dense(20,activation='relu'))\n",
        "    model.add(Dropout(dropout))\n",
        "    model.add(Dense(1,activation='sigmoid'))\n",
        "    model.compile(loss='categorical_crossentropy',optimizer=optimizer,\n",
        "    metrics=['accuracy'])\n",
        "    return model\n",
        "estimators = []\n",
        "estimators.append(('pf', PolynomialFeatures(interaction_only=True,\n",
        "                                            include_bias=False)))\n",
        "estimators.append(('ss', StandardScaler()))\n",
        "estimators.append(('nn', KerasClassifier(build_fn=create_model, epochs=10, batch_size=5, verbose=0)))\n",
        "nn_pipe = Pipeline(estimators)\n",
        "nn_param_grid = {\n",
        "    'nn__epochs': [50, 100, 150, 250],\n",
        "    'nn__batch_size':[1000, 3000, 5000]\n",
        "}"
      ]
    },
    {
      "cell_type": "code",
      "execution_count": null,
      "metadata": {
        "id": "MryovylWCXPo"
      },
      "outputs": [],
      "source": [
        "X_train = pd.read_csv(r\"D:\\Northeastern Semester 1\\Projects\\ml_project\\Data_Set\\x_train_encode.csv\")\n",
        "X_test = pd.read_csv(r\"D:\\Northeastern Semester 1\\Projects\\ml_project\\Data_Set\\x_test_encode.csv\")\n",
        "y_train = pd.read_csv(r\"D:\\Northeastern Semester 1\\Projects\\ml_project\\Data_Set\\y_train_encode.csv\")\n",
        "y_test = pd.read_csv(r\"D:\\Northeastern Semester 1\\Projects\\ml_project\\Data_Set\\y_test_encode.csv\")\n",
        "y_train.drop(columns = ['Unnamed: 0'], axis = 1, inplace = True)\n",
        "y_test.drop(columns = ['Unnamed: 0'], axis = 1, inplace = True)\n",
        "gs_nn = GridSearchCV(nn_pipe, nn_param_grid,\n",
        "                     verbose=0, cv=3)\n",
        "gs_nn.fit(X_train, y_train)"
      ]
    },
    {
      "cell_type": "markdown",
      "metadata": {
        "id": "2yFRWnbE6Pd3"
      },
      "source": [
        "### 4.3 - Support Vector Machine (SVM)"
      ]
    },
    {
      "cell_type": "markdown",
      "metadata": {
        "id": "24stjgDkTOQD"
      },
      "source": [
        "#### Hard-Margin SVM"
      ]
    },
    {
      "cell_type": "code",
      "execution_count": null,
      "metadata": {
        "id": "ua2FnNGuzS0i"
      },
      "outputs": [],
      "source": [
        "files.upload()\n",
        "from svm_utils import *\n",
        "from scipy import optimize\n",
        "import seaborn as sns"
      ]
    },
    {
      "cell_type": "code",
      "execution_count": null,
      "metadata": {
        "id": "SiJI-D4Xi1Xc"
      },
      "outputs": [],
      "source": [
        "x_train_svm = np.asarray(x_train_neuron)\n",
        "y_train_svm = np.asarray(np.squeeze(y_train_neuron))\n",
        "x_test_svm = np.asarray(x_test_neuron)\n",
        "y_test_svm = np.asarray(np.squeeze(y_test_neuron))\n",
        "y_train_svm = np.where(y_train_svm==0, -1, 1)\n",
        "y_test_svm = np.where(y_test_svm==0, -1, 1)\n",
        "\n",
        "print(x_train_svm.shape, y_train_svm.shape, x_test_svm.shape, y_test_svm.shape)\n",
        "y_train_svm"
      ]
    },
    {
      "cell_type": "code",
      "execution_count": null,
      "metadata": {
        "id": "PSBrFuEcZ65k"
      },
      "outputs": [],
      "source": [
        "class SVM:\n",
        "    def __init__(self, learningRate=0.0001, lambda_=0.001, nIterations=1000):\n",
        "        self.learningRate = learningRate\n",
        "        self.lambda_ = lambda_\n",
        "        self.nIterations = nIterations\n",
        "        \n",
        "    def fit(self, X, y):\n",
        "        nSamples, nFeatures = X.shape\n",
        "        self.w = np.zeros(nFeatures)\n",
        "        self.b = 0\n",
        "        \n",
        "        # Gradient Descent\n",
        "        # Cost function\n",
        "            # \n",
        "        # Gradient\n",
        "            # y_i*(wx_i + b) >= 1, then d_w = 2*lambda_*w \n",
        "            # otherwise, then d_w = 2*lambda_*w - y_i*x_i,  d_b = -y_i\n",
        "        for i in range(self.nIterations):\n",
        "            for idx, x_i in enumerate(X):\n",
        "                condtions = y[idx] * np.dot(self.w, x_i + self.b)\n",
        "                if condtions >= 1:\n",
        "                    # only for w\n",
        "                    self.w = self.w -self.learningRate * (2 * self.lambda_ * self.w)\n",
        "                else:\n",
        "                    # update both w and b\n",
        "                    self.w = self.w -self.learningRate * (2 * self.lambda_ * self.w - np.dot(y[idx], x_i))\n",
        "                    self.b = self.b - self.learningRate * (-y[idx])\n",
        "    \n",
        "    def predict(self, X):\n",
        "        pred_ = np.dot(X, self.w) + self.b\n",
        "        return np.sign(pred_)"
      ]
    },
    {
      "cell_type": "code",
      "execution_count": null,
      "metadata": {
        "id": "mrV0R7O_uFiW"
      },
      "outputs": [],
      "source": [
        "clf = SVM()\n",
        "clf.fit(x_train_svm, y_train_svm)"
      ]
    },
    {
      "cell_type": "code",
      "execution_count": null,
      "metadata": {
        "id": "m_Kx6KSJuv4M"
      },
      "outputs": [],
      "source": [
        "clf.w"
      ]
    },
    {
      "cell_type": "code",
      "execution_count": null,
      "metadata": {
        "id": "WQCiaSJSux_W"
      },
      "outputs": [],
      "source": [
        "clf.b"
      ]
    },
    {
      "cell_type": "code",
      "execution_count": null,
      "metadata": {
        "id": "gZCzuV2k2I0E"
      },
      "outputs": [],
      "source": [
        "clf.predict(x_test_svm)"
      ]
    },
    {
      "cell_type": "code",
      "execution_count": null,
      "metadata": {
        "id": "kwLrb8YkOBx0"
      },
      "outputs": [],
      "source": [
        "accuracy = np.sum(clf.predict(x_test_svm) == y_test_svm) / np.size(y_test_svm)\n",
        "accuracy"
      ]
    },
    {
      "cell_type": "markdown",
      "metadata": {
        "id": "4rJLZhYPTWNC"
      },
      "source": [
        "#### Soft-Margin SVM"
      ]
    },
    {
      "cell_type": "code",
      "execution_count": null,
      "metadata": {
        "id": "TULnQYSvTZa8"
      },
      "outputs": [],
      "source": [
        "class SoftSVM:\n",
        "    def __init__(self, C):\n",
        "        self.C = C\n",
        "        self.w = None\n",
        "        self.b = None\n",
        "        self.supportVectors = None\n",
        "        \n",
        "    def fit(self, X, y):\n",
        "        N = len(y)\n",
        "        \n",
        "        # Gram matrix of X, y\n",
        "        Xy = X * y[:, np.newaxis]\n",
        "        \n",
        "        # Same as np.dot(Xy, Xy.T)\n",
        "        # Same as Xy.dot(Xy.T)\n",
        "        GramXy = np.matmul(Xy, Xy.T)\n",
        "        \n",
        "        \n",
        "        # Define cost function\n",
        "        def Ld0(G, alpha):\n",
        "            obj_fn = alpha.sum() - 1/2 * alpha.dot(alpha.dot(G))\n",
        "            return obj_fn\n",
        "        \n",
        "        def particalDerivationLd0(G, alpha):\n",
        "            par_der = np.ones_like(alpha) - alpha.dot(G)\n",
        "            return par_der\n",
        "        \n",
        "        alpha = np.ones(N)\n",
        "        A = np.vstack((-np.eye(N), np.eye(N)))\n",
        "        b = np.concatenate((np.zeros(N), self.C * np.ones(N)))\n",
        "        \n",
        "        constraints = ({'type': 'eq', 'fun': lambda a: np.dot(a, y), 'jac': lambda a: y},\n",
        "                      {'type': 'ineq', 'fun': lambda a: b - np.dot(A, a), 'jac': lambda a: -A})\n",
        "        \n",
        "        optRes = optimize.minimize(fun = lambda a: -Ld0(GramXy, a),\n",
        "                                  x0 = alpha,\n",
        "                                  method = 'SLSQP', \n",
        "                                  jac = lambda a: -particalDerivationLd0(GramXy, a),\n",
        "                                  constraints = constraints)\n",
        "        \n",
        "        self.alpha = optRes.x\n",
        "        \n",
        "        # find w and b\n",
        "        self.w = np.sum((self.alpha[:, np.newaxis] * Xy), axis = 0)\n",
        "        epsilon = 1e-4\n",
        "        self.supportVectors = X[self.alpha > epsilon]\n",
        "        self.supportLabels = y[self.alpha > epsilon]\n",
        "        \n",
        "        b = []\n",
        "        for i in range(len(self.supportLabels)):\n",
        "            b_i = self.supportLabels[i] - np.matmul(self.supportVectors[i].T, self.w)\n",
        "            b.append(b_i)\n",
        "        self.b = sum(b) / len(b)    \n",
        "        \n",
        "    def predict(self, X):\n",
        "  #         pred = np.dot(X, w) + b\n",
        "  #         if pred > 0:\n",
        "  #             return 1\n",
        "  #         else:\n",
        "  #             return -1\n",
        "        return 2*(np.matmul(X, self.w) + b > 0) - 1"
      ]
    },
    {
      "cell_type": "code",
      "execution_count": null,
      "metadata": {
        "id": "i1yYHLgbuoWg"
      },
      "outputs": [],
      "source": [
        "model = SoftSVM(C=5)\n",
        "model.fit(x_train_svm, y_train_svm)"
      ]
    }
  ],
  "metadata": {
    "accelerator": "GPU",
    "colab": {
      "collapsed_sections": [],
      "name": "EDA & Models.ipynb",
      "provenance": [],
      "toc_visible": true
    },
    "gpuClass": "standard",
    "kernelspec": {
      "display_name": "Python 3.9.1 ('base')",
      "language": "python",
      "name": "python3"
    },
    "language_info": {
      "codemirror_mode": {
        "name": "ipython",
        "version": 3
      },
      "file_extension": ".py",
      "mimetype": "text/x-python",
      "name": "python",
      "nbconvert_exporter": "python",
      "pygments_lexer": "ipython3",
      "version": "3.9.1"
    },
    "vscode": {
      "interpreter": {
        "hash": "af8259ad5c1c9c7a69bd6ea085234cf8fd3a6a37a71ca551828b314c4d89b0ad"
      }
    }
  },
  "nbformat": 4,
  "nbformat_minor": 0
}
