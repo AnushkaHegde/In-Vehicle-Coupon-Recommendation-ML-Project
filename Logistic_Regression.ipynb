{
 "cells": [
  {
   "cell_type": "code",
   "execution_count": 1,
   "metadata": {},
   "outputs": [],
   "source": [
    "import pandas as pd\n",
    "import numpy as np\n",
    "import math\n",
    "from sklearn.model_selection import train_test_split\n",
    "from tqdm import tqdm"
   ]
  },
  {
   "cell_type": "code",
   "execution_count": 3,
   "metadata": {},
   "outputs": [
    {
     "ename": "SyntaxError",
     "evalue": "unexpected EOF while parsing (1830902685.py, line 8)",
     "output_type": "error",
     "traceback": [
      "\u001b[1;36m  File \u001b[1;32m\"C:\\Users\\Hemant\\AppData\\Local\\Temp\\ipykernel_5464\\1830902685.py\"\u001b[1;36m, line \u001b[1;32m8\u001b[0m\n\u001b[1;33m    \u001b[0m\n\u001b[1;37m    ^\u001b[0m\n\u001b[1;31mSyntaxError\u001b[0m\u001b[1;31m:\u001b[0m unexpected EOF while parsing\n"
     ]
    }
   ],
   "source": [
    "class LogisitcRegression:\n",
    "\n",
    "    def __init__(self, tolerance, maxIteration, alpha)-> None:\n",
    "        self.alpha = alpha\n",
    "        self.maxIteration = maxIteration\n",
    "        self.tolerance = tolerance\n",
    "\n",
    "\n",
    "    def load_dataset(self, df):\n",
    "\n",
    "        X = df.iloc[:,:-1]\n",
    "        y = df.iloc[:,-1]  \n",
    "\n",
    "        X_train, X_test, y_train, y_test = train_test_split(X, y, test_size= 0.3, random_state= 42)\n",
    "\n",
    "        return X_train, X_test, y_train, y_test\n",
    "\n",
    "    def add_column(self, X):\n",
    "\n",
    "        return np.column_stack([np.ones(X.shape[0],1),X])\n",
    "\n",
    "    def sigmoid(self, z):\n",
    "        y_val = 1/(1+np.exp(-z))\n",
    "        return y_val\n",
    "\n",
    "    def cost(self, X, y):\n",
    "\n",
    "        sig = self.sigmoid(np.dot(X,self.w))\n",
    "        loss = y*np.log(y_val) +(1-y)*np.log(1-y_val)\n",
    "        cost = -loss.sum()\n",
    "\n",
    "        return cost\n",
    "\n",
    "    \n",
    "    def gradient(self, X, y):\n",
    "\n",
    "        y_val = self.sigmoid(np.dot(X,self.w))\n",
    "        grad = np.dot((y_val -y), X)\n",
    "        return grad\n",
    "\n",
    "    def gradientdescent(self, X, y):\n",
    "\n",
    "        errors = []\n",
    "        currE = float('inf')\n",
    "\n",
    "        for i in tqdm(range(self.maxIteration)):\n",
    "\n",
    "            self.w = self.w = self.alpha*self.gradient(X,y) #weights\n",
    "            err = self.cost(X,y) #current error\n",
    "            diff = currE - err #error difference\n",
    "            currE = err\n",
    "\n",
    "            errors.append(err)\n",
    "\n",
    "            if diff < self.tolerance:\n",
    "                print('Model stops')\n",
    "                break\n",
    "\n",
    "            return\n",
    "\n",
    "    \n",
    "    def fit(self):\n",
    "\n",
    "        X_train, X_test, y_train, y_test = self.load_dataset()\n",
    "\n",
    "        \n",
    "\n",
    "    \n",
    "            \n",
    "\n",
    "\n",
    "\n",
    "\n",
    "\n"
   ]
  },
  {
   "cell_type": "code",
   "execution_count": null,
   "metadata": {},
   "outputs": [],
   "source": []
  }
 ],
 "metadata": {
  "kernelspec": {
   "display_name": "Python 3.7.6 64-bit",
   "language": "python",
   "name": "python3"
  },
  "language_info": {
   "codemirror_mode": {
    "name": "ipython",
    "version": 3
   },
   "file_extension": ".py",
   "mimetype": "text/x-python",
   "name": "python",
   "nbconvert_exporter": "python",
   "pygments_lexer": "ipython3",
   "version": "3.7.6"
  },
  "orig_nbformat": 4,
  "vscode": {
   "interpreter": {
    "hash": "6b8e6af7e1c800dc5745a28ff6ca8872762767d15c22a299591d50db6a7acdf6"
   }
  }
 },
 "nbformat": 4,
 "nbformat_minor": 2
}
